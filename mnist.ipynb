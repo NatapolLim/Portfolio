{
 "cells": [
  {
   "cell_type": "code",
   "execution_count": 1,
   "metadata": {},
   "outputs": [],
   "source": [
    "import tensorflow as tf\n",
    "import tensorflow_datasets as tfds"
   ]
  },
  {
   "cell_type": "code",
   "execution_count": 2,
   "metadata": {},
   "outputs": [],
   "source": [
    "(ds_train, ds_test), ds_info = tfds.load(\"mnist\",\n",
    "split=['train','test'],\n",
    "shuffle_files=True,\n",
    "as_supervised=True,\n",
    "with_info=True)"
   ]
  },
  {
   "cell_type": "code",
   "execution_count": 3,
   "metadata": {},
   "outputs": [],
   "source": [
    "def normalize_img(image, label):\n",
    "    return tf.cast(image, tf.float32)/255 ,label\n",
    "\n",
    "ds_train = ds_train.map(normalize_img, num_parallel_calls=tf.data.AUTOTUNE)\n",
    "ds_train = ds_train.cache()\n",
    "ds_train = ds_train.shuffle(ds_info.splits['train'].num_examples)\n",
    "ds_train = ds_train.batch(128)\n",
    "ds_train = ds_train.prefetch(tf.data.AUTOTUNE)"
   ]
  },
  {
   "cell_type": "code",
   "execution_count": 4,
   "metadata": {},
   "outputs": [],
   "source": [
    "ds_test = ds_test.map(\n",
    "    normalize_img, num_parallel_calls=tf.data.AUTOTUNE)\n",
    "ds_test = ds_test.batch(128)\n",
    "ds_test = ds_test.cache()\n",
    "ds_test = ds_test.prefetch(tf.data.AUTOTUNE)"
   ]
  },
  {
   "cell_type": "code",
   "execution_count": 5,
   "metadata": {},
   "outputs": [
    {
     "name": "stdout",
     "output_type": "stream",
     "text": [
      "Epoch 1/6\n",
      "469/469 [==============================] - 7s 7ms/step - loss: 0.3594 - sparse_categorical_accuracy: 0.9011 - val_loss: 0.2004 - val_sparse_categorical_accuracy: 0.9458\n",
      "Epoch 2/6\n",
      "469/469 [==============================] - 3s 6ms/step - loss: 0.1673 - sparse_categorical_accuracy: 0.9523 - val_loss: 0.1442 - val_sparse_categorical_accuracy: 0.9582\n",
      "Epoch 3/6\n",
      "469/469 [==============================] - 3s 6ms/step - loss: 0.1223 - sparse_categorical_accuracy: 0.9654 - val_loss: 0.1160 - val_sparse_categorical_accuracy: 0.9676\n",
      "Epoch 4/6\n",
      "469/469 [==============================] - 3s 6ms/step - loss: 0.0963 - sparse_categorical_accuracy: 0.9721 - val_loss: 0.1032 - val_sparse_categorical_accuracy: 0.9699\n",
      "Epoch 5/6\n",
      "469/469 [==============================] - 3s 6ms/step - loss: 0.0786 - sparse_categorical_accuracy: 0.9769 - val_loss: 0.0968 - val_sparse_categorical_accuracy: 0.9713\n",
      "Epoch 6/6\n",
      "469/469 [==============================] - 3s 7ms/step - loss: 0.0659 - sparse_categorical_accuracy: 0.9809 - val_loss: 0.0866 - val_sparse_categorical_accuracy: 0.9749\n"
     ]
    },
    {
     "data": {
      "text/plain": [
       "<keras.callbacks.History at 0x17b2998b0>"
      ]
     },
     "execution_count": 5,
     "metadata": {},
     "output_type": "execute_result"
    }
   ],
   "source": [
    "model = tf.keras.models.Sequential([\n",
    "  tf.keras.layers.Flatten(input_shape=(28, 28)),\n",
    "  tf.keras.layers.Dense(128, activation='relu'),\n",
    "  tf.keras.layers.Dense(10)\n",
    "])\n",
    "model.compile(\n",
    "    optimizer=tf.keras.optimizers.Adam(0.001),\n",
    "    loss=tf.keras.losses.SparseCategoricalCrossentropy(from_logits=True),\n",
    "    metrics=[tf.keras.metrics.SparseCategoricalAccuracy()],\n",
    ")\n",
    "\n",
    "model.fit(\n",
    "    ds_train,\n",
    "    epochs=6,\n",
    "    validation_data=ds_test,\n",
    ")"
   ]
  },
  {
   "cell_type": "code",
   "execution_count": 9,
   "metadata": {},
   "outputs": [
    {
     "name": "stdout",
     "output_type": "stream",
     "text": [
      "79/79 [==============================] - 0s 5ms/step - loss: 0.0866 - sparse_categorical_accuracy: 0.9749\n"
     ]
    },
    {
     "data": {
      "text/plain": [
       "[0.08655820041894913, 0.9749000668525696]"
      ]
     },
     "execution_count": 9,
     "metadata": {},
     "output_type": "execute_result"
    }
   ],
   "source": [
    "model.evaluate(ds_test)"
   ]
  },
  {
   "cell_type": "code",
   "execution_count": 16,
   "metadata": {},
   "outputs": [
    {
     "name": "stdout",
     "output_type": "stream",
     "text": [
      "Package                       Version\n",
      "----------------------------- ---------------------\n",
      "absl-py                       1.0.0\n",
      "appnope                       0.1.2\n",
      "argon2-cffi                   21.1.0\n",
      "astunparse                    1.6.3\n",
      "attrs                         21.4.0\n",
      "backcall                      0.2.0\n",
      "backports.functools-lru-cache 1.6.4\n",
      "bleach                        4.1.0\n",
      "blis                          0.7.8\n",
      "Bottleneck                    1.3.2\n",
      "cachetools                    5.0.0\n",
      "catalogue                     2.0.8\n",
      "certifi                       2021.10.8\n",
      "cffi                          1.15.0\n",
      "chardet                       3.0.4\n",
      "charset-normalizer            2.0.12\n",
      "click                         8.1.3\n",
      "colorzero                     2.0\n",
      "confection                    0.0.3\n",
      "cycler                        0.11.0\n",
      "cymem                         2.0.6\n",
      "Cython                        0.29.28\n",
      "decorator                     5.1.1\n",
      "defusedxml                    0.7.1\n",
      "dill                          0.3.4\n",
      "dm-tree                       0.1.6\n",
      "entrypoints                   0.4\n",
      "et-xmlfile                    1.1.0\n",
      "flatbuffers                   2.0\n",
      "fonttools                     4.29.1\n",
      "future                        0.18.2\n",
      "gast                          0.5.3\n",
      "gensim                        4.2.0\n",
      "gin                           0.1.6\n",
      "gin-config                    0.5.0\n",
      "google-auth                   1.4.2\n",
      "google-auth-oauthlib          0.4.6\n",
      "google-pasta                  0.2.0\n",
      "googleapis-common-protos      1.55.0\n",
      "gpiozero                      1.6.2\n",
      "grpcio                        1.42.0\n",
      "h5py                          3.6.0\n",
      "idna                          2.8\n",
      "imageio                       2.16.1\n",
      "importlib-metadata            4.11.1\n",
      "importlib-resources           5.4.0\n",
      "ipykernel                     5.5.5\n",
      "ipython                       7.31.1\n",
      "ipython-genutils              0.2.0\n",
      "ipywidgets                    7.6.5\n",
      "jedi                          0.18.1\n",
      "Jinja2                        3.0.3\n",
      "joblib                        1.1.0\n",
      "jsonschema                    4.4.0\n",
      "jupyter                       1.0.0\n",
      "jupyter-client                7.1.2\n",
      "jupyter-console               6.4.0\n",
      "jupyter-core                  4.9.1\n",
      "jupyterlab-widgets            1.0.2\n",
      "keras                         2.8.0\n",
      "Keras-Preprocessing           1.1.2\n",
      "kiwisolver                    1.3.2\n",
      "langcodes                     3.3.0\n",
      "libclang                      13.0.0\n",
      "lvis                          0.5.3\n",
      "lxml                          4.8.0\n",
      "Markdown                      3.3.4\n",
      "MarkupSafe                    2.0.1\n",
      "matplotlib                    3.5.1\n",
      "matplotlib-inline             0.1.3\n",
      "mistune                       0.8.4\n",
      "murmurhash                    1.0.8\n",
      "nbconvert                     5.6.1\n",
      "nbformat                      5.1.3\n",
      "nest-asyncio                  1.5.4\n",
      "nltk                          3.7\n",
      "notebook                      6.4.8\n",
      "numexpr                       2.8.1\n",
      "numpy                         1.22.3\n",
      "oauthlib                      3.2.0\n",
      "object-detection              0.1\n",
      "opencv-python                 4.3.0.38\n",
      "openpyxl                      3.0.9\n",
      "opt-einsum                    3.3.0\n",
      "packaging                     21.3\n",
      "paho-mqtt                     1.6.1\n",
      "pandas                        1.4.1\n",
      "pandas-datareader             0.10.0\n",
      "pandocfilters                 1.5.0\n",
      "parso                         0.8.3\n",
      "pathy                         0.6.2\n",
      "pexpect                       4.8.0\n",
      "pickleshare                   0.7.5\n",
      "Pillow                        9.0.1\n",
      "pip                           22.3\n",
      "plotly                        5.7.0\n",
      "portpicker                    1.2.0\n",
      "preshed                       3.0.7\n",
      "prometheus-client             0.13.1\n",
      "promise                       2.3\n",
      "prompt-toolkit                3.0.28\n",
      "protobuf                      3.19.4\n",
      "ptyprocess                    0.7.0\n",
      "py4j                          0.10.9.5\n",
      "pyasn1                        0.4.8\n",
      "pyasn1-modules                0.2.8\n",
      "pycocotools                   2.0.4\n",
      "pycparser                     2.21\n",
      "pydantic                      1.9.2\n",
      "Pygments                      2.11.2\n",
      "pyparsing                     3.0.7\n",
      "pyrsistent                    0.18.0\n",
      "pyspark                       3.3.1\n",
      "pythainlp                     3.1.0\n",
      "python-dateutil               2.8.2\n",
      "pytz                          2021.3\n",
      "PyYAML                        6.0\n",
      "pyzmq                         22.3.0\n",
      "qtconsole                     5.2.2\n",
      "QtPy                          2.0.1\n",
      "regex                         2022.9.13\n",
      "requests                      2.28.1\n",
      "requests-oauthlib             1.3.1\n",
      "rsa                           4.8\n",
      "scikit-learn                  1.0.2\n",
      "scipy                         1.8.0\n",
      "seaborn                       0.11.2\n",
      "Send2Trash                    1.8.0\n",
      "setuptools                    58.0.4\n",
      "simplegeneric                 0.8.1\n",
      "six                           1.12.0\n",
      "sklearn                       0.0\n",
      "smart-open                    5.2.1\n",
      "spacy                         3.4.1\n",
      "spacy-legacy                  3.0.10\n",
      "spacy-loggers                 1.0.3\n",
      "srsly                         2.4.4\n",
      "tenacity                      8.0.1\n",
      "tensorboard                   2.8.0\n",
      "tensorboard-data-server       0.6.1\n",
      "tensorboard-plugin-wit        1.8.1\n",
      "tensorflow-addons             0.16.1\n",
      "tensorflow-datasets           4.5.2\n",
      "tensorflow-hub                0.12.0\n",
      "tensorflow-io                 0.24.0\n",
      "tensorflow-macos              2.8.0\n",
      "tensorflow-metadata           1.6.0\n",
      "tensorflow-metal              0.4.0\n",
      "termcolor                     1.1.0\n",
      "terminado                     0.13.1\n",
      "testpath                      0.5.0\n",
      "tf-estimator-nightly          2.8.0.dev2021122109\n",
      "tf-models-official            2.8.0\n",
      "tf-slim                       1.1.0\n",
      "tfds-nightly                  4.0.1.dev202010100107\n",
      "thinc                         8.1.3\n",
      "threadpoolctl                 3.1.0\n",
      "tornado                       6.1\n",
      "tqdm                          4.62.3\n",
      "traitlets                     5.1.1\n",
      "typeguard                     2.13.3\n",
      "typer                         0.4.2\n",
      "typing_extensions             4.1.1\n",
      "urllib3                       1.24.3\n",
      "wasabi                        0.10.1\n",
      "wcwidth                       0.2.5\n",
      "webencodings                  0.5.1\n",
      "Werkzeug                      2.0.3\n",
      "wheel                         0.37.1\n",
      "widgetsnbextension            3.5.1\n",
      "wrapt                         1.13.3\n",
      "xgboost                       1.6.0\n",
      "zipp                          3.7.0\n",
      "\n",
      "\u001b[1m[\u001b[0m\u001b[34;49mnotice\u001b[0m\u001b[1;39;49m]\u001b[0m\u001b[39;49m A new release of pip available: \u001b[0m\u001b[31;49m22.3\u001b[0m\u001b[39;49m -> \u001b[0m\u001b[32;49m22.3.1\u001b[0m\n",
      "\u001b[1m[\u001b[0m\u001b[34;49mnotice\u001b[0m\u001b[1;39;49m]\u001b[0m\u001b[39;49m To update, run: \u001b[0m\u001b[32;49mpip install --upgrade pip\u001b[0m\n",
      "Note: you may need to restart the kernel to use updated packages.\n"
     ]
    }
   ],
   "source": [
    "pip list"
   ]
  },
  {
   "cell_type": "code",
   "execution_count": null,
   "metadata": {},
   "outputs": [],
   "source": []
  }
 ],
 "metadata": {
  "kernelspec": {
   "display_name": "Python 3.8.11 ('tf_metal')",
   "language": "python",
   "name": "python3"
  },
  "language_info": {
   "codemirror_mode": {
    "name": "ipython",
    "version": 3
   },
   "file_extension": ".py",
   "mimetype": "text/x-python",
   "name": "python",
   "nbconvert_exporter": "python",
   "pygments_lexer": "ipython3",
   "version": "3.8.11"
  },
  "orig_nbformat": 4,
  "vscode": {
   "interpreter": {
    "hash": "27cf7d4918d36dc47f5f0cded56c290bea3d85626344baa7550c904256df9fbd"
   }
  }
 },
 "nbformat": 4,
 "nbformat_minor": 2
}
