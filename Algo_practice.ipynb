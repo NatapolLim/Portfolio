{
 "cells": [
  {
   "cell_type": "markdown",
   "metadata": {},
   "source": [
    "Sliding Window"
   ]
  },
  {
   "cell_type": "code",
   "execution_count": 16,
   "metadata": {},
   "outputs": [],
   "source": [
    "import timeit"
   ]
  },
  {
   "cell_type": "code",
   "execution_count": 17,
   "metadata": {},
   "outputs": [],
   "source": [
    "s='pwwksaddfsfew'"
   ]
  },
  {
   "cell_type": "code",
   "execution_count": 18,
   "metadata": {},
   "outputs": [
    {
     "name": "stdout",
     "output_type": "stream",
     "text": [
      "1.33 µs ± 52.7 ns per loop (mean ± std. dev. of 7 runs, 10000 loops each)\n"
     ]
    }
   ],
   "source": [
    "%%timeit -n 10000\n",
    "#Longest substring\n",
    "\n",
    "a=str()\n",
    "n=0\n",
    "m=[]\n",
    "for i in range(len(s)):\n",
    "    if s[i] != a:\n",
    "        n+=1\n",
    "        a=s[i]\n",
    "    elif s[i] == a:\n",
    "        m.append(n)\n",
    "        n=0\n",
    "        a=s[i]\n",
    "m.append(n)\n",
    "\n"
   ]
  },
  {
   "cell_type": "code",
   "execution_count": 19,
   "metadata": {},
   "outputs": [
    {
     "name": "stdout",
     "output_type": "stream",
     "text": [
      "2.92 µs ± 28.7 ns per loop (mean ± std. dev. of 7 runs, 10000 loops each)\n"
     ]
    }
   ],
   "source": [
    "%%timeit -n 10000\n",
    "sset, lptr, ans = set(), 0, 0\n",
    "for rptr in range(len(s)):\n",
    "    while s[rptr] in sset:\n",
    "        sset.remove(s[rptr])\n",
    "        lptr = rptr\n",
    "    sset.add(s[rptr])\n",
    "    window = rptr-lptr+1\n",
    "    ans = max(ans, window)\n",
    "# print(ans)"
   ]
  },
  {
   "cell_type": "markdown",
   "metadata": {},
   "source": [
    "Best Time to Buy and Sell Stock"
   ]
  },
  {
   "cell_type": "code",
   "execution_count": 20,
   "metadata": {},
   "outputs": [],
   "source": [
    "prices = [7,100,5,3,6,1,10]"
   ]
  },
  {
   "cell_type": "code",
   "execution_count": 21,
   "metadata": {},
   "outputs": [
    {
     "name": "stdout",
     "output_type": "stream",
     "text": [
      "2.98 µs ± 14 ns per loop (mean ± std. dev. of 7 runs, 100000 loops each)\n"
     ]
    }
   ],
   "source": [
    "%%timeit\n",
    "ans=0\n",
    "for i in range(len(prices)-1):\n",
    "    for j in range(i,len(prices)):\n",
    "        if prices[i]<prices[j]:\n",
    "            ans = max(ans,prices[j]-prices[i])\n"
   ]
  },
  {
   "cell_type": "code",
   "execution_count": 22,
   "metadata": {},
   "outputs": [
    {
     "name": "stdout",
     "output_type": "stream",
     "text": [
      "1.01 µs ± 23.3 ns per loop (mean ± std. dev. of 7 runs, 10000 loops each)\n"
     ]
    }
   ],
   "source": [
    "%%timeit -n 10000\n",
    "\n",
    "lptr,rptr,maxProfit = 0,1,0\n",
    "        \n",
    "while rptr < len(prices):\n",
    "    if prices[lptr] < prices[rptr]:\n",
    "        ans = prices[rptr]- prices[lptr]\n",
    "        maxProfit= max(ans,maxProfit)\n",
    "    else:\n",
    "        lptr= rptr\n",
    "    rptr +=1"
   ]
  },
  {
   "cell_type": "code",
   "execution_count": 23,
   "metadata": {},
   "outputs": [
    {
     "data": {
      "text/plain": [
       "10"
      ]
     },
     "execution_count": 23,
     "metadata": {},
     "output_type": "execute_result"
    }
   ],
   "source": [
    "min(10,21)"
   ]
  },
  {
   "cell_type": "markdown",
   "metadata": {},
   "source": [
    "Minimum Window Substring"
   ]
  },
  {
   "cell_type": "code",
   "execution_count": 24,
   "metadata": {},
   "outputs": [],
   "source": [
    "s = \"ADOBECODEBANC\"\n",
    "t = \"ABC\""
   ]
  },
  {
   "cell_type": "code",
   "execution_count": 25,
   "metadata": {},
   "outputs": [
    {
     "data": {
      "text/plain": [
       "'BANC'"
      ]
     },
     "execution_count": 25,
     "metadata": {},
     "output_type": "execute_result"
    }
   ],
   "source": [
    "hashT, hashS,ans, ansLength,left = {},{},[-1,-1], float(\"infinity\"),0\n",
    "for i in t:\n",
    "    hashT[i] = 1+hashT.get(i,0)\n",
    "t,v = 0, len(hashT)\n",
    "for p in range(len(s)):\n",
    "    i=s[p]\n",
    "    hashS[i] = 1+hashS.get(i,0)\n",
    "    if i in hashT and hashS[i] == hashT[i]:\n",
    "        t+=1\n",
    "    while t==v:\n",
    "        if (p-left+1) < ansLength:\n",
    "            ans = [left,p]\n",
    "            ansLength = (p-left+1)\n",
    "        hashS[s[left]] -=1\n",
    "        if s[left] in hashT and hashS[s[left]] <hashT[s[left]]:\n",
    "            t-=1\n",
    "        left+=1\n",
    "left,p = ans\n",
    "s[left:p+1]"
   ]
  },
  {
   "cell_type": "markdown",
   "metadata": {},
   "source": [
    "Repeated DNA Sequences"
   ]
  },
  {
   "cell_type": "code",
   "execution_count": 26,
   "metadata": {},
   "outputs": [],
   "source": [
    "s = \"AAAAACCCCCAAAAACCCCCCAAAAAGGGTTT\""
   ]
  },
  {
   "cell_type": "code",
   "execution_count": 27,
   "metadata": {},
   "outputs": [
    {
     "name": "stdout",
     "output_type": "stream",
     "text": [
      "{'CCCCCAAAAA', 'AAAAACCCCC'}\n"
     ]
    }
   ],
   "source": [
    "nset, ans = set(),set()\n",
    "for lptr in range(len(s)-9):\n",
    "    window = s[lptr:lptr+10]\n",
    "    if window in nset:\n",
    "        ans.add(window)\n",
    "    else:\n",
    "        nset.add(window)\n",
    "print(ans)"
   ]
  },
  {
   "cell_type": "markdown",
   "metadata": {},
   "source": [
    "Minimum Size Subarray Sum"
   ]
  },
  {
   "cell_type": "code",
   "execution_count": 28,
   "metadata": {},
   "outputs": [],
   "source": [
    "target = 7\n",
    "nums = [2,3,1,2,4,3]"
   ]
  },
  {
   "cell_type": "code",
   "execution_count": 29,
   "metadata": {},
   "outputs": [
    {
     "name": "stdout",
     "output_type": "stream",
     "text": [
      "1.42 µs ± 33.1 ns per loop (mean ± std. dev. of 7 runs, 10000 loops each)\n"
     ]
    }
   ],
   "source": [
    "%%timeit -n 10000\n",
    "lptr, sumNO, ans = 0,0,float('inf')\n",
    "for rptr in range(len(nums)):\n",
    "    sumNO += nums[rptr]\n",
    "    while sumNO >= target:\n",
    "        window = rptr -lptr+1\n",
    "        ans = min(ans,window)\n",
    "        sumNO -= nums[lptr]\n",
    "        lptr+=1"
   ]
  },
  {
   "cell_type": "markdown",
   "metadata": {},
   "source": [
    "Binary Search"
   ]
  },
  {
   "cell_type": "code",
   "execution_count": 30,
   "metadata": {},
   "outputs": [
    {
     "name": "stdout",
     "output_type": "stream",
     "text": [
      "80\n",
      "140\n",
      "110\n",
      "6\n"
     ]
    }
   ],
   "source": [
    "arr=[0, 20, 30, 50, 60, 80, 110, 130, 140, 170]\n",
    "x = 110\n",
    "def binarysearch(arr,x):\n",
    "    low,high=0,len(arr)\n",
    "    while True:\n",
    "        mid = (low+high)//2\n",
    "        print(arr[mid])\n",
    "        if x==arr[mid]:\n",
    "            return mid\n",
    "        else:\n",
    "            if (x>arr[mid]):\n",
    "                low = mid+1\n",
    "            else:\n",
    "                high = mid-1\n",
    "print(binarysearch(arr,x))"
   ]
  },
  {
   "cell_type": "markdown",
   "metadata": {},
   "source": [
    "Sliding Window Maximum"
   ]
  },
  {
   "cell_type": "code",
   "execution_count": 31,
   "metadata": {},
   "outputs": [],
   "source": [
    "import collections"
   ]
  },
  {
   "cell_type": "code",
   "execution_count": 32,
   "metadata": {},
   "outputs": [],
   "source": [
    "nums = [1,3,-1,-3,5,3,6,7]\n",
    "k = 3"
   ]
  },
  {
   "cell_type": "code",
   "execution_count": 33,
   "metadata": {},
   "outputs": [
    {
     "name": "stdout",
     "output_type": "stream",
     "text": [
      "2.52 µs ± 66.5 ns per loop (mean ± std. dev. of 7 runs, 10000 loops each)\n"
     ]
    }
   ],
   "source": [
    "%%timeit -n 10000\n",
    "ans, lptr,rptr = [],0,0\n",
    "qu = collections.deque()\n",
    "while rptr < len(nums):\n",
    "    while qu and nums[rptr] > nums[qu[-1]]:\n",
    "        qu.pop()\n",
    "    qu.append(rptr)\n",
    "    if qu[0] < lptr:\n",
    "        qu.popleft()\n",
    "    if k<= (rptr+1):\n",
    "        ans.append(nums[qu[0]])\n",
    "        lptr+=1\n",
    "    rptr+=1"
   ]
  },
  {
   "cell_type": "code",
   "execution_count": 34,
   "metadata": {},
   "outputs": [
    {
     "name": "stdout",
     "output_type": "stream",
     "text": [
      "1.11 µs ± 31.2 ns per loop (mean ± std. dev. of 7 runs, 10000 loops each)\n"
     ]
    }
   ],
   "source": [
    "%%timeit -n 10000\n",
    "ans=[]\n",
    "k=3\n",
    "for i in range(len(nums)-2):\n",
    "    window = nums[i:i+k]\n",
    "    ans.append(max(window))\n"
   ]
  },
  {
   "cell_type": "markdown",
   "metadata": {},
   "source": [
    "Longest Repeating Character Replacement"
   ]
  },
  {
   "cell_type": "code",
   "execution_count": 35,
   "metadata": {},
   "outputs": [],
   "source": [
    "s = \"ABABABAB\"\n",
    "k = 3"
   ]
  },
  {
   "cell_type": "code",
   "execution_count": 36,
   "metadata": {},
   "outputs": [
    {
     "ename": "IndexError",
     "evalue": "string index out of range",
     "output_type": "error",
     "traceback": [
      "\u001b[0;31m---------------------------------------------------------------------------\u001b[0m",
      "\u001b[0;31mIndexError\u001b[0m                                Traceback (most recent call last)",
      "\u001b[0;32m<ipython-input-36-24c8260bf225>\u001b[0m in \u001b[0;36m<module>\u001b[0;34m\u001b[0m\n\u001b[1;32m      4\u001b[0m     \u001b[0mwindow\u001b[0m \u001b[0;34m=\u001b[0m \u001b[0;34m(\u001b[0m\u001b[0mrptr\u001b[0m\u001b[0;34m-\u001b[0m\u001b[0mlptr\u001b[0m\u001b[0;34m+\u001b[0m\u001b[0;36m1\u001b[0m\u001b[0;34m)\u001b[0m\u001b[0;34m\u001b[0m\u001b[0;34m\u001b[0m\u001b[0m\n\u001b[1;32m      5\u001b[0m     \u001b[0;32mwhile\u001b[0m \u001b[0mk\u001b[0m\u001b[0;34m<\u001b[0m \u001b[0mwindow\u001b[0m\u001b[0;34m-\u001b[0m\u001b[0mmax\u001b[0m\u001b[0;34m(\u001b[0m\u001b[0mcharMap\u001b[0m\u001b[0;34m.\u001b[0m\u001b[0mvalues\u001b[0m\u001b[0;34m(\u001b[0m\u001b[0;34m)\u001b[0m\u001b[0;34m)\u001b[0m\u001b[0;34m:\u001b[0m\u001b[0;34m\u001b[0m\u001b[0;34m\u001b[0m\u001b[0m\n\u001b[0;32m----> 6\u001b[0;31m         \u001b[0mcharMap\u001b[0m\u001b[0;34m[\u001b[0m\u001b[0ms\u001b[0m\u001b[0;34m[\u001b[0m\u001b[0mlptr\u001b[0m\u001b[0;34m]\u001b[0m\u001b[0;34m]\u001b[0m \u001b[0;34m-=\u001b[0m\u001b[0;36m1\u001b[0m\u001b[0;34m\u001b[0m\u001b[0;34m\u001b[0m\u001b[0m\n\u001b[0m\u001b[1;32m      7\u001b[0m         \u001b[0mlptr\u001b[0m\u001b[0;34m+=\u001b[0m\u001b[0;36m1\u001b[0m\u001b[0;34m\u001b[0m\u001b[0;34m\u001b[0m\u001b[0m\n\u001b[1;32m      8\u001b[0m     \u001b[0mans\u001b[0m \u001b[0;34m=\u001b[0m \u001b[0mmax\u001b[0m\u001b[0;34m(\u001b[0m\u001b[0mwindow\u001b[0m\u001b[0;34m,\u001b[0m\u001b[0mans\u001b[0m\u001b[0;34m)\u001b[0m\u001b[0;34m\u001b[0m\u001b[0;34m\u001b[0m\u001b[0m\n",
      "\u001b[0;31mIndexError\u001b[0m: string index out of range"
     ]
    }
   ],
   "source": [
    "charMap, ans, lptr = {},0,0\n",
    "for rptr in range(len(s)):\n",
    "    charMap[s[rptr]] = 1+charMap.get(s[rptr],0)\n",
    "    window = (rptr-lptr+1)\n",
    "    while k< window-max(charMap.values()):\n",
    "        charMap[s[lptr]] -=1\n",
    "        lptr+=1\n",
    "    ans = max(window,ans)\n",
    "print(ans)"
   ]
  },
  {
   "cell_type": "markdown",
   "metadata": {},
   "source": [
    "Fruit Into Baskets"
   ]
  },
  {
   "cell_type": "code",
   "execution_count": null,
   "metadata": {},
   "outputs": [],
   "source": [
    "fruits = [0,0,0,1,2,2,2]"
   ]
  },
  {
   "cell_type": "code",
   "execution_count": null,
   "metadata": {},
   "outputs": [
    {
     "name": "stdout",
     "output_type": "stream",
     "text": [
      "4\n"
     ]
    }
   ],
   "source": [
    "mlen,currlen,lptr,uniquechr =0,0,0,0\n",
    "mapCount = {}\n",
    "\n",
    "for rptr in range(len(fruits)):\n",
    "    mapCount[fruits[rptr]] = 1+mapCount.get(fruits[rptr],0)\n",
    "    if mapCount[fruits[rptr]]==1:\n",
    "        uniquechr+=1\n",
    "    while uniquechr > 2:\n",
    "        mapCount[fruits[lptr]] -=1\n",
    "        if mapCount[fruits[lptr]]==0:\n",
    "            uniquechr-=1\n",
    "        lptr+=1\n",
    "\n",
    "    currlen = rptr-lptr+1\n",
    "    mlen = max(mlen,currlen)\n",
    "\n",
    "print(mlen)"
   ]
  },
  {
   "cell_type": "markdown",
   "metadata": {},
   "source": [
    "Backtracking"
   ]
  },
  {
   "cell_type": "markdown",
   "metadata": {},
   "source": [
    "Generate Parentheses"
   ]
  },
  {
   "cell_type": "code",
   "execution_count": null,
   "metadata": {},
   "outputs": [],
   "source": [
    "def generateparenthesis(n:int):\n",
    "    stck,ans=[],[]\n",
    "    def bt(openP, closeP):\n",
    "        if openP < n:\n",
    "            stck.append('(')\n",
    "            bt(openP+1, closeP)\n",
    "            stck.pop()\n",
    "        if closeP < openP:\n",
    "            stck.append(')')\n",
    "            bt(openP,closeP+1)\n",
    "            stck.pop()\n",
    "        if closeP == openP == n:\n",
    "            ans.append(\" \".join(stck))\n",
    "    bt(0,0)\n",
    "    return ans"
   ]
  },
  {
   "cell_type": "code",
   "execution_count": null,
   "metadata": {},
   "outputs": [
    {
     "name": "stdout",
     "output_type": "stream",
     "text": [
      "['( ( ( ) ) )', '( ( ) ( ) )', '( ( ) ) ( )', '( ) ( ( ) )', '( ) ( ) ( )']\n"
     ]
    }
   ],
   "source": [
    "print(generateparenthesis(3))"
   ]
  },
  {
   "cell_type": "code",
   "execution_count": null,
   "metadata": {},
   "outputs": [],
   "source": [
    "\n",
    "def subArraySum(arr, n, s): \n",
    "    summ=0\n",
    "    lptr=0\n",
    "    ans=[]\n",
    "    for i in range(n):\n",
    "        summ+=arr[i]\n",
    "        while summ > s:\n",
    "            summ-=arr[lptr]\n",
    "            lptr+=1\n",
    "        if summ==s:\n",
    "            ans.extend([lptr,i])\n",
    "            \n",
    "    return ans\n",
    "            "
   ]
  },
  {
   "cell_type": "code",
   "execution_count": null,
   "metadata": {},
   "outputs": [
    {
     "name": "stdout",
     "output_type": "stream",
     "text": [
      "[0, 4, 3, 5, 6, 7]\n"
     ]
    }
   ],
   "source": [
    "print(subArraySum([1,2,3,4,5,6,7,8,9,10],10,15))"
   ]
  },
  {
   "cell_type": "markdown",
   "metadata": {},
   "source": [
    "Combination Sum"
   ]
  },
  {
   "cell_type": "code",
   "execution_count": null,
   "metadata": {},
   "outputs": [],
   "source": [
    "def combinationsum(nums, target):\n",
    "    ans=[]\n",
    "    def csum(i,curr,total):\n",
    "        if target==total:\n",
    "            ans.append(curr.copy())\n",
    "            return\n",
    "        if total > target or i>=len(nums):\n",
    "            return\n",
    "        curr.append(nums[i])\n",
    "        csum(i,curr,total+nums[i])\n",
    "        curr.pop()\n",
    "        csum(i+1,curr,total)\n",
    "    csum(0,[],0)\n",
    "    return ans"
   ]
  },
  {
   "cell_type": "code",
   "execution_count": null,
   "metadata": {},
   "outputs": [
    {
     "data": {
      "text/plain": [
       "[[2, 2, 2, 1],\n",
       " [2, 2, 3],\n",
       " [2, 2, 1, 1, 1],\n",
       " [2, 3, 1, 1],\n",
       " [2, 1, 1, 1, 1, 1],\n",
       " [3, 3, 1],\n",
       " [3, 1, 1, 1, 1],\n",
       " [6, 1],\n",
       " [7],\n",
       " [1, 1, 1, 1, 1, 1, 1]]"
      ]
     },
     "execution_count": 121,
     "metadata": {},
     "output_type": "execute_result"
    }
   ],
   "source": [
    "combinationsum([2,3,6,7,1],7)"
   ]
  },
  {
   "cell_type": "markdown",
   "metadata": {},
   "source": [
    "Subsets"
   ]
  },
  {
   "cell_type": "code",
   "execution_count": null,
   "metadata": {},
   "outputs": [
    {
     "name": "stdout",
     "output_type": "stream",
     "text": [
      "[[]]\n"
     ]
    }
   ],
   "source": [
    "nums = [1,2,3]\n",
    "def subset(nums):\n",
    "    ans, sub=[],[]\n",
    "    def re(n):\n",
    "        if n >= len(nums):\n",
    "            ans.append(sub.copy())\n",
    "            return\n",
    "        sub.append(nums[n])\n",
    "        re(n+1)\n",
    "        sub.pop()\n",
    "        re(n+1)\n",
    "    re(0)\n",
    "    return ans\n",
    "print(subset(nums))"
   ]
  },
  {
   "cell_type": "markdown",
   "metadata": {},
   "source": [
    "Word Search"
   ]
  },
  {
   "cell_type": "code",
   "execution_count": null,
   "metadata": {},
   "outputs": [
    {
     "data": {
      "text/plain": [
       "True"
      ]
     },
     "execution_count": 595,
     "metadata": {},
     "output_type": "execute_result"
    }
   ],
   "source": [
    "board = [[\"A\",\"B\",\"C\",\"E\"],[\"S\",\"F\",\"C\",\"S\"],[\"A\",\"D\",\"E\",\"E\"]]\n",
    "word = \"ABCCED\"\n",
    "def exist(board, word):\n",
    "\n",
    "    row, col = len(board), len(board[0])\n",
    "    visitPath = set()\n",
    "\n",
    "    def wordSearch(r,c,i):\n",
    "        if i == len(word):\n",
    "            return True\n",
    "        if ( (r<0 or c<0 or r >=row or c >=col or word[i]!= board[r][c] or \\\n",
    "            (r,c) in visitPath)):\n",
    "            return False\n",
    "        visitPath.add((r,c))\n",
    "        ans = ( wordSearch(r+1,c, i+1) or  \n",
    "                wordSearch(r,c-1, i+1) or \n",
    "                wordSearch(r-1,c, i+1) or\n",
    "                wordSearch(r,c+1, i+1))\n",
    "        visitPath.remove((r,c))\n",
    "        return ans\n",
    "    for r in range(row):\n",
    "        for c in range(col):\n",
    "            if wordSearch(r,c,0): \n",
    "                return True\n",
    "    return False\n",
    "\n",
    "exist(board, word)"
   ]
  },
  {
   "cell_type": "code",
   "execution_count": null,
   "metadata": {},
   "outputs": [
    {
     "data": {
      "text/plain": [
       "True"
      ]
     },
     "execution_count": 7,
     "metadata": {},
     "output_type": "execute_result"
    }
   ],
   "source": [
    "def isPerfect(n):\n",
    "    sum=1\n",
    "    i=2\n",
    "    while i*i<=n:\n",
    "        if n%i==0:\n",
    "            sum=sum+i+n/i\n",
    "        i+=1\n",
    "    return (True if sum==n and n!=1 else False)\n",
    "\n",
    "isPerfect(6)\n",
    "\n"
   ]
  },
  {
   "cell_type": "code",
   "execution_count": null,
   "metadata": {},
   "outputs": [],
   "source": [
    "def isPrime(n):\n",
    "    if (n==1 or n==0):\n",
    "        return False\n",
    "    for i in range(2,n):\n",
    "        if n%i==0:\n",
    "            return False\n",
    "    return True"
   ]
  },
  {
   "cell_type": "code",
   "execution_count": null,
   "metadata": {},
   "outputs": [
    {
     "data": {
      "text/plain": [
       "True"
      ]
     },
     "execution_count": 26,
     "metadata": {},
     "output_type": "execute_result"
    }
   ],
   "source": [
    "isPrime(11)"
   ]
  },
  {
   "cell_type": "code",
   "execution_count": null,
   "metadata": {},
   "outputs": [
    {
     "name": "stdout",
     "output_type": "stream",
     "text": [
      "2 3 5 7 11 13 17 19 23 29 31 37 41 43 47 53 59 61 67 71 73 79 83 89 97 "
     ]
    }
   ],
   "source": [
    "# Python3 program to display Prime numbers till N\n",
    "\n",
    "#function to check if a given number is prime\n",
    "def isPrime(n):\n",
    "    #since 0 and 1 is not prime return false.\n",
    "    if (n==1 or n==0):\n",
    "        return False\n",
    "        \n",
    "    #Run a loop from 2 to square root of n.\n",
    "    for i in range(2,int(n**(1/2))+1):\n",
    "        #if the number is divisible by i, then n is not a prime number.\n",
    "        if(n%i==0):\n",
    "            return False\n",
    "        \n",
    "    #otherwise, n is prime number.\n",
    "    return True\n",
    "\n",
    "\n",
    "\n",
    "# Driver code\n",
    "N = 100\n",
    "#check for every number from 1 to N\n",
    "for i in range(1,N+1):\n",
    "#check if current number is prime\n",
    "    if(isPrime(i)):\n",
    "\t    print(i,end=\" \")\n"
   ]
  },
  {
   "cell_type": "code",
   "execution_count": null,
   "metadata": {},
   "outputs": [
    {
     "name": "stdout",
     "output_type": "stream",
     "text": [
      "2 3 5 7 11 13 17 19 23 29 31 37 41 43 47 53 59 61 67 71 73 79 83 89 97 "
     ]
    }
   ],
   "source": [
    "# Python3 program to display Prime numbers till N\n",
    "\n",
    "#function to check if a given number is prime\n",
    "def isPrime(n):\n",
    "    #since 0 and 1 is not prime return false.\n",
    "    if(n==1 or n==0):\n",
    "        return False\n",
    "        \n",
    "    #Run a loop from 2 to n-1\n",
    "    for i in range(2,n):\n",
    "        #if the number is divisible by i, then n is not a prime number.\n",
    "        if(n%i==0):\n",
    "            return False\n",
    "        \n",
    "    #otherwise, n is prime number.\n",
    "    return True\n",
    "\n",
    "\n",
    "\n",
    "# Driver code\n",
    "N = 100;\n",
    "#check for every number from 1 to N\n",
    "for i in range(1,N+1):\n",
    "#check if current number is prime\n",
    "    if(isPrime(i)):\n",
    "        print(i,end=\" \")\n"
   ]
  },
  {
   "cell_type": "code",
   "execution_count": null,
   "metadata": {},
   "outputs": [
    {
     "data": {
      "text/plain": [
       "False"
      ]
     },
     "execution_count": 22,
     "metadata": {},
     "output_type": "execute_result"
    }
   ],
   "source": [
    "isPrime(9)"
   ]
  },
  {
   "cell_type": "code",
   "execution_count": null,
   "metadata": {},
   "outputs": [],
   "source": [
    "def a(n):\n",
    "    print(\"starting\")\n",
    "    for i in range(n):\n",
    "        yield i\n"
   ]
  },
  {
   "cell_type": "code",
   "execution_count": null,
   "metadata": {},
   "outputs": [
    {
     "ename": "SyntaxError",
     "evalue": "can't use starred expression here (<ipython-input-50-822f3c7b2e82>, line 1)",
     "output_type": "error",
     "traceback": [
      "\u001b[0;36m  File \u001b[0;32m\"<ipython-input-50-822f3c7b2e82>\"\u001b[0;36m, line \u001b[0;32m1\u001b[0m\n\u001b[0;31m    *range(10)\u001b[0m\n\u001b[0m    ^\u001b[0m\n\u001b[0;31mSyntaxError\u001b[0m\u001b[0;31m:\u001b[0m can't use starred expression here\n"
     ]
    }
   ],
   "source": [
    "range(10)"
   ]
  },
  {
   "cell_type": "code",
   "execution_count": null,
   "metadata": {},
   "outputs": [],
   "source": [
    "status= True\n",
    "def gernator():\n",
    "    sum=0\n",
    "    while status:\n",
    "        yield sum\n",
    "        sum+=1"
   ]
  },
  {
   "cell_type": "code",
   "execution_count": null,
   "metadata": {},
   "outputs": [],
   "source": [
    "x = gernator()"
   ]
  },
  {
   "cell_type": "code",
   "execution_count": null,
   "metadata": {},
   "outputs": [],
   "source": [
    "status =False"
   ]
  },
  {
   "cell_type": "code",
   "execution_count": null,
   "metadata": {},
   "outputs": [
    {
     "name": "stdout",
     "output_type": "stream",
     "text": [
      "stop iteration\n"
     ]
    }
   ],
   "source": [
    "for i in range(10):\n",
    "    try:\n",
    "        print(next(x))\n",
    "    except:\n",
    "        print('stop iteration')\n",
    "        break\n"
   ]
  },
  {
   "cell_type": "code",
   "execution_count": null,
   "metadata": {},
   "outputs": [],
   "source": [
    "def var(a,*args,**kwarg):\n",
    "    print(a)\n",
    "    print(\"arg\")\n",
    "    print([v for v in args])\n",
    "    print(\"kwarg\")\n",
    "    r= [{k:v} for k,v in kwarg.items()]\n",
    "    print(r)\n",
    "    return r"
   ]
  },
  {
   "cell_type": "code",
   "execution_count": null,
   "metadata": {},
   "outputs": [
    {
     "name": "stdout",
     "output_type": "stream",
     "text": [
      "acb\n",
      "arg\n",
      "['1', '2', '3']\n",
      "kwarg\n",
      "[{'test1': 'val1'}, {'test2': 'val2'}]\n"
     ]
    }
   ],
   "source": [
    "r = var(\"acb\",\"1\",\"2\",\"3\",test1=\"val1\",test2=\"val2\")"
   ]
  },
  {
   "cell_type": "code",
   "execution_count": null,
   "metadata": {},
   "outputs": [
    {
     "data": {
      "text/plain": [
       "'val1'"
      ]
     },
     "execution_count": 103,
     "metadata": {},
     "output_type": "execute_result"
    }
   ],
   "source": [
    "r[0]['test1']"
   ]
  },
  {
   "cell_type": "code",
   "execution_count": null,
   "metadata": {},
   "outputs": [],
   "source": [
    "class car():\n",
    "    def __init__(self, **kwargs):\n",
    "        self.speed = kwargs['s']\n",
    "        self.color = kwargs['c']"
   ]
  },
  {
   "cell_type": "code",
   "execution_count": null,
   "metadata": {},
   "outputs": [],
   "source": [
    "car1 = car(s=100,c='color')"
   ]
  },
  {
   "cell_type": "code",
   "execution_count": null,
   "metadata": {},
   "outputs": [
    {
     "data": {
      "text/plain": [
       "'color'"
      ]
     },
     "execution_count": 108,
     "metadata": {},
     "output_type": "execute_result"
    }
   ],
   "source": [
    "car1.color"
   ]
  },
  {
   "cell_type": "code",
   "execution_count": null,
   "metadata": {},
   "outputs": [],
   "source": [
    "class suspension(car):\n",
    "    def __init__(self,t):\n",
    "        self.spring = t"
   ]
  },
  {
   "cell_type": "code",
   "execution_count": null,
   "metadata": {},
   "outputs": [],
   "source": [
    "def shout(text):\n",
    "    if len(text) >1:\n",
    "        raise ValueError\n",
    "    return text.upper()\n",
    "def whisper(text):\n",
    "    return text.lower()\n",
    "\n",
    "def greet(func, *args):\n",
    "    how = func(args)\n",
    "    print(how)\n",
    "\n"
   ]
  },
  {
   "cell_type": "code",
   "execution_count": null,
   "metadata": {},
   "outputs": [],
   "source": [
    "from functools import wraps"
   ]
  },
  {
   "cell_type": "code",
   "execution_count": null,
   "metadata": {},
   "outputs": [],
   "source": [
    "def logger(func):\n",
    "    def log_func(*args):\n",
    "        print(func(*args))\n",
    "\n",
    "    return log_func\n",
    "\n",
    "def add(x,y):\n",
    "    return x+y"
   ]
  },
  {
   "cell_type": "code",
   "execution_count": null,
   "metadata": {},
   "outputs": [
    {
     "data": {
      "text/plain": [
       "'log_func'"
      ]
     },
     "execution_count": 152,
     "metadata": {},
     "output_type": "execute_result"
    }
   ],
   "source": [
    "add_logg = logger(add)\n",
    "add_logg.__name__\n"
   ]
  },
  {
   "cell_type": "markdown",
   "metadata": {},
   "source": []
  },
  {
   "cell_type": "code",
   "execution_count": null,
   "metadata": {},
   "outputs": [
    {
     "name": "stdout",
     "output_type": "stream",
     "text": [
      "5\n"
     ]
    }
   ],
   "source": [
    "ans = add_logg(3,2)\n",
    "ans"
   ]
  },
  {
   "cell_type": "code",
   "execution_count": null,
   "metadata": {},
   "outputs": [],
   "source": [
    "def divide(a:int, b:int = 10) -> float:\n",
    "    return a/b"
   ]
  },
  {
   "cell_type": "code",
   "execution_count": null,
   "metadata": {},
   "outputs": [
    {
     "data": {
      "text/plain": [
       "2.5"
      ]
     },
     "execution_count": 173,
     "metadata": {},
     "output_type": "execute_result"
    }
   ],
   "source": [
    "divide(5,2)"
   ]
  },
  {
   "cell_type": "code",
   "execution_count": null,
   "metadata": {},
   "outputs": [],
   "source": [
    "from collections import defaultdict"
   ]
  },
  {
   "cell_type": "code",
   "execution_count": null,
   "metadata": {},
   "outputs": [],
   "source": [
    "d = defaultdict(lambda: \"qweqwe\")"
   ]
  },
  {
   "cell_type": "code",
   "execution_count": null,
   "metadata": {},
   "outputs": [
    {
     "data": {
      "text/plain": [
       "'qweqwe'"
      ]
     },
     "execution_count": 183,
     "metadata": {},
     "output_type": "execute_result"
    }
   ],
   "source": [
    "d['asd']"
   ]
  },
  {
   "cell_type": "code",
   "execution_count": null,
   "metadata": {},
   "outputs": [
    {
     "name": "stdout",
     "output_type": "stream",
     "text": [
      "call\n"
     ]
    }
   ],
   "source": [
    "def is_call():\n",
    "    print(\"call\")\n",
    "    a=10\n",
    "    def is_returned():\n",
    "        print(\"Somethings\",a)\n",
    "    return is_returned\n",
    "\n",
    "new_func = is_call()"
   ]
  },
  {
   "cell_type": "code",
   "execution_count": null,
   "metadata": {},
   "outputs": [
    {
     "name": "stdout",
     "output_type": "stream",
     "text": [
      "Somethings 10\n"
     ]
    }
   ],
   "source": [
    "new_func()"
   ]
  },
  {
   "cell_type": "code",
   "execution_count": null,
   "metadata": {},
   "outputs": [
    {
     "name": "stdout",
     "output_type": "stream",
     "text": [
      "get into ask def\n"
     ]
    }
   ],
   "source": [
    "def ask_question(func, *args,**kwargs):\n",
    "    print(\"get into ask def\")\n",
    "    def wrapper( *args,**kwargs):\n",
    "        print(\"I got decorator\")\n",
    "        func()\n",
    "        print(\"what\")\n",
    "    return wrapper\n",
    "\n",
    "@ask_question\n",
    "def say_hi():\n",
    "    print(\"asd\")"
   ]
  },
  {
   "cell_type": "code",
   "execution_count": null,
   "metadata": {},
   "outputs": [
    {
     "name": "stdout",
     "output_type": "stream",
     "text": [
      "I got decorator\n",
      "asd\n",
      "what\n"
     ]
    }
   ],
   "source": [
    "say_hi(\"Hi!\")"
   ]
  },
  {
   "cell_type": "code",
   "execution_count": null,
   "metadata": {},
   "outputs": [
    {
     "name": "stdout",
     "output_type": "stream",
     "text": [
      "get into ask def\n"
     ]
    }
   ],
   "source": [
    "ask = ask_question(say_hi, \"Bye!!!\")"
   ]
  },
  {
   "cell_type": "code",
   "execution_count": null,
   "metadata": {},
   "outputs": [],
   "source": [
    "def smart_devide(func):\n",
    "    def wrapper(*args, **kwargs):\n",
    "        a,b=args\n",
    "        print(f\"Devide {a}, {b}\")\n",
    "        if b==0:\n",
    "            print(\"cant devide\")\n",
    "            return None\n",
    "        func(*args,**kwargs)\n",
    "    return wrapper\n",
    "\n",
    "@smart_devide\n",
    "def devide(a,b):\n",
    "    print(a/b)\n",
    "    "
   ]
  },
  {
   "cell_type": "code",
   "execution_count": null,
   "metadata": {},
   "outputs": [
    {
     "name": "stdout",
     "output_type": "stream",
     "text": [
      "Devide 2, 0\n",
      "cant devide\n"
     ]
    }
   ],
   "source": [
    "devide(2,0)"
   ]
  },
  {
   "cell_type": "code",
   "execution_count": null,
   "metadata": {},
   "outputs": [
    {
     "name": "stdout",
     "output_type": "stream",
     "text": [
      "******************************\n",
      "------------------------------\n",
      "Hello\n",
      "------------------------------\n",
      "******************************\n"
     ]
    }
   ],
   "source": [
    "def star(func):\n",
    "    def wrapper(*args,**kwargs):\n",
    "        print(\"*\"*30)\n",
    "        func(*args,**kwargs)\n",
    "        print(\"*\"*30)\n",
    "    return wrapper\n",
    "\n",
    "def line(func):\n",
    "    def wrapper(*args,**kwargs):\n",
    "        print(\"-\"*30)\n",
    "        func(*args,**kwargs)\n",
    "        print(\"-\"*30)\n",
    "    return wrapper\n",
    "\n",
    "@star\n",
    "@line\n",
    "def print_msg(text):\n",
    "    print(text)\n",
    "\n",
    "print_msg('Hello')"
   ]
  },
  {
   "cell_type": "code",
   "execution_count": null,
   "metadata": {},
   "outputs": [
    {
     "name": "stdout",
     "output_type": "stream",
     "text": [
      "******************************\n",
      "------------------------------\n",
      "******************************\n",
      "------------------------------\n",
      "hellooo\n",
      "------------------------------\n",
      "******************************\n",
      "------------------------------\n",
      "******************************\n"
     ]
    }
   ],
   "source": [
    "msg = star(line(print_msg))\n",
    "msg(\"hellooo\")"
   ]
  },
  {
   "cell_type": "code",
   "execution_count": null,
   "metadata": {},
   "outputs": [
    {
     "name": "stdout",
     "output_type": "stream",
     "text": [
      "The wrapper can access all the variables\n",
      "\t- from the decorator maker: Hello this is arg of deco\n",
      "\t- from the function call: Hi this arg of function\n",
      "and pass them to the decorated function\n",
      "\n",
      "This is the decorated function and it only knows about its arguments:\n",
      "Hi this arg of function\n"
     ]
    }
   ],
   "source": [
    "def deco_with_arg(d_arg1,d_arg2):\n",
    "    def decorator(func):\n",
    "        @wraps(func)\n",
    "        def wrapper(f_arg1,f_arg2):\n",
    "            \"This is the wrapper function\"\n",
    "            print(\"The wrapper can access all the variables\")\n",
    "            print(f\"\\t- from the decorator maker: {d_arg1} {d_arg2}\")\n",
    "            print(f\"\\t- from the function call: {f_arg1} {f_arg2}\")\n",
    "            print(\"and pass them to the decorated function\\n\")\n",
    "            return func(f_arg1,f_arg2)\n",
    "        return wrapper\n",
    "    return decorator\n",
    "\n",
    "@deco_with_arg(\"Hello\",\"this is arg of deco\")\n",
    "def deco_function(f_arg1,f_arg2):\n",
    "    print(\"This is the decorated function and it only knows about its arguments:\")\n",
    "    print(f\"{f_arg1} {f_arg2}\")\n",
    "\n",
    "deco_function(\"Hi\",'this arg of function')"
   ]
  },
  {
   "cell_type": "code",
   "execution_count": null,
   "metadata": {},
   "outputs": [
    {
     "data": {
      "text/plain": [
       "'deco_function'"
      ]
     },
     "execution_count": 251,
     "metadata": {},
     "output_type": "execute_result"
    }
   ],
   "source": [
    "deco_function.__name__"
   ]
  },
  {
   "cell_type": "code",
   "execution_count": null,
   "metadata": {},
   "outputs": [],
   "source": [
    "class Supermarket:\n",
    "    product = \"Milki\"\n",
    "    def __init__(self, product, best_before):\n",
    "        self.best_before = best_before\n",
    "        self.product = product\n",
    "\n",
    "    @staticmethod\n",
    "    def normalize_product(product):\n",
    "        product = product.capitalize().strip()\n",
    "        return product\n",
    "\n",
    "    \n",
    "    def normalize_product_no(product):\n",
    "        product = product.capitalize().strip()\n",
    "        return product\n",
    "\n",
    "    @classmethod\n",
    "    def get_product(cls):\n",
    "        print(cls.product)\n",
    "\n",
    "    def get_product_no(cls):\n",
    "        print(self.product)"
   ]
  },
  {
   "cell_type": "code",
   "execution_count": null,
   "metadata": {},
   "outputs": [
    {
     "data": {
      "text/plain": [
       "'bread'"
      ]
     },
     "execution_count": 309,
     "metadata": {},
     "output_type": "execute_result"
    }
   ],
   "source": [
    "ob = Supermarket(\"bread\",\"2020\")\n",
    "ob.product"
   ]
  },
  {
   "cell_type": "code",
   "execution_count": null,
   "metadata": {},
   "outputs": [
    {
     "data": {
      "text/plain": [
       "'Qweqwe'"
      ]
     },
     "execution_count": 310,
     "metadata": {},
     "output_type": "execute_result"
    }
   ],
   "source": [
    "ob.normalize_product(\"Qweqwe\")"
   ]
  },
  {
   "cell_type": "code",
   "execution_count": null,
   "metadata": {},
   "outputs": [
    {
     "ename": "AttributeError",
     "evalue": "'Supermarket' object has no attribute 'normalize_product_no'",
     "output_type": "error",
     "traceback": [
      "\u001b[0;31m---------------------------------------------------------------------------\u001b[0m",
      "\u001b[0;31mAttributeError\u001b[0m                            Traceback (most recent call last)",
      "\u001b[0;32m<ipython-input-534-a844e5205042>\u001b[0m in \u001b[0;36m<module>\u001b[0;34m\u001b[0m\n\u001b[0;32m----> 1\u001b[0;31m \u001b[0mSupermarket\u001b[0m\u001b[0;34m(\u001b[0m\u001b[0;34m\"bread\"\u001b[0m\u001b[0;34m,\u001b[0m\u001b[0;34m\"2020\"\u001b[0m\u001b[0;34m)\u001b[0m\u001b[0;34m.\u001b[0m\u001b[0mnormalize_product_no\u001b[0m\u001b[0;34m(\u001b[0m\u001b[0;34m\"milk\"\u001b[0m\u001b[0;34m)\u001b[0m\u001b[0;34m\u001b[0m\u001b[0;34m\u001b[0m\u001b[0m\n\u001b[0m",
      "\u001b[0;31mAttributeError\u001b[0m: 'Supermarket' object has no attribute 'normalize_product_no'"
     ]
    }
   ],
   "source": [
    "Supermarket(\"bread\",\"2020\").normalize_product_no(\"milk\")"
   ]
  },
  {
   "cell_type": "code",
   "execution_count": null,
   "metadata": {},
   "outputs": [
    {
     "name": "stdout",
     "output_type": "stream",
     "text": [
      "Milki\n"
     ]
    }
   ],
   "source": [
    "ob.get_product()"
   ]
  },
  {
   "cell_type": "code",
   "execution_count": null,
   "metadata": {},
   "outputs": [
    {
     "name": "stdout",
     "output_type": "stream",
     "text": [
      "Milki\n"
     ]
    }
   ],
   "source": [
    "Supermarket.get_product()"
   ]
  },
  {
   "cell_type": "code",
   "execution_count": null,
   "metadata": {},
   "outputs": [
    {
     "ename": "NameError",
     "evalue": "name 'self' is not defined",
     "output_type": "error",
     "traceback": [
      "\u001b[0;31m---------------------------------------------------------------------------\u001b[0m",
      "\u001b[0;31mNameError\u001b[0m                                 Traceback (most recent call last)",
      "\u001b[0;32m<ipython-input-315-e9606515f647>\u001b[0m in \u001b[0;36m<module>\u001b[0;34m\u001b[0m\n\u001b[0;32m----> 1\u001b[0;31m \u001b[0mSupermarket\u001b[0m\u001b[0;34m.\u001b[0m\u001b[0mget_product_no\u001b[0m\u001b[0;34m(\u001b[0m\u001b[0;34m\"sdf\"\u001b[0m\u001b[0;34m)\u001b[0m\u001b[0;34m\u001b[0m\u001b[0;34m\u001b[0m\u001b[0m\n\u001b[0m",
      "\u001b[0;32m<ipython-input-308-b7dbd35d4cfe>\u001b[0m in \u001b[0;36mget_product_no\u001b[0;34m(cls)\u001b[0m\n\u001b[1;32m     20\u001b[0m \u001b[0;34m\u001b[0m\u001b[0m\n\u001b[1;32m     21\u001b[0m     \u001b[0;32mdef\u001b[0m \u001b[0mget_product_no\u001b[0m\u001b[0;34m(\u001b[0m\u001b[0mcls\u001b[0m\u001b[0;34m)\u001b[0m\u001b[0;34m:\u001b[0m\u001b[0;34m\u001b[0m\u001b[0;34m\u001b[0m\u001b[0m\n\u001b[0;32m---> 22\u001b[0;31m         \u001b[0mprint\u001b[0m\u001b[0;34m(\u001b[0m\u001b[0mself\u001b[0m\u001b[0;34m.\u001b[0m\u001b[0mproduct\u001b[0m\u001b[0;34m)\u001b[0m\u001b[0;34m\u001b[0m\u001b[0;34m\u001b[0m\u001b[0m\n\u001b[0m",
      "\u001b[0;31mNameError\u001b[0m: name 'self' is not defined"
     ]
    }
   ],
   "source": [
    "Supermarket.get_product_no()"
   ]
  },
  {
   "cell_type": "code",
   "execution_count": null,
   "metadata": {},
   "outputs": [],
   "source": [
    "class Supermarket:    \n",
    "    def __init__(self, product, best_before):\n",
    "        self.best_before = best_before\n",
    "        self.product = product\n",
    "    \n",
    "    @classmethod    \n",
    "    def add_product(cls):\n",
    "        return cls(\"Bread\", \"2022-05-29\")\n",
    "    \n",
    "    @staticmethod\n",
    "    def normalize_product(product):\n",
    "        product = product.capitalize().strip()\n",
    "        return product"
   ]
  },
  {
   "cell_type": "code",
   "execution_count": null,
   "metadata": {},
   "outputs": [
    {
     "data": {
      "text/plain": [
       "'Bread'"
      ]
     },
     "execution_count": 327,
     "metadata": {},
     "output_type": "execute_result"
    }
   ],
   "source": [
    "obj = Supermarket.add_product()\n",
    "obj.product"
   ]
  },
  {
   "cell_type": "code",
   "execution_count": null,
   "metadata": {},
   "outputs": [
    {
     "data": {
      "text/plain": [
       "'Bababa'"
      ]
     },
     "execution_count": 330,
     "metadata": {},
     "output_type": "execute_result"
    }
   ],
   "source": [
    "Supermarket.normalize_product(\"bababa\")"
   ]
  },
  {
   "cell_type": "code",
   "execution_count": null,
   "metadata": {},
   "outputs": [],
   "source": [
    "assert \"asd\""
   ]
  },
  {
   "cell_type": "code",
   "execution_count": null,
   "metadata": {},
   "outputs": [],
   "source": [
    "def reverse(text):\n",
    "    for char in range(len(text)-1,-1,-1):\n",
    "        yield text[char]\n",
    "\n",
    "def count():\n",
    "    n=0\n",
    "    while True:\n",
    "        yield n\n",
    "        n+=1"
   ]
  },
  {
   "cell_type": "code",
   "execution_count": null,
   "metadata": {},
   "outputs": [],
   "source": [
    "a=reverse(\"abcd\")"
   ]
  },
  {
   "cell_type": "code",
   "execution_count": null,
   "metadata": {},
   "outputs": [],
   "source": [
    "b = count()"
   ]
  },
  {
   "cell_type": "code",
   "execution_count": null,
   "metadata": {},
   "outputs": [
    {
     "data": {
      "text/plain": [
       "4"
      ]
     },
     "execution_count": 357,
     "metadata": {},
     "output_type": "execute_result"
    }
   ],
   "source": [
    "next(b)"
   ]
  },
  {
   "cell_type": "code",
   "execution_count": null,
   "metadata": {},
   "outputs": [],
   "source": [
    "generator = (x**2 for x in [1,2,3,4,5,6,7])"
   ]
  },
  {
   "cell_type": "code",
   "execution_count": null,
   "metadata": {},
   "outputs": [
    {
     "name": "stdout",
     "output_type": "stream",
     "text": [
      "1\n",
      "4\n",
      "9\n",
      "16\n",
      "25\n",
      "36\n",
      "49\n"
     ]
    }
   ],
   "source": [
    "for i in generator:\n",
    "    print(i)"
   ]
  },
  {
   "cell_type": "code",
   "execution_count": null,
   "metadata": {},
   "outputs": [
    {
     "data": {
      "text/plain": [
       "0"
      ]
     },
     "execution_count": 379,
     "metadata": {},
     "output_type": "execute_result"
    }
   ],
   "source": [
    "sum(generator)"
   ]
  },
  {
   "cell_type": "code",
   "execution_count": null,
   "metadata": {},
   "outputs": [],
   "source": [
    "def divide(x,y):\n",
    "    if x==0:\n",
    "        raise ZeroDivisionError(\"aslkdjalsdkj\")\n",
    "    try:\n",
    "        result = x//y\n",
    "        print(\"REsult :\",result)\n",
    "    # except TypeError:\n",
    "    #     print(\"stringgggggg\")\n",
    "    except ZeroDivisionError:\n",
    "        print(\"Zero error naja\")\n",
    "    else:\n",
    "        print(x)\n",
    "    finally:\n",
    "        print(\"ariakodai\")"
   ]
  },
  {
   "cell_type": "code",
   "execution_count": null,
   "metadata": {},
   "outputs": [
    {
     "name": "stdout",
     "output_type": "stream",
     "text": [
      "Zero error naja\n",
      "ariakodai\n"
     ]
    }
   ],
   "source": [
    "divide(4,0)"
   ]
  },
  {
   "cell_type": "code",
   "execution_count": null,
   "metadata": {},
   "outputs": [],
   "source": [
    "x=[123,43,2,1,237,53,657,789,90,5345,654,34,213]\n",
    "\n",
    "def binary_search(x,num):\n",
    "    start,end = 0,len(x)\n",
    "    midd=0\n",
    "    for _ in range(len(x)-1):\n",
    "        \n",
    "        mid = (start+end)//2\n",
    "        if midd ==mid:\n",
    "            print(\"Nonum\")\n",
    "            return None\n",
    "        #print(mid)\n",
    "        if num == x[mid]:\n",
    "            return num\n",
    "\n",
    "        else:\n",
    "            if num in x[:mid]:\n",
    "                end=mid\n",
    "                midd=mid\n",
    "            else:\n",
    "                start=mid\n",
    "                midd=mid"
   ]
  },
  {
   "cell_type": "code",
   "execution_count": null,
   "metadata": {},
   "outputs": [
    {
     "name": "stdout",
     "output_type": "stream",
     "text": [
      "6\n",
      "9\n",
      "11\n",
      "12\n",
      "Nonum\n"
     ]
    }
   ],
   "source": [
    "binary_search(x,122)"
   ]
  },
  {
   "cell_type": "code",
   "execution_count": null,
   "metadata": {},
   "outputs": [
    {
     "name": "stdout",
     "output_type": "stream",
     "text": [
      "True\n",
      "True\n",
      "True\n",
      "True\n",
      "True\n",
      "True\n",
      "True\n",
      "True\n",
      "True\n",
      "True\n",
      "True\n",
      "True\n",
      "True\n"
     ]
    }
   ],
   "source": [
    "for num in x:\n",
    "    print(num==binary_search(x,num))"
   ]
  },
  {
   "cell_type": "code",
   "execution_count": null,
   "metadata": {},
   "outputs": [],
   "source": [
    "def splitArray( nums: list[int], m: int) -> int:\n",
    "    def testSplit(maxm):\n",
    "        temp,currSum = 0,0\n",
    "        for no in nums:\n",
    "            currSum += no\n",
    "            if currSum > maxm:\n",
    "                temp += 1\n",
    "                currSum = no\n",
    "        return temp +1 <= m\n",
    "    \n",
    "    \n",
    "    left,right= max(nums),sum(nums)\n",
    "    ans = right\n",
    "    \n",
    "    while left<=right:\n",
    "        mid = left + ((right - left)//2)\n",
    "        if testSplit(mid):\n",
    "            ans = mid\n",
    "            right = mid-1\n",
    "        else:\n",
    "            left = mid +1 \n",
    "    return ans"
   ]
  },
  {
   "cell_type": "code",
   "execution_count": null,
   "metadata": {},
   "outputs": [
    {
     "name": "stdout",
     "output_type": "stream",
     "text": [
      "14\n"
     ]
    }
   ],
   "source": [
    "nums = [7,2,5,10,8]\n",
    "k=2\n",
    "print(splitArray(nums,3))"
   ]
  },
  {
   "cell_type": "code",
   "execution_count": null,
   "metadata": {},
   "outputs": [
    {
     "data": {
      "text/plain": [
       "32"
      ]
     },
     "execution_count": 496,
     "metadata": {},
     "output_type": "execute_result"
    }
   ],
   "source": [
    "sum(nums)"
   ]
  },
  {
   "cell_type": "code",
   "execution_count": null,
   "metadata": {},
   "outputs": [
    {
     "name": "stdout",
     "output_type": "stream",
     "text": [
      "35\n"
     ]
    }
   ],
   "source": [
    "def rob(nums: list[int]) -> int:\n",
    "    def robhelper(nums):\n",
    "        rob1, rob2, rob3 = 0,0,0\n",
    "        for n in nums:\n",
    "            ans = max(rob1+n, rob2, rob3)\n",
    "            rob1 =rob2\n",
    "            rob2=rob3\n",
    "            rob3=ans\n",
    "        return rob3\n",
    "    return max(nums[0], robhelper(nums[2:]), robhelper(nums[:-2]))\n",
    "\n",
    "nums=[10,1,2,5,1,5,1,1,20,1,1]\n",
    "\n",
    "print(rob(nums))"
   ]
  },
  {
   "cell_type": "code",
   "execution_count": null,
   "metadata": {},
   "outputs": [],
   "source": [
    "def rob( nums: list[int]) -> int:\n",
    "    # edge cases:\n",
    "    if len(nums) == 0: return 0\n",
    "    if len(nums) == 1: return nums[0]\n",
    "    if len(nums) == 2: return max(nums)\n",
    "    \n",
    "    # dynamic programming - decide each problem by its sub-problems:\n",
    "    dp = [0]*len(nums)\n",
    "    dp[0] = nums[0]\n",
    "    dp[1] = max(nums[0], nums[1])\n",
    "    for i in range(2, len(nums)):\n",
    "        dp[i] = max(dp[i-1], nums[i]+dp[i-2])\n",
    "    print(dp)\n",
    "    return dp[-1]"
   ]
  },
  {
   "cell_type": "code",
   "execution_count": null,
   "metadata": {},
   "outputs": [
    {
     "name": "stdout",
     "output_type": "stream",
     "text": [
      "[10, 10, 12, 15, 15, 20, 20, 21, 40, 40, 41]\n",
      "41\n"
     ]
    }
   ],
   "source": [
    "nums=[10,1,2,5,1,5,1,1,20,1,1]\n",
    "print(rob(nums))"
   ]
  },
  {
   "cell_type": "code",
   "execution_count": null,
   "metadata": {},
   "outputs": [],
   "source": [
    "def coinChange(coins:list[int], amount:int) -> int:\n",
    "    ans= [amount+1]*(amount+1)\n",
    "    # print(ans)\n",
    "    ans[0]=0\n",
    "    for amt in range(1,amount+1):\n",
    "        for cn in coins:\n",
    "            if amt-cn>=0:\n",
    "                ans[amt]=min(ans[amt],1+ans[amt-cn])\n",
    "    return ans[amount] if ans[amount] != amount+1 else -1"
   ]
  },
  {
   "cell_type": "code",
   "execution_count": null,
   "metadata": {},
   "outputs": [
    {
     "name": "stdout",
     "output_type": "stream",
     "text": [
      "[94, 94, 94, 94, 94, 94, 94, 94, 94, 94, 94, 94, 94, 94, 94, 94, 94, 94, 94, 94, 94, 94, 94, 94, 94, 94, 94, 94, 94, 94, 94, 94, 94, 94, 94, 94, 94, 94, 94, 94, 94, 94, 94, 94, 94, 94, 94, 94, 94, 94, 94, 94, 94, 94, 94, 94, 94, 94, 94, 94, 94, 94, 94, 94, 94, 94, 94, 94, 94, 94, 94, 94, 94, 94, 94, 94, 94, 94, 94, 94, 94, 94, 94, 94, 94, 94, 94, 94, 94, 94, 94, 94, 94, 94]\n"
     ]
    },
    {
     "data": {
      "text/plain": [
       "10"
      ]
     },
     "execution_count": 536,
     "metadata": {},
     "output_type": "execute_result"
    }
   ],
   "source": [
    "coinChange(coins=[7,9,10], amount=93)"
   ]
  },
  {
   "cell_type": "code",
   "execution_count": null,
   "metadata": {},
   "outputs": [
    {
     "name": "stdout",
     "output_type": "stream",
     "text": [
      "104\n"
     ]
    }
   ],
   "source": [
    "nums = [-2,1,-3,4,100,-2,1,-5,4]\n",
    "curSum = maxSum = nums[0]\n",
    "for num in nums[1:]:\n",
    "    curSum = max(num, curSum+num)\n",
    "    maxSum = max(maxSum, curSum)\n",
    "\n",
    "\n",
    "print(maxSum)\n",
    "\n"
   ]
  },
  {
   "cell_type": "code",
   "execution_count": null,
   "metadata": {},
   "outputs": [
    {
     "name": "stdout",
     "output_type": "stream",
     "text": [
      "2\n",
      "5\n",
      "6\n",
      "6\n",
      "7\n",
      "7\n",
      "3\n"
     ]
    }
   ],
   "source": [
    "target = 7\n",
    "nums = [2,3,1,2,4,3]\n",
    "l=0\n",
    "summ=0\n",
    "lptr=0\n",
    "for rptr in range(len(nums)):\n",
    "    summ+= nums[rptr]\n",
    "    while summ>target:\n",
    "        summ-=nums[lptr]\n",
    "        lptr+=1\n",
    "    print(summ)\n",
    "    if summ==target:\n",
    "        l = max(l,rptr-lptr)\n",
    "            \n",
    "print(l)\n"
   ]
  },
  {
   "cell_type": "code",
   "execution_count": null,
   "metadata": {},
   "outputs": [],
   "source": [
    "n=3\n",
    "count=0\n",
    "def rep(t,n):\n",
    "    ls=[]\n",
    "    if n<=0:\n",
    "        print(t)\n",
    "        if \"11\" in t:\n",
    "            global count\n",
    "            count+=1\n",
    "        return t\n",
    "    t_0=t+\"0\"\n",
    "    t_1=t+\"1\"\n",
    "    t_2=t+\"2\"\n",
    "    return rep(t_0,n-1)+\" \"+rep(t_1,n-1)+\" \"+rep(t_2,n-1)\n",
    "    \n"
   ]
  },
  {
   "cell_type": "code",
   "execution_count": null,
   "metadata": {},
   "outputs": [
    {
     "name": "stdout",
     "output_type": "stream",
     "text": [
      "00\n",
      "01\n",
      "02\n",
      "10\n",
      "11\n",
      "12\n",
      "20\n",
      "21\n",
      "22\n"
     ]
    },
    {
     "data": {
      "text/plain": [
       "'00 01 02 10 11 12 20 21 22'"
      ]
     },
     "execution_count": 86,
     "metadata": {},
     "output_type": "execute_result"
    }
   ],
   "source": [
    "rep(\"\",2)"
   ]
  },
  {
   "cell_type": "code",
   "execution_count": null,
   "metadata": {},
   "outputs": [],
   "source": [
    "import numpy as np\n",
    "import pandas as pd"
   ]
  },
  {
   "cell_type": "code",
   "execution_count": null,
   "metadata": {},
   "outputs": [
    {
     "name": "stdout",
     "output_type": "stream",
     "text": [
      "epoch:0 loss=95.0925809545667\n",
      "epoch:1 loss=91.479049296298\n",
      "epoch:2 loss=88.00455387883841\n",
      "epoch:3 loss=84.6636583759502\n",
      "epoch:4 loss=81.45114333357549\n",
      "epoch:5 loss=78.36199730711614\n",
      "epoch:6 loss=75.39140837101992\n",
      "epoch:7 loss=72.53475598455906\n",
      "epoch:8 loss=69.78760319840653\n",
      "epoch:9 loss=67.1456891873008\n",
      "epoch:10 loss=64.60492209474539\n",
      "epoch:11 loss=62.16137217631266\n",
      "epoch:12 loss=59.811265228718455\n",
      "epoch:13 loss=57.55097629240212\n",
      "epoch:14 loss=55.37702361588939\n",
      "epoch:15 loss=53.28606287073367\n",
      "epoch:16 loss=51.2748816063256\n",
      "epoch:17 loss=49.34039393433253\n",
      "epoch:18 loss=47.47963543298031\n",
      "epoch:19 loss=45.68975826181983\n",
      "epoch:20 loss=43.968026478030914\n",
      "epoch:21 loss=42.31181154570888\n",
      "epoch:22 loss=40.71858802995277\n",
      "epoch:23 loss=39.18592946793218\n",
      "epoch:24 loss=37.71150440945052\n",
      "epoch:25 loss=36.293072619848886\n",
      "epoch:26 loss=34.928481438405875\n",
      "epoch:27 loss=33.6156622856861\n",
      "epoch:28 loss=32.35262731357426\n",
      "epoch:29 loss=31.137466192002897\n",
      "epoch:30 loss=29.968343026641275\n",
      "epoch:31 loss=28.843493402060496\n",
      "epoch:32 loss=27.761221545126574\n",
      "epoch:33 loss=26.719897603599232\n",
      "epoch:34 loss=25.717955035130476\n",
      "epoch:35 loss=24.753888102063208\n",
      "epoch:36 loss=23.8262494676277\n",
      "epoch:37 loss=22.933647889322323\n",
      "epoch:38 loss=22.074746005445\n",
      "epoch:39 loss=21.248258210914578\n",
      "epoch:40 loss=20.452948618685575\n",
      "epoch:41 loss=19.687629103217752\n",
      "epoch:42 loss=18.951157422612038\n",
      "epoch:43 loss=18.242435416168764\n",
      "epoch:44 loss=17.560407274261426\n",
      "epoch:45 loss=16.90405787755115\n",
      "epoch:46 loss=16.27241120269281\n",
      "epoch:47 loss=15.66452879180402\n",
      "epoch:48 loss=15.079508283083676\n",
      "epoch:49 loss=14.516482000076534\n",
      "epoch:50 loss=13.974615597186052\n",
      "epoch:51 loss=13.453106759138059\n",
      "epoch:52 loss=12.951183952194809\n",
      "epoch:53 loss=12.46810522501064\n",
      "epoch:54 loss=12.003157057109217\n",
      "epoch:55 loss=11.555653253046598\n",
      "epoch:56 loss=11.124933880405095\n",
      "epoch:57 loss=10.710364249840579\n",
      "epoch:58 loss=10.311333935479492\n",
      "epoch:59 loss=9.927255834033053\n",
      "epoch:60 loss=9.557565261063734\n",
      "epoch:61 loss=9.201719082904214\n",
      "epoch:62 loss=8.859194882790824\n",
      "epoch:63 loss=8.529490159833426\n",
      "epoch:64 loss=8.212121559500332\n",
      "epoch:65 loss=7.906624134351471\n",
      "epoch:66 loss=7.612550633805313\n",
      "epoch:67 loss=7.32947082177502\n",
      "epoch:68 loss=7.056970821057148\n",
      "epoch:69 loss=6.794652483402152\n",
      "epoch:70 loss=6.542132784239871\n",
      "epoch:71 loss=6.299043241075165\n",
      "epoch:72 loss=6.0650293546092895\n",
      "epoch:73 loss=5.839750071681106\n",
      "epoch:74 loss=5.622877269159269\n",
      "epoch:75 loss=5.414095257951949\n",
      "epoch:76 loss=5.21310030633455\n",
      "epoch:77 loss=5.019600181828495\n",
      "epoch:78 loss=4.8333137108952435\n",
      "epoch:79 loss=4.653970355739615\n",
      "epoch:80 loss=4.481309807545067\n",
      "epoch:81 loss=4.315081595491067\n",
      "epoch:82 loss=4.155044710928948\n",
      "epoch:83 loss=4.000967246117817\n",
      "epoch:84 loss=3.8526260469462907\n",
      "epoch:85 loss=3.7098063790889357\n",
      "epoch:86 loss=3.5723016070685083\n",
      "epoch:87 loss=3.4399128857163594\n",
      "epoch:88 loss=3.312448863543763\n",
      "epoch:89 loss=3.1897253975565176\n",
      "epoch:90 loss=3.0715652790638415\n",
      "epoch:91 loss=2.9577979700506933\n",
      "epoch:92 loss=2.8482593496997426\n",
      "epoch:93 loss=2.742791470665901\n",
      "epoch:94 loss=2.6412423247220547\n",
      "epoch:95 loss=2.5434656174099297\n",
      "epoch:96 loss=2.4493205513445995\n",
      "epoch:97 loss=2.358671617835079\n",
      "epoch:98 loss=2.2713883964969885\n",
      "epoch:99 loss=2.187345362545994\n"
     ]
    }
   ],
   "source": [
    "#Initialize param\n",
    "# y = w*x+b\n",
    "#loss_func = (y-y_pred)**2/n RMSE\n",
    "#update weight diff_loss*learning_rate\n",
    "\n",
    "x = np.random.randn(100,1)\n",
    "y = 2*x+10\n",
    "w=0\n",
    "b=0\n",
    "loss_=[]\n",
    "def update_weight(b,w,x,y,lr=0.01):\n",
    "    diff_w,diff_b = 0,0\n",
    "    for x_i,y_i in zip(x,y):\n",
    "        y_pred = w*x_i+b\n",
    "        diff_w += 2*(y_i-y_pred)*(-x_i)\n",
    "        diff_b += -2*(y_i-y_pred)\n",
    "    w -= diff_w*lr/x.shape[0]\n",
    "    b -= diff_b*lr/x.shape[0]\n",
    "    \n",
    "    return w,b\n",
    "\n",
    "for epoch in range(100):\n",
    "    w,b = update_weight(b,w,x,y)\n",
    "    #print(w)\n",
    "    y_pred = w*x+b\n",
    "    loss = np.sum((y-y_pred)**2)/x.shape[0]\n",
    "    loss_.append(loss)\n",
    "    print(f\"epoch:{epoch} loss={loss}\")"
   ]
  },
  {
   "cell_type": "code",
   "execution_count": null,
   "metadata": {},
   "outputs": [
    {
     "data": {
      "text/plain": [
       "<AxesSubplot:>"
      ]
     },
     "execution_count": 69,
     "metadata": {},
     "output_type": "execute_result"
    },
    {
     "data": {
      "image/png": "[encoded data removed]",
      "text/plain": [
       "<Figure size 432x288 with 1 Axes>"
      ]
     },
     "metadata": {
      "needs_background": "light"
     },
     "output_type": "display_data"
    }
   ],
   "source": [
    "pd.Series(loss_).plot()\n"
   ]
  },
  {
   "cell_type": "code",
   "execution_count": null,
   "metadata": {},
   "outputs": [],
   "source": [
    "def quick_sort(collection):\n",
    "  \n",
    "    length = len(collection)\n",
    "    if length <= 1:\n",
    "        return collection\n",
    "    else:\n",
    "        # Use the last element as the first pivot\n",
    "        pivot = collection.pop()\n",
    "        # Put elements greater than pivot in greater list\n",
    "        # Put elements lesser than pivot in lesser list\n",
    "        greater, lesser = [], []\n",
    "        for element in collection:\n",
    "            if element > pivot:\n",
    "                greater.append(element)\n",
    "            else:\n",
    "                lesser.append(element)\n",
    "        return quick_sort(lesser) + [pivot] + quick_sort(greater)"
   ]
  },
  {
   "cell_type": "code",
   "execution_count": null,
   "metadata": {},
   "outputs": [],
   "source": [
    "fruits=[1,2,3,3,2,2,4,4,4,4,3,3,3,3]\n",
    "\n",
    "def totalfruits(fruits):\n",
    "        maxlen,locallen,l,unique=0,0,0,0\n",
    "        count={}\n",
    "        for r,v in enumerate(fruits):\n",
    "                if v not in count.keys() or count[v] == 0:\n",
    "                        unique+=1\n",
    "                count[v] = 1+count.get(v,0)\n",
    "                # if count[fruits[r]] == 1:\n",
    "                #         unique+=1\n",
    "\n",
    "                while unique >2:\n",
    "                        count[fruits[l]]-=1\n",
    "                        if count[fruits[l]] == 0:\n",
    "                                unique-=1\n",
    "                        l+=1\n",
    "                locallen = r-l+1\n",
    "                maxlen = max(maxlen,locallen)\n",
    "\n",
    "        return maxlen"
   ]
  },
  {
   "cell_type": "code",
   "execution_count": null,
   "metadata": {},
   "outputs": [
    {
     "data": {
      "text/plain": [
       "5"
      ]
     },
     "execution_count": 108,
     "metadata": {},
     "output_type": "execute_result"
    }
   ],
   "source": [
    "totalfruits([3,3,3,1,2,1,1,2,3,3,4])"
   ]
  },
  {
   "cell_type": "code",
   "execution_count": null,
   "metadata": {},
   "outputs": [
    {
     "name": "stdout",
     "output_type": "stream",
     "text": [
      "3\n"
     ]
    }
   ],
   "source": [
    "s = \"pwwkew\"\n",
    "l=0\n",
    "maxlen=0\n",
    "count={}\n",
    "for r,v in enumerate(s):\n",
    "    count[v] = 1+count.get(v,0)\n",
    "    while count[v] >1:\n",
    "        count[s[l]]-=1\n",
    "        l+=1\n",
    "    lenn = r-l+1\n",
    "    maxlen = max(maxlen,lenn)\n",
    "print(maxlen)"
   ]
  },
  {
   "cell_type": "code",
   "execution_count": null,
   "metadata": {},
   "outputs": [
    {
     "name": "stdout",
     "output_type": "stream",
     "text": [
      "1004991007\n"
     ]
    }
   ],
   "source": [
    "n= 10100101000001111010011100\n",
    "res = 0\n",
    "for _ in range(32):\n",
    "    res = (res<<1) + (n&1)\n",
    "    n>>=1\n",
    "\n",
    "print(res)"
   ]
  },
  {
   "cell_type": "code",
   "execution_count": null,
   "metadata": {},
   "outputs": [
    {
     "ename": "SyntaxError",
     "evalue": "invalid syntax (<ipython-input-129-facfc6c054c3>, line 3)",
     "output_type": "error",
     "traceback": [
      "\u001b[0;36m  File \u001b[0;32m\"<ipython-input-129-facfc6c054c3>\"\u001b[0;36m, line \u001b[0;32m3\u001b[0m\n\u001b[0;31m    print(n>>=1)\u001b[0m\n\u001b[0m           ^\u001b[0m\n\u001b[0;31mSyntaxError\u001b[0m\u001b[0;31m:\u001b[0m invalid syntax\n"
     ]
    }
   ],
   "source": [
    "print(res)\n",
    "print(res<<1)\n",
    "print(n>>=1)"
   ]
  },
  {
   "cell_type": "code",
   "execution_count": null,
   "metadata": {},
   "outputs": [
    {
     "data": {
      "text/plain": [
       "2"
      ]
     },
     "execution_count": 141,
     "metadata": {},
     "output_type": "execute_result"
    }
   ],
   "source": [
    "1003&2"
   ]
  },
  {
   "cell_type": "code",
   "execution_count": null,
   "metadata": {},
   "outputs": [
    {
     "name": "stdout",
     "output_type": "stream",
     "text": [
      "0\n",
      "0\n",
      "1\n",
      "3\n",
      "8\n",
      "19\n",
      "43\n",
      "94\n",
      "201\n",
      "423\n"
     ]
    }
   ],
   "source": [
    "ans=[]\n",
    "count=0\n",
    "def per(text,n):\n",
    "    if n>0:\n",
    "        count_1 = per(text+\"0\",n-1)\n",
    "        count_2 = per(text+\"1\",n-1)\n",
    "    else:\n",
    "        count=0\n",
    "        if \"11\" in text:\n",
    "            count+=1\n",
    "        ans.append(text)\n",
    "        return count\n",
    "    return count_1+count_2\n",
    "\n",
    "\n",
    "for i in range(10):\n",
    "    print(per(\"\",i))"
   ]
  },
  {
   "cell_type": "code",
   "execution_count": null,
   "metadata": {},
   "outputs": [
    {
     "data": {
      "text/plain": [
       "(['000', '001', '010', '011', '100', '101', '110', '111'], 0)"
      ]
     },
     "execution_count": 244,
     "metadata": {},
     "output_type": "execute_result"
    }
   ],
   "source": [
    "ans,count"
   ]
  },
  {
   "cell_type": "code",
   "execution_count": null,
   "metadata": {},
   "outputs": [
    {
     "ename": "NameError",
     "evalue": "name 'text' is not defined",
     "output_type": "error",
     "traceback": [
      "\u001b[0;31m---------------------------------------------------------------------------\u001b[0m",
      "\u001b[0;31mNameError\u001b[0m                                 Traceback (most recent call last)",
      "\u001b[0;32m<ipython-input-178-aa785adca3fc>\u001b[0m in \u001b[0;36m<module>\u001b[0;34m\u001b[0m\n\u001b[0;32m----> 1\u001b[0;31m \u001b[0mtext\u001b[0m\u001b[0;34m\u001b[0m\u001b[0;34m\u001b[0m\u001b[0m\n\u001b[0m",
      "\u001b[0;31mNameError\u001b[0m: name 'text' is not defined"
     ]
    }
   ],
   "source": [
    "\n"
   ]
  },
  {
   "cell_type": "code",
   "execution_count": null,
   "metadata": {},
   "outputs": [],
   "source": [
    "\n",
    "summ=0\n",
    "for num in nums:\n",
    "    summ+=num"
   ]
  },
  {
   "cell_type": "code",
   "execution_count": null,
   "metadata": {},
   "outputs": [
    {
     "data": {
      "text/plain": [
       "False"
      ]
     },
     "execution_count": 255,
     "metadata": {},
     "output_type": "execute_result"
    }
   ],
   "source": [
    "nums=[1,5,11,5]\n",
    "def canPartition(nums):\n",
    "    total = sum(nums)\n",
    "    if total%2 != 0 :\n",
    "        return False\n",
    "    target = total//2\n",
    "    dp = [False]*(target+1)\n",
    "    dp[0]= True\n",
    "    for num in nums:\n",
    "        for i in range(target, num-1, 1):\n",
    "            if dp[target]: return True\n",
    "            dp[i] = dp[i] or dp[i-num]\n",
    "\n",
    "\n",
    "    return dp[target]\n",
    "canPartition(nums)"
   ]
  },
  {
   "cell_type": "code",
   "execution_count": null,
   "metadata": {},
   "outputs": [
    {
     "data": {
      "text/plain": [
       "True"
      ]
     },
     "execution_count": 252,
     "metadata": {},
     "output_type": "execute_result"
    }
   ],
   "source": [
    "sum(nums)%2 ==False"
   ]
  },
  {
   "cell_type": "code",
   "execution_count": null,
   "metadata": {},
   "outputs": [
    {
     "data": {
      "text/plain": [
       "5"
      ]
     },
     "execution_count": 268,
     "metadata": {},
     "output_type": "execute_result"
    }
   ],
   "source": [
    "def climbstair(n):\n",
    "    count=0\n",
    "    if n>=0:\n",
    "        if n==0:\n",
    "            count+=1\n",
    "            return count\n",
    "        count_1 = climbstair(n-1)\n",
    "        count_2 = climbstair(n-2)\n",
    "        return count_1+count_2\n",
    "    return 0\n",
    "        \n",
    "    \n",
    "climbstair(4)"
   ]
  },
  {
   "cell_type": "code",
   "execution_count": null,
   "metadata": {},
   "outputs": [
    {
     "name": "stdout",
     "output_type": "stream",
     "text": [
      "0\n",
      "1\n",
      "2\n",
      "3\n",
      "5\n",
      "8\n",
      "13\n",
      "21\n",
      "34\n",
      "55\n"
     ]
    }
   ],
   "source": [
    "def climbstair(n):\n",
    "    if n<=0:return 0\n",
    "    if n==1:return 1\n",
    "    if n==2:return 2\n",
    "\n",
    "    one =2\n",
    "    two =1\n",
    "    all =0\n",
    "    for i in range(2,n):\n",
    "        all = one+two\n",
    "        two = one\n",
    "        one = all\n",
    "    return all\n",
    "for i in range(10):\n",
    "    print(climbstair(i))"
   ]
  },
  {
   "cell_type": "code",
   "execution_count": null,
   "metadata": {},
   "outputs": [
    {
     "data": {
      "text/plain": [
       "63245986"
      ]
     },
     "execution_count": 291,
     "metadata": {},
     "output_type": "execute_result"
    }
   ],
   "source": [
    "def climb(n):\n",
    "    dic={1:1,2:2}\n",
    "    if n not in dic:\n",
    "        dic[n] = climb(n-1)+climb(n-2)\n",
    "    return dic[n]\n",
    "climb(38)\n",
    "\n",
    "    \n"
   ]
  },
  {
   "cell_type": "code",
   "execution_count": null,
   "metadata": {},
   "outputs": [],
   "source": [
    "from matplotlib import pyplot as plt\n",
    "import matplotlib.style\n",
    "import matplotlib as mpl\n",
    "mpl.style.use('classic')\n",
    "\n",
    "import random\n",
    "import time"
   ]
  },
  {
   "cell_type": "code",
   "execution_count": null,
   "metadata": {},
   "outputs": [
    {
     "data": {
      "text/plain": [
       "<matplotlib.collections.PathCollection at 0x135b71fd0>"
      ]
     },
     "execution_count": 301,
     "metadata": {},
     "output_type": "execute_result"
    },
    {
     "data": {
      "image/png": "[encoded data removed]",
      "text/plain": [
       "<Figure size 640x480 with 1 Axes>"
      ]
     },
     "metadata": {},
     "output_type": "display_data"
    }
   ],
   "source": [
    "x = 0\n",
    "y = 0\n",
    "plt.scatter(x,y)"
   ]
  },
  {
   "cell_type": "code",
   "execution_count": null,
   "metadata": {},
   "outputs": [],
   "source": [
    "def randomxy():\n",
    "    x = random.randint(1,50)\n",
    "    y = random.randint(1,50)\n",
    "    return (x,y)\n",
    "def minimize_loss(x_true,y_true, lr=0.1):\n",
    "    plt.ion()\n",
    "    plt.axis([0,100,0,100])\n",
    "    plt.scatter(x_true,y_true,c='red', marker='x')\n",
    "    x,y = randomxy()\n",
    "    # loss_x = (x_true-x)**2\n",
    "    # loss_y = (y_true-y)**2\n",
    "\n",
    "    for i in range(10):\n",
    "        # plt.cla()\n",
    "        # plt.axis([0,100,0,100])\n",
    "        # plt.scatter(x_true,y_true,c='red', marker='x')\n",
    "        loss_x_diff = -2*(x_true-x)\n",
    "        loss_y_diff = -2*(y_true-y)\n",
    "        x -= lr*loss_x_diff\n",
    "        y -= lr*loss_y_diff\n",
    "        plt.scatter(x,y)\n",
    "        plt.draw()\n",
    "        \n",
    "        time.sleep(0.1)\n",
    "        \n",
    "\n",
    "    \n",
    "\n",
    "    "
   ]
  },
  {
   "cell_type": "code",
   "execution_count": null,
   "metadata": {},
   "outputs": [
    {
     "data": {
      "image/png": "[encoded data removed]",
      "text/plain": [
       "<Figure size 640x480 with 1 Axes>"
      ]
     },
     "metadata": {},
     "output_type": "display_data"
    }
   ],
   "source": [
    "minimize_loss(50,50)"
   ]
  },
  {
   "cell_type": "code",
   "execution_count": null,
   "metadata": {},
   "outputs": [
    {
     "name": "stdout",
     "output_type": "stream",
     "text": [
      "155\n"
     ]
    }
   ],
   "source": [
    "a =10011011\n",
    "ans=0\n",
    "x=0\n",
    "while a>0:\n",
    "    n = a%2\n",
    "    ans+= n*2**x\n",
    "    x+=1\n",
    "    a = a//10\n",
    "print(ans)\n"
   ]
  },
  {
   "cell_type": "code",
   "execution_count": null,
   "metadata": {},
   "outputs": [
    {
     "name": "stdout",
     "output_type": "stream",
     "text": [
      "10\n"
     ]
    }
   ],
   "source": [
    "bi=bin(10)\n",
    "print(int(bi,2))"
   ]
  },
  {
   "cell_type": "code",
   "execution_count": null,
   "metadata": {},
   "outputs": [
    {
     "data": {
      "text/plain": [
       "4"
      ]
     },
     "execution_count": 415,
     "metadata": {},
     "output_type": "execute_result"
    }
   ],
   "source": [
    "def fruitsBaskets(fruits):\n",
    "    counter = {}\n",
    "    maxlen=l=unique=0\n",
    "    for r in range(len(fruits)):\n",
    "        counter[fruits[r]] = 1+counter.get(fruits[r],0)\n",
    "        if counter[fruits[r]] == 1:\n",
    "            unique+=1\n",
    "        while unique >2:\n",
    "            counter[fruits[l]]-=1\n",
    "            if counter[fruits[l]] == 0:\n",
    "                unique-=1\n",
    "            l+=1\n",
    "        maxlen = max(maxlen,r-l+1)\n",
    "    return maxlen\n",
    "\n",
    "fruits=[1,2,1,0,0,1,2]\n",
    "fruitsBaskets(fruits)"
   ]
  },
  {
   "cell_type": "code",
   "execution_count": null,
   "metadata": {},
   "outputs": [
    {
     "data": {
      "text/plain": [
       "(['000', '001', '010', '011', '100', '101', '110', '111'], 0)"
      ]
     },
     "execution_count": 448,
     "metadata": {},
     "output_type": "execute_result"
    }
   ],
   "source": [
    "def combination(n):\n",
    "    ans =[]\n",
    "    text=\"\"\n",
    "    count=0\n",
    "    def add(ans,text,n):\n",
    "        if n>0:\n",
    "            add(ans,text+\"0\",n-1)\n",
    "            add(ans,text+\"1\",n-1)\n",
    "        else:\n",
    "            \n",
    "            if \"11\" in text:\n",
    "                global count\n",
    "                count+=1\n",
    "            ans.append(text)\n",
    "    add(ans,text,n)\n",
    "    return ans,count\n",
    "    \n",
    "combination(3)"
   ]
  },
  {
   "cell_type": "code",
   "execution_count": null,
   "metadata": {},
   "outputs": [
    {
     "name": "stdout",
     "output_type": "stream",
     "text": [
      "6\n"
     ]
    }
   ],
   "source": [
    "nums = [-2,1,-3,4,-1,2,1,-5,4]\n",
    "localmax=maxx=0\n",
    "for num in nums:\n",
    "    localmax = max(num+localmax, num)\n",
    "    maxx = max(localmax,maxx)\n",
    "print(maxx)"
   ]
  },
  {
   "cell_type": "code",
   "execution_count": null,
   "metadata": {},
   "outputs": [
    {
     "data": {
      "text/plain": [
       "6"
      ]
     },
     "execution_count": 463,
     "metadata": {},
     "output_type": "execute_result"
    }
   ],
   "source": [
    "s = \"BAAAAB\" \n",
    "k = 2\n",
    "def longest(s,k):\n",
    "    l=window=maxx=0\n",
    "    counter={}\n",
    "    for r in range(len(s)):\n",
    "        counter[s[r]] = 1+counter.get(s[r],0)\n",
    "        # window = max(window, counter[s[r]])\n",
    "        window = max(window,counter[s[r]])\n",
    "        if (r-l+1-window) > k:\n",
    "            counter[s[l]] -=1\n",
    "            l+=1\n",
    "        maxx = max(maxx,r-l+1)\n",
    "\n",
    "    return maxx\n",
    "longest(s,k)\n"
   ]
  },
  {
   "cell_type": "code",
   "execution_count": null,
   "metadata": {},
   "outputs": [
    {
     "data": {
      "text/plain": [
       "3"
      ]
     },
     "execution_count": 469,
     "metadata": {},
     "output_type": "execute_result"
    }
   ],
   "source": [
    "import math\n",
    "def coinChange(coins: list[int], amount: int) -> int:        \n",
    "    dp=[math.inf] * (amount+1)\n",
    "    dp[0]=0\n",
    "    \n",
    "    for coin in coins:\n",
    "        for i in range(coin, amount+1):\n",
    "            if i-coin>=0:\n",
    "                dp[i]=min(dp[i], dp[i-coin]+1)\n",
    "    \n",
    "    return -1 if dp[-1]==math.inf else dp[-1]\n",
    "coins=[1,2,5]\n",
    "amount=11\n",
    "coinChange(coins,amount)\n",
    "                "
   ]
  },
  {
   "cell_type": "code",
   "execution_count": null,
   "metadata": {},
   "outputs": [
    {
     "data": {
      "text/plain": [
       "3"
      ]
     },
     "execution_count": 471,
     "metadata": {},
     "output_type": "execute_result"
    }
   ],
   "source": [
    "def coinChange( coins: list[int], amount: int) -> int:            \n",
    "    def coinChangeInner(rem, cache):\n",
    "        if rem < 0:\n",
    "            return math.inf\n",
    "        if rem == 0:                    \n",
    "            return 0       \n",
    "        if rem in cache:\n",
    "            return cache[rem]\n",
    "        \n",
    "        cache[rem] = min(coinChangeInner(rem-x, cache) + 1 for x in coins)                         \n",
    "        return cache[rem]      \n",
    "    \n",
    "    ans = coinChangeInner(amount, {})\n",
    "    return -1 if ans == math.inf else ans\n",
    "coins=[1,2,5]\n",
    "amount=11\n",
    "coinChange(coins,amount)"
   ]
  },
  {
   "cell_type": "code",
   "execution_count": null,
   "metadata": {},
   "outputs": [
    {
     "data": {
      "text/plain": [
       "-1"
      ]
     },
     "execution_count": 501,
     "metadata": {},
     "output_type": "execute_result"
    }
   ],
   "source": [
    "nums=[1,3]\n",
    "target=3\n",
    "def rotated_sorted_array(nums,target):\n",
    "    start = 0\n",
    "    end = len(nums)-1\n",
    "    while start<=end:\n",
    "        # print(nums[start:end+1])\n",
    "        mid = (start+end)//2\n",
    "        if nums[mid] == target:\n",
    "            return mid\n",
    "        elif nums[mid] > target:\n",
    "            if nums[start] < nums[mid] and nums[mid]>nums[end]:\n",
    "                start = mid+1\n",
    "            else:\n",
    "                end = mid-1 \n",
    "        elif nums[mid] < target:\n",
    "            if nums[start] <nums[mid] and nums[mid]>nums[end]:\n",
    "                start = mid+1\n",
    "            else:\n",
    "                end = mid-1\n",
    "                \n",
    "    return -1\n",
    "rotated_sorted_array(nums,target)"
   ]
  },
  {
   "cell_type": "code",
   "execution_count": null,
   "metadata": {},
   "outputs": [
    {
     "data": {
      "text/plain": [
       "1"
      ]
     },
     "execution_count": 514,
     "metadata": {},
     "output_type": "execute_result"
    }
   ],
   "source": [
    "def countsetbit(n):\n",
    "    count=0\n",
    "    while (n):\n",
    "        count +=n&1\n",
    "        n>>=1\n",
    "    return count\n",
    "countsetbit(2)"
   ]
  },
  {
   "cell_type": "code",
   "execution_count": null,
   "metadata": {},
   "outputs": [
    {
     "data": {
      "text/plain": [
       "1016"
      ]
     },
     "execution_count": 552,
     "metadata": {},
     "output_type": "execute_result"
    }
   ],
   "source": [
    "1011^11\n"
   ]
  },
  {
   "cell_type": "code",
   "execution_count": null,
   "metadata": {},
   "outputs": [
    {
     "data": {
      "text/plain": [
       "1"
      ]
     },
     "execution_count": 566,
     "metadata": {},
     "output_type": "execute_result"
    }
   ],
   "source": [
    "a=\"11000101\"\n",
    "b=\"10000000\"\n",
    "carry=0\n",
    "int(a[0])^int(b[1])^0\n",
    "\n"
   ]
  },
  {
   "cell_type": "code",
   "execution_count": null,
   "metadata": {},
   "outputs": [
    {
     "name": "stdout",
     "output_type": "stream",
     "text": [
      "0\n",
      "0\n",
      "1\n"
     ]
    },
    {
     "data": {
      "text/plain": [
       "1"
      ]
     },
     "execution_count": 595,
     "metadata": {},
     "output_type": "execute_result"
    }
   ],
   "source": [
    "def isPowerOfTwo(n):\n",
    "    cnt = 0\n",
    "    while n > 0:\n",
    "        print(n&1)\n",
    "        if n & 1 == 1:\n",
    "            cnt = cnt + 1\n",
    "        n = n >> 1\n",
    " \n",
    "    if cnt == 1:\n",
    "        return 1\n",
    "    return 0\n",
    "isPowerOfTwo(4)"
   ]
  },
  {
   "cell_type": "code",
   "execution_count": null,
   "metadata": {},
   "outputs": [
    {
     "data": {
      "text/plain": [
       "96"
      ]
     },
     "execution_count": 609,
     "metadata": {},
     "output_type": "execute_result"
    }
   ],
   "source": [
    "100&"
   ]
  },
  {
   "cell_type": "code",
   "execution_count": null,
   "metadata": {},
   "outputs": [
    {
     "data": {
      "text/plain": [
       "[1, 0, 1]"
      ]
     },
     "execution_count": 618,
     "metadata": {},
     "output_type": "execute_result"
    }
   ],
   "source": [
    "string = \"\".join(map(str,[1,0,0]))\n",
    "a = str(int(string)+1)\n",
    "ans = [x for x in a]\n",
    "ans"
   ]
  },
  {
   "cell_type": "code",
   "execution_count": null,
   "metadata": {},
   "outputs": [
    {
     "name": "stdout",
     "output_type": "stream",
     "text": [
      "1 0 1\n",
      "2 1 0\n",
      "3 1 1\n",
      "4 1 0\n",
      "5 1 1\n",
      "6 2 0\n",
      "7 2 1\n",
      "8 1 0\n",
      "9 1 1\n",
      "10 2 0\n"
     ]
    },
    {
     "data": {
      "text/plain": [
       "[0, 1, 1, 2, 1, 2, 2, 3, 1, 2, 2]"
      ]
     },
     "execution_count": 655,
     "metadata": {},
     "output_type": "execute_result"
    }
   ],
   "source": [
    "def countBit(n):\n",
    "    counter=[0]\n",
    "    for i in range(1,n+1):\n",
    "        print(i,counter[i>>1], i%2)\n",
    "        counter.append(counter[i>>1]+i%2)\n",
    "    return counter\n",
    "countBit(10)"
   ]
  },
  {
   "cell_type": "code",
   "execution_count": null,
   "metadata": {},
   "outputs": [
    {
     "data": {
      "text/plain": [
       "5"
      ]
     },
     "execution_count": 653,
     "metadata": {},
     "output_type": "execute_result"
    }
   ],
   "source": [
    "10>>1"
   ]
  },
  {
   "cell_type": "code",
   "execution_count": null,
   "metadata": {},
   "outputs": [
    {
     "data": {
      "text/plain": [
       "[0, 1, 1, 2, 1, 2, 2, 3, 1, 2, 2, 3, 2, 3, 3, 4, 1, 2, 2, 3, 2, 3]"
      ]
     },
     "execution_count": 735,
     "metadata": {},
     "output_type": "execute_result"
    }
   ],
   "source": [
    "def countBit(n):\n",
    "    ans=[0]\n",
    "    for i in range(1,n+1):\n",
    "        h = ans[i>>1]\n",
    "        if i&1==1:\n",
    "            h+=1\n",
    "        ans.append(h)\n",
    "    return ans\n",
    "\n",
    "countBit(21)"
   ]
  },
  {
   "cell_type": "code",
   "execution_count": null,
   "metadata": {},
   "outputs": [
    {
     "data": {
      "text/plain": [
       "1"
      ]
     },
     "execution_count": 658,
     "metadata": {},
     "output_type": "execute_result"
    }
   ],
   "source": [
    "nums = [3,0,1]\n",
    "def missingNumber(nums):\n",
    "    for i in range(len(nums)+1):\n",
    "        \n"
   ]
  },
  {
   "cell_type": "code",
   "execution_count": null,
   "metadata": {},
   "outputs": [
    {
     "ename": "NameError",
     "evalue": "name 'reduce' is not defined",
     "output_type": "error",
     "traceback": [
      "\u001b[0;31m---------------------------------------------------------------------------\u001b[0m",
      "\u001b[0;31mNameError\u001b[0m                                 Traceback (most recent call last)",
      "\u001b[0;32m<ipython-input-674-59ac8b5abba6>\u001b[0m in \u001b[0;36m<module>\u001b[0;34m\u001b[0m\n\u001b[0;32m----> 1\u001b[0;31m \u001b[0mreduce\u001b[0m\u001b[0;34m(\u001b[0m\u001b[0;32mlambda\u001b[0m \u001b[0mx\u001b[0m\u001b[0;34m,\u001b[0m\u001b[0my\u001b[0m\u001b[0;34m:\u001b[0m \u001b[0mx\u001b[0m \u001b[0;34m^\u001b[0m \u001b[0my\u001b[0m\u001b[0;34m,\u001b[0m \u001b[0mlist\u001b[0m\u001b[0;34m(\u001b[0m\u001b[0mrange\u001b[0m\u001b[0;34m(\u001b[0m\u001b[0mlen\u001b[0m\u001b[0;34m(\u001b[0m\u001b[0mnums\u001b[0m\u001b[0;34m)\u001b[0m\u001b[0;34m+\u001b[0m\u001b[0;36m1\u001b[0m\u001b[0;34m)\u001b[0m\u001b[0;34m)\u001b[0m \u001b[0;34m+\u001b[0m \u001b[0mnums\u001b[0m\u001b[0;34m)\u001b[0m\u001b[0;34m\u001b[0m\u001b[0;34m\u001b[0m\u001b[0m\n\u001b[0m",
      "\u001b[0;31mNameError\u001b[0m: name 'reduce' is not defined"
     ]
    }
   ],
   "source": [
    "reduce(lambda x,y: x ^ y, list(range(len(nums)+1)) + nums)"
   ]
  },
  {
   "cell_type": "code",
   "execution_count": null,
   "metadata": {},
   "outputs": [
    {
     "data": {
      "text/plain": [
       "[0, 1, 2, 3, 3, 0, 1]"
      ]
     },
     "execution_count": 696,
     "metadata": {},
     "output_type": "execute_result"
    }
   ],
   "source": [
    "nums=[3,0,1]\n",
    "lis = list(range(len(nums)+1)) + nums\n",
    "lis"
   ]
  },
  {
   "cell_type": "code",
   "execution_count": null,
   "metadata": {},
   "outputs": [
    {
     "data": {
      "text/plain": [
       "2"
      ]
     },
     "execution_count": 692,
     "metadata": {},
     "output_type": "execute_result"
    }
   ],
   "source": [
    "functools.reduce(lambda x,y: x ^ y, list(range(len(nums)+1)) + nums)"
   ]
  },
  {
   "cell_type": "code",
   "execution_count": null,
   "metadata": {},
   "outputs": [
    {
     "data": {
      "text/plain": [
       "47"
      ]
     },
     "execution_count": 726,
     "metadata": {},
     "output_type": "execute_result"
    }
   ],
   "source": [
    "nums=[41,42,45,43,46,44]\n",
    "\n",
    "lis = list(range(41,min(nums)+len(nums)+1)) + nums\n",
    "lis\n",
    "for i in range(len(lis)-1):\n",
    "    lis[i+1] = lis[i]^lis[i+1]\n",
    "    # print(lis[i+1])\n",
    "lis[-1]"
   ]
  },
  {
   "cell_type": "code",
   "execution_count": null,
   "metadata": {},
   "outputs": [
    {
     "name": "stdout",
     "output_type": "stream",
     "text": [
      "3 0 1 2\n",
      "0 1 2 3\n",
      "5 2 3 4\n",
      "2 3 4 5\n",
      "7 4 5 6\n",
      "4 5 6 7\n",
      "9 6 7 8\n",
      "6 7 8 9\n",
      "11 8 9 10\n",
      "8 9 10 11\n"
     ]
    }
   ],
   "source": [
    "for i in range(10):\n",
    "    print(i^i+1^i+2, i,i+1,i+2)"
   ]
  },
  {
   "cell_type": "code",
   "execution_count": null,
   "metadata": {},
   "outputs": [],
   "source": [
    "import pandas as pd\n",
    "import json"
   ]
  },
  {
   "cell_type": "code",
   "execution_count": null,
   "metadata": {},
   "outputs": [
    {
     "name": "stderr",
     "output_type": "stream",
     "text": [
      "<ipython-input-43-35509574e49a>:1: DtypeWarning: Columns (1) have mixed types. Specify dtype option on import or set low_memory=False.\n",
      "  df = pd.read_csv(\"/Users/natapollimpananuwat/Desktop/Project_Dsci/Tellme/tellme_data.csv\", index_col=0)\n"
     ]
    },
    {
     "data": {
      "text/html": [
       "<div>\n",
       "<style scoped>\n",
       "    .dataframe tbody tr th:only-of-type {\n",
       "        vertical-align: middle;\n",
       "    }\n",
       "\n",
       "    .dataframe tbody tr th {\n",
       "        vertical-align: top;\n",
       "    }\n",
       "\n",
       "    .dataframe thead th {\n",
       "        text-align: right;\n",
       "    }\n",
       "</style>\n",
       "<table border=\"1\" class=\"dataframe\">\n",
       "  <thead>\n",
       "    <tr style=\"text-align: right;\">\n",
       "      <th></th>\n",
       "      <th>shop_code</th>\n",
       "      <th>shop_name</th>\n",
       "      <th>shop_province</th>\n",
       "      <th>sale_date</th>\n",
       "      <th>member_code</th>\n",
       "      <th>birth_year</th>\n",
       "      <th>start_year</th>\n",
       "      <th>member_province</th>\n",
       "      <th>product_code</th>\n",
       "      <th>product_color</th>\n",
       "      <th>product_name_x</th>\n",
       "      <th>quantity</th>\n",
       "      <th>price</th>\n",
       "      <th>category_name</th>\n",
       "      <th>age</th>\n",
       "      <th>value</th>\n",
       "      <th>member_part</th>\n",
       "      <th>shop_part</th>\n",
       "    </tr>\n",
       "  </thead>\n",
       "  <tbody>\n",
       "    <tr>\n",
       "      <th>0</th>\n",
       "      <td>4667</td>\n",
       "      <td>สินทรัพย์ทอง สงขลา</td>\n",
       "      <td>สงขลา</td>\n",
       "      <td>2019-12-04</td>\n",
       "      <td>10066720</td>\n",
       "      <td>1961.0</td>\n",
       "      <td>2011.0</td>\n",
       "      <td>ตรัง</td>\n",
       "      <td>9531</td>\n",
       "      <td>3</td>\n",
       "      <td>Tellme สมูธ แวร์ ลูส เพาเดอร์</td>\n",
       "      <td>2</td>\n",
       "      <td>575.0</td>\n",
       "      <td>แป้งฝุ่น</td>\n",
       "      <td>61</td>\n",
       "      <td>1150.0</td>\n",
       "      <td>S</td>\n",
       "      <td>S</td>\n",
       "    </tr>\n",
       "    <tr>\n",
       "      <th>1</th>\n",
       "      <td>4667</td>\n",
       "      <td>สินทรัพย์ทอง สงขลา</td>\n",
       "      <td>สงขลา</td>\n",
       "      <td>2019-12-04</td>\n",
       "      <td>10066720</td>\n",
       "      <td>1961.0</td>\n",
       "      <td>2011.0</td>\n",
       "      <td>ตรัง</td>\n",
       "      <td>9572</td>\n",
       "      <td>21</td>\n",
       "      <td>Tellme บลัชออน รีฟิล ใหญ่</td>\n",
       "      <td>1</td>\n",
       "      <td>250.0</td>\n",
       "      <td>ผลิตภัณฑ์แต่งหน้า</td>\n",
       "      <td>61</td>\n",
       "      <td>250.0</td>\n",
       "      <td>S</td>\n",
       "      <td>S</td>\n",
       "    </tr>\n",
       "    <tr>\n",
       "      <th>2</th>\n",
       "      <td>3779</td>\n",
       "      <td>โรบินสัน สกลนคร</td>\n",
       "      <td>สกลนคร</td>\n",
       "      <td>2019-11-19</td>\n",
       "      <td>10076238</td>\n",
       "      <td>1964.0</td>\n",
       "      <td>2013.0</td>\n",
       "      <td>ขอนแก่น</td>\n",
       "      <td>9618P899</td>\n",
       "      <td>7</td>\n",
       "      <td>Tellme สมูธแอสซิลค์ ทูเวย์(รีฟิลพร้อมสปองค์)</td>\n",
       "      <td>1</td>\n",
       "      <td>899.0</td>\n",
       "      <td>แป้งทู-เวย์</td>\n",
       "      <td>58</td>\n",
       "      <td>899.0</td>\n",
       "      <td>NW</td>\n",
       "      <td>NW</td>\n",
       "    </tr>\n",
       "    <tr>\n",
       "      <th>3</th>\n",
       "      <td>3214</td>\n",
       "      <td>โรบินสัน กาญจนบุรี</td>\n",
       "      <td>กาญจนบุรี</td>\n",
       "      <td>2020-02-17</td>\n",
       "      <td>4121117780</td>\n",
       "      <td>1981.0</td>\n",
       "      <td>2004.0</td>\n",
       "      <td>กาญจนบุรี</td>\n",
       "      <td>9786</td>\n",
       "      <td></td>\n",
       "      <td>Tellme สมูธแอสซิลค์ ซันโพรเท็คชั่น ครีม</td>\n",
       "      <td>1</td>\n",
       "      <td>1900.0</td>\n",
       "      <td>ครีมกันแดด</td>\n",
       "      <td>41</td>\n",
       "      <td>1900.0</td>\n",
       "      <td>E</td>\n",
       "      <td>E</td>\n",
       "    </tr>\n",
       "    <tr>\n",
       "      <th>4</th>\n",
       "      <td>3214</td>\n",
       "      <td>โรบินสัน กาญจนบุรี</td>\n",
       "      <td>กาญจนบุรี</td>\n",
       "      <td>2020-02-17</td>\n",
       "      <td>4121117780</td>\n",
       "      <td>1981.0</td>\n",
       "      <td>2004.0</td>\n",
       "      <td>กาญจนบุรี</td>\n",
       "      <td>9825</td>\n",
       "      <td>120</td>\n",
       "      <td>Tellme ยาทาเล็บ</td>\n",
       "      <td>1</td>\n",
       "      <td>89.0</td>\n",
       "      <td>อื่นๆ</td>\n",
       "      <td>41</td>\n",
       "      <td>89.0</td>\n",
       "      <td>E</td>\n",
       "      <td>E</td>\n",
       "    </tr>\n",
       "    <tr>\n",
       "      <th>...</th>\n",
       "      <td>...</td>\n",
       "      <td>...</td>\n",
       "      <td>...</td>\n",
       "      <td>...</td>\n",
       "      <td>...</td>\n",
       "      <td>...</td>\n",
       "      <td>...</td>\n",
       "      <td>...</td>\n",
       "      <td>...</td>\n",
       "      <td>...</td>\n",
       "      <td>...</td>\n",
       "      <td>...</td>\n",
       "      <td>...</td>\n",
       "      <td>...</td>\n",
       "      <td>...</td>\n",
       "      <td>...</td>\n",
       "      <td>...</td>\n",
       "      <td>...</td>\n",
       "    </tr>\n",
       "    <tr>\n",
       "      <th>550859</th>\n",
       "      <td>1326</td>\n",
       "      <td>โรบินสัน ศรีนครินทร์</td>\n",
       "      <td>กรุงเทพมหานคร</td>\n",
       "      <td>2019-12-23</td>\n",
       "      <td>1322132255</td>\n",
       "      <td>1947.0</td>\n",
       "      <td>2006.0</td>\n",
       "      <td>กรุงเทพมหานคร</td>\n",
       "      <td>9551N</td>\n",
       "      <td>064</td>\n",
       "      <td>Tellme อายเชโดว์ รีฟิล</td>\n",
       "      <td>1</td>\n",
       "      <td>140.0</td>\n",
       "      <td>ผลิตภัณฑ์แต่งหน้า</td>\n",
       "      <td>75</td>\n",
       "      <td>140.0</td>\n",
       "      <td>C</td>\n",
       "      <td>C</td>\n",
       "    </tr>\n",
       "    <tr>\n",
       "      <th>550860</th>\n",
       "      <td>1326</td>\n",
       "      <td>โรบินสัน ศรีนครินทร์</td>\n",
       "      <td>กรุงเทพมหานคร</td>\n",
       "      <td>2019-12-23</td>\n",
       "      <td>1322132255</td>\n",
       "      <td>1947.0</td>\n",
       "      <td>2006.0</td>\n",
       "      <td>กรุงเทพมหานคร</td>\n",
       "      <td>9552</td>\n",
       "      <td>005</td>\n",
       "      <td>Tellme อายเชโดว์ รีฟิล ใหญ่</td>\n",
       "      <td>2</td>\n",
       "      <td>180.0</td>\n",
       "      <td>ผลิตภัณฑ์แต่งหน้า</td>\n",
       "      <td>75</td>\n",
       "      <td>360.0</td>\n",
       "      <td>C</td>\n",
       "      <td>C</td>\n",
       "    </tr>\n",
       "    <tr>\n",
       "      <th>550861</th>\n",
       "      <td>4667</td>\n",
       "      <td>สินทรัพย์ทอง สงขลา</td>\n",
       "      <td>สงขลา</td>\n",
       "      <td>2019-12-04</td>\n",
       "      <td>4663114055</td>\n",
       "      <td>1964.0</td>\n",
       "      <td>2004.0</td>\n",
       "      <td>สงขลา</td>\n",
       "      <td>6517</td>\n",
       "      <td>3</td>\n",
       "      <td>Tellme ยูวีไวท์ฯ ทูเวย์(รีฟิลพร้อมสปองค์)</td>\n",
       "      <td>2</td>\n",
       "      <td>900.0</td>\n",
       "      <td>แป้งทู-เวย์</td>\n",
       "      <td>58</td>\n",
       "      <td>1800.0</td>\n",
       "      <td>S</td>\n",
       "      <td>S</td>\n",
       "    </tr>\n",
       "    <tr>\n",
       "      <th>550862</th>\n",
       "      <td>3094</td>\n",
       "      <td>มาร์คโฟร์ แพร่</td>\n",
       "      <td>แพร่</td>\n",
       "      <td>2019-11-25</td>\n",
       "      <td>3094115280</td>\n",
       "      <td>1962.0</td>\n",
       "      <td>2004.0</td>\n",
       "      <td>แพร่</td>\n",
       "      <td>9381</td>\n",
       "      <td>S14</td>\n",
       "      <td>Tellme สมูธแอสซิลค์ ลิปสติก</td>\n",
       "      <td>1</td>\n",
       "      <td>535.0</td>\n",
       "      <td>ลิปสติก</td>\n",
       "      <td>60</td>\n",
       "      <td>535.0</td>\n",
       "      <td>N</td>\n",
       "      <td>N</td>\n",
       "    </tr>\n",
       "    <tr>\n",
       "      <th>550863</th>\n",
       "      <td>3094</td>\n",
       "      <td>มาร์คโฟร์ แพร่</td>\n",
       "      <td>แพร่</td>\n",
       "      <td>2019-11-25</td>\n",
       "      <td>3094115280</td>\n",
       "      <td>1962.0</td>\n",
       "      <td>2004.0</td>\n",
       "      <td>แพร่</td>\n",
       "      <td>9786</td>\n",
       "      <td></td>\n",
       "      <td>Tellme สมูธแอสซิลค์ ซันโพรเท็คชั่น ครีม</td>\n",
       "      <td>1</td>\n",
       "      <td>1900.0</td>\n",
       "      <td>ครีมกันแดด</td>\n",
       "      <td>60</td>\n",
       "      <td>1900.0</td>\n",
       "      <td>N</td>\n",
       "      <td>N</td>\n",
       "    </tr>\n",
       "  </tbody>\n",
       "</table>\n",
       "<p>550141 rows × 18 columns</p>\n",
       "</div>"
      ],
      "text/plain": [
       "       shop_code             shop_name  shop_province   sale_date  \\\n",
       "0           4667    สินทรัพย์ทอง สงขลา          สงขลา  2019-12-04   \n",
       "1           4667    สินทรัพย์ทอง สงขลา          สงขลา  2019-12-04   \n",
       "2           3779       โรบินสัน สกลนคร         สกลนคร  2019-11-19   \n",
       "3           3214    โรบินสัน กาญจนบุรี      กาญจนบุรี  2020-02-17   \n",
       "4           3214    โรบินสัน กาญจนบุรี      กาญจนบุรี  2020-02-17   \n",
       "...          ...                   ...            ...         ...   \n",
       "550859      1326  โรบินสัน ศรีนครินทร์  กรุงเทพมหานคร  2019-12-23   \n",
       "550860      1326  โรบินสัน ศรีนครินทร์  กรุงเทพมหานคร  2019-12-23   \n",
       "550861      4667    สินทรัพย์ทอง สงขลา          สงขลา  2019-12-04   \n",
       "550862      3094        มาร์คโฟร์ แพร่           แพร่  2019-11-25   \n",
       "550863      3094        มาร์คโฟร์ แพร่           แพร่  2019-11-25   \n",
       "\n",
       "        member_code  birth_year  start_year member_province product_code  \\\n",
       "0          10066720      1961.0      2011.0            ตรัง     9531       \n",
       "1          10066720      1961.0      2011.0            ตรัง     9572       \n",
       "2          10076238      1964.0      2013.0         ขอนแก่น     9618P899   \n",
       "3        4121117780      1981.0      2004.0       กาญจนบุรี     9786       \n",
       "4        4121117780      1981.0      2004.0       กาญจนบุรี     9825       \n",
       "...             ...         ...         ...             ...          ...   \n",
       "550859   1322132255      1947.0      2006.0   กรุงเทพมหานคร     9551N      \n",
       "550860   1322132255      1947.0      2006.0   กรุงเทพมหานคร     9552       \n",
       "550861   4663114055      1964.0      2004.0           สงขลา     6517       \n",
       "550862   3094115280      1962.0      2004.0            แพร่     9381       \n",
       "550863   3094115280      1962.0      2004.0            แพร่     9786       \n",
       "\n",
       "       product_color                                product_name_x  quantity  \\\n",
       "0               3                    Tellme สมูธ แวร์ ลูส เพาเดอร์         2   \n",
       "1               21                       Tellme บลัชออน รีฟิล ใหญ่         1   \n",
       "2               7     Tellme สมูธแอสซิลค์ ทูเวย์(รีฟิลพร้อมสปองค์)         1   \n",
       "3                          Tellme สมูธแอสซิลค์ ซันโพรเท็คชั่น ครีม         1   \n",
       "4               120                                Tellme ยาทาเล็บ         1   \n",
       "...              ...                                           ...       ...   \n",
       "550859          064                         Tellme อายเชโดว์ รีฟิล         1   \n",
       "550860          005                    Tellme อายเชโดว์ รีฟิล ใหญ่         2   \n",
       "550861          3        Tellme ยูวีไวท์ฯ ทูเวย์(รีฟิลพร้อมสปองค์)         2   \n",
       "550862          S14                    Tellme สมูธแอสซิลค์ ลิปสติก         1   \n",
       "550863                     Tellme สมูธแอสซิลค์ ซันโพรเท็คชั่น ครีม         1   \n",
       "\n",
       "         price      category_name  age   value member_part shop_part  \n",
       "0        575.0           แป้งฝุ่น   61  1150.0           S         S  \n",
       "1        250.0  ผลิตภัณฑ์แต่งหน้า   61   250.0           S         S  \n",
       "2        899.0        แป้งทู-เวย์   58   899.0          NW        NW  \n",
       "3       1900.0         ครีมกันแดด   41  1900.0           E         E  \n",
       "4         89.0              อื่นๆ   41    89.0           E         E  \n",
       "...        ...                ...  ...     ...         ...       ...  \n",
       "550859   140.0  ผลิตภัณฑ์แต่งหน้า   75   140.0           C         C  \n",
       "550860   180.0  ผลิตภัณฑ์แต่งหน้า   75   360.0           C         C  \n",
       "550861   900.0        แป้งทู-เวย์   58  1800.0           S         S  \n",
       "550862   535.0            ลิปสติก   60   535.0           N         N  \n",
       "550863  1900.0         ครีมกันแดด   60  1900.0           N         N  \n",
       "\n",
       "[550141 rows x 18 columns]"
      ]
     },
     "execution_count": 43,
     "metadata": {},
     "output_type": "execute_result"
    }
   ],
   "source": [
    "df = pd.read_csv(\"/Users/natapollimpananuwat/Desktop/Project_Dsci/Tellme/tellme_data.csv\", index_col=0)\n",
    "df"
   ]
  },
  {
   "cell_type": "code",
   "execution_count": null,
   "metadata": {},
   "outputs": [],
   "source": [
    "df_new = df[df.sale_date>\"2020\"].reset_index(drop=True)\n",
    "df_new.to_csv(\"/Users/natapollimpananuwat/Desktop/Project_Dsci/Tellme/tellme_data copy.csv\")"
   ]
  },
  {
   "cell_type": "code",
   "execution_count": null,
   "metadata": {},
   "outputs": [
    {
     "data": {
      "text/plain": [
       "[{'shop_code': 4114,\n",
       "  'shop_name': 'อัมพร อยุธยา',\n",
       "  'shop_province': 'พระนครศรีอยุธยา',\n",
       "  'sale_date': '2021-01-25',\n",
       "  'member_code': 10078175,\n",
       "  'birth_year': 1965.0,\n",
       "  'start_year': 2013.0,\n",
       "  'member_province': 'พระนครศรีอยุธยา',\n",
       "  'product_code': 'A36638  ',\n",
       "  'product_color': '6   ',\n",
       "  'product_name_x': 'SUNWAY ลิปกลอส มอยส์เจอร์ไรเซอร์',\n",
       "  'quantity': 1,\n",
       "  'price': 39.0,\n",
       "  'category_name': 'ลิปสติก',\n",
       "  'age': 57,\n",
       "  'value': 39.0,\n",
       "  'member_part': 'C',\n",
       "  'shop_part': 'C'},\n",
       " {'shop_code': 3502,\n",
       "  'shop_name': 'นานาภัณฑ์ ยโสธรพลาซ่า',\n",
       "  'shop_province': 'ยโสธร',\n",
       "  'sale_date': '2020-05-26',\n",
       "  'member_code': 3501000135,\n",
       "  'birth_year': 1966.0,\n",
       "  'start_year': 1999.0,\n",
       "  'member_province': 'ยโสธร',\n",
       "  'product_code': '6517    ',\n",
       "  'product_color': '2   ',\n",
       "  'product_name_x': 'Tellme ยูวีไวท์ฯ ทูเวย์(รีฟิลพร้อมสปองค์)',\n",
       "  'quantity': 2,\n",
       "  'price': 900.0,\n",
       "  'category_name': 'แป้งทู-เวย์',\n",
       "  'age': 56,\n",
       "  'value': 1800.0,\n",
       "  'member_part': 'NW',\n",
       "  'shop_part': 'NW'}]"
      ]
     },
     "execution_count": 26,
     "metadata": {},
     "output_type": "execute_result"
    }
   ],
   "source": [
    "result = df.sample(2).to_json(orient='records')\n",
    "# print(result)\n",
    "parsed = json.loads(result)\n",
    "parsed\n",
    "# json.dumps(parsed, indent=4)"
   ]
  },
  {
   "cell_type": "code",
   "execution_count": null,
   "metadata": {},
   "outputs": [],
   "source": []
  },
  {
   "cell_type": "code",
   "execution_count": null,
   "metadata": {},
   "outputs": [
    {
     "data": {
      "text/plain": [
       "{(-1, -1, 2), (-1, 0, 1)}"
      ]
     },
     "execution_count": 71,
     "metadata": {},
     "output_type": "execute_result"
    }
   ],
   "source": [
    "def threeSum( nums: list[int]) -> list[list[int]]:\n",
    "    nums.sort()\n",
    "    ans=set()\n",
    "    for i in range(len(nums)):\n",
    "        target = 0-nums[i]\n",
    "        l = i+1\n",
    "        r=len(nums)-1\n",
    "        while l<r:\n",
    "            if nums[l] +nums[r] == target:\n",
    "                ans.add((nums[i],nums[l],nums[r]))\n",
    "                l+=1\n",
    "                r-=1\n",
    "            elif nums[l]+nums[r] > target:\n",
    "                r-=1\n",
    "            else:\n",
    "                l+=1\n",
    "    return ans\n",
    "threeSum([-1,0,1,2,-1,-4])"
   ]
  },
  {
   "cell_type": "code",
   "execution_count": null,
   "metadata": {},
   "outputs": [],
   "source": [
    "def threeSum( nums: list[int]) -> list[list[int]]:\n",
    "    nums.sort()\n",
    "    ans=set()\n",
    "    dic=[]\n",
    "    for i in range(len(nums)):\n",
    "        target = -nums[i]\n",
    "        l=i+1\n",
    "        r=len(nums)-1\n",
    "        \n",
    "        while r>l:\n",
    "            k=nums[r]+nums[l]\n",
    "            if k in dic:\n",
    "                ans.add((dic[k],nums[r],nums[l]))\n",
    "                r-=1\n",
    "                l+=1\n",
    "            else:\n",
    "                dic[]\n",
    "                l+=1\n",
    "\n",
    "\n",
    "    return ans\n",
    "\n",
    "threeSum([-1,0,1,2,-1,-4])"
   ]
  },
  {
   "cell_type": "code",
   "execution_count": null,
   "metadata": {},
   "outputs": [
    {
     "data": {
      "text/plain": [
       "{0: 5}"
      ]
     },
     "execution_count": 75,
     "metadata": {},
     "output_type": "execute_result"
    }
   ],
   "source": [
    "d={}\n",
    "d[0]=(2+3)\n",
    "d"
   ]
  },
  {
   "cell_type": "code",
   "execution_count": null,
   "metadata": {},
   "outputs": [
    {
     "data": {
      "text/plain": [
       "[1, 4, 4, 32]"
      ]
     },
     "execution_count": 40,
     "metadata": {},
     "output_type": "execute_result"
    }
   ],
   "source": [
    "a = [4,32,1,4]\n",
    "a.sort()\n",
    "a"
   ]
  },
  {
   "cell_type": "code",
   "execution_count": null,
   "metadata": {},
   "outputs": [
    {
     "data": {
      "text/plain": [
       "49"
      ]
     },
     "execution_count": 61,
     "metadata": {},
     "output_type": "execute_result"
    }
   ],
   "source": [
    "def maxArea( height: list[int]) -> int:\n",
    "    maxx=l=0\n",
    "    for r in range(1,len(height)):\n",
    "        if height[r]>height[l]:\n",
    "            area = height[l]*(r-l)\n",
    "            maxx = max(maxx,area)\n",
    "            n=r+1\n",
    "            while n<len(height):\n",
    "                h = min(height[l],height[n])\n",
    "                area = h*(n-l)\n",
    "                maxx = max(maxx,area)\n",
    "                n+=1\n",
    "            l=r\n",
    "        else:\n",
    "            area = height[r]*(r-l)\n",
    "            maxx = max(maxx,area)\n",
    "\n",
    "    return maxx\n",
    "\n",
    "maxArea(height=[1,8,6,2,5,4,8,25,7])"
   ]
  },
  {
   "cell_type": "code",
   "execution_count": null,
   "metadata": {},
   "outputs": [
    {
     "data": {
      "text/plain": [
       "False"
      ]
     },
     "execution_count": 54,
     "metadata": {},
     "output_type": "execute_result"
    }
   ],
   "source": [
    "height=[1,8,6,2,5,4,8,25,7]\n",
    "10<len(height)"
   ]
  },
  {
   "cell_type": "code",
   "execution_count": null,
   "metadata": {},
   "outputs": [
    {
     "data": {
      "text/plain": [
       "[0, 1]"
      ]
     },
     "execution_count": 77,
     "metadata": {},
     "output_type": "execute_result"
    }
   ],
   "source": [
    "nums=[2,7,11,15]\n",
    "target=9\n",
    "def twoSum(nums,target):\n",
    "    rev_table = dict()\n",
    "    for i in range(len(nums)):\n",
    "        second_addend = target - nums[i]\n",
    "        if second_addend in rev_table:\n",
    "            return [rev_table[second_addend], i]\n",
    "        else:\n",
    "            rev_table[nums[i]] = i\n",
    "twoSum(nums,target)"
   ]
  },
  {
   "cell_type": "code",
   "execution_count": null,
   "metadata": {},
   "outputs": [
    {
     "data": {
      "text/plain": [
       "3"
      ]
     },
     "execution_count": 23,
     "metadata": {},
     "output_type": "execute_result"
    }
   ],
   "source": [
    "haystack = \"missisipy\"\n",
    "needle = \"sisip\"\n",
    "def strStr(haystack, needle):\n",
    "    if len(needle)>len(haystack):\n",
    "        return -1\n",
    "    window = len(needle)\n",
    "    for i in range(len(haystack)-window+1):\n",
    "        # print(haystack[i:i+window])\n",
    "        if haystack[i:i+window] == needle:\n",
    "            return i\n",
    "    return -1\n",
    "\n",
    "\n",
    "strStr(haystack, needle)\n"
   ]
  },
  {
   "cell_type": "code",
   "execution_count": null,
   "metadata": {},
   "outputs": [
    {
     "data": {
      "text/plain": [
       "1"
      ]
     },
     "execution_count": 10,
     "metadata": {},
     "output_type": "execute_result"
    }
   ],
   "source": [
    "ans=[]\n",
    "ans.append(True)\n",
    "sum(ans)"
   ]
  },
  {
   "cell_type": "code",
   "execution_count": null,
   "metadata": {},
   "outputs": [
    {
     "name": "stdout",
     "output_type": "stream",
     "text": [
      "sisip\n"
     ]
    },
    {
     "data": {
      "text/plain": [
       "6122216442117810616"
      ]
     },
     "execution_count": 24,
     "metadata": {},
     "output_type": "execute_result"
    }
   ],
   "source": [
    "print(needle)\n",
    "hash(needle)"
   ]
  },
  {
   "cell_type": "code",
   "execution_count": null,
   "metadata": {},
   "outputs": [
    {
     "data": {
      "text/plain": [
       "0"
      ]
     },
     "execution_count": 26,
     "metadata": {},
     "output_type": "execute_result"
    }
   ],
   "source": [
    "prices = [7,6,4,3,1]\n",
    "\n",
    "def maxProfit(prices):\n",
    "    l,r=0,1\n",
    "    maxx=0\n",
    "    while r<len(prices):\n",
    "        maxx = max(maxx,prices[r]-prices[l])\n",
    "        if prices[r]< prices[l]:\n",
    "            l=r\n",
    "        r+=1\n",
    "    return maxx\n",
    "maxProfit(prices)\n",
    "\n"
   ]
  },
  {
   "cell_type": "code",
   "execution_count": null,
   "metadata": {},
   "outputs": [
    {
     "name": "stdout",
     "output_type": "stream",
     "text": [
      "[1, 1, 2, 6]\n",
      "[24, 12, 4, 1]\n"
     ]
    },
    {
     "data": {
      "text/plain": [
       "[24, 12, 8, 6]"
      ]
     },
     "execution_count": 56,
     "metadata": {},
     "output_type": "execute_result"
    }
   ],
   "source": [
    "nums = [1,2,3,4]\n",
    "def productExceptSelf( nums: list[int]) -> list[int]:\n",
    "    size = len(nums)\n",
    "    left = [0]*size\n",
    "    right = [0]*size\n",
    "    left[0]=1\n",
    "    right[size-1]=1\n",
    "\n",
    "    for i in range(1,size):\n",
    "        left[i] = left[i-1]*nums[i-1]\n",
    "        right[size-i-1] = right[size-i]*nums[size-i]\n",
    "    print(left)\n",
    "    print(right)\n",
    "    ans=[]\n",
    "    for i in range(size):\n",
    "        ans.append(left[i]*right[i])\n",
    "    return ans\n",
    "productExceptSelf(nums)"
   ]
  },
  {
   "cell_type": "code",
   "execution_count": null,
   "metadata": {},
   "outputs": [
    {
     "data": {
      "text/plain": [
       "[1, 1, 2, 6]"
      ]
     },
     "execution_count": 57,
     "metadata": {},
     "output_type": "execute_result"
    }
   ],
   "source": [
    "\n",
    "result = [1] * len(nums)        \n",
    "for i in range(1, len(nums)):\n",
    "    result[i] = nums[i-1] * result[i-1]\n",
    "result\n"
   ]
  },
  {
   "cell_type": "code",
   "execution_count": null,
   "metadata": {},
   "outputs": [
    {
     "name": "stdout",
     "output_type": "stream",
     "text": [
      "-3 12 -3\n"
     ]
    },
    {
     "data": {
      "text/plain": [
       "12"
      ]
     },
     "execution_count": 65,
     "metadata": {},
     "output_type": "execute_result"
    }
   ],
   "source": [
    "nums=[-4,-3]\n",
    "def maxProduct( nums: list[int]) -> int:\n",
    "    localmin=localmax=maxx=nums[0]\n",
    "    \n",
    "    for num in nums[1:]:\n",
    "        \n",
    "        localmaxx = max(num,localmax*num,localmin*num)\n",
    "        localminn = min(num,localmin*num,localmax*num)\n",
    "        # print(num,localmaxx,localminn)\n",
    "        maxx = max(maxx,localmaxx,localminn)\n",
    "        localmax=localmaxx\n",
    "        localmin=localminn\n",
    "    return maxx\n",
    "maxProduct(nums)"
   ]
  },
  {
   "cell_type": "code",
   "execution_count": null,
   "metadata": {},
   "outputs": [
    {
     "data": {
      "text/plain": [
       "15"
      ]
     },
     "execution_count": 70,
     "metadata": {},
     "output_type": "execute_result"
    }
   ],
   "source": [
    "12^1\n",
    "12^2\n",
    "12^3\n",
    "12 = 1100"
   ]
  },
  {
   "cell_type": "code",
   "execution_count": null,
   "metadata": {},
   "outputs": [
    {
     "data": {
      "text/plain": [
       "'asldj'"
      ]
     },
     "execution_count": 78,
     "metadata": {},
     "output_type": "execute_result"
    }
   ],
   "source": [
    "a=\" asldj   \"\n",
    "a.strip()"
   ]
  },
  {
   "cell_type": "code",
   "execution_count": null,
   "metadata": {},
   "outputs": [
    {
     "data": {
      "text/plain": [
       "'blue is sky the'"
      ]
     },
     "execution_count": 96,
     "metadata": {},
     "output_type": "execute_result"
    }
   ],
   "source": [
    "s = \"the sky is blue\"\n",
    "def reverseWords(s):\n",
    "    s = s.strip()\n",
    "    s = s.split()\n",
    "    text=\"\"\n",
    "    for i in range(len(s)-1,0,-1):\n",
    "        text+=s[i].strip()\n",
    "        text+=\" \"\n",
    "    text+=s[i-1].strip()\n",
    "    return text\n",
    "reverseWords(s)"
   ]
  },
  {
   "cell_type": "code",
   "execution_count": null,
   "metadata": {},
   "outputs": [
    {
     "name": "stdout",
     "output_type": "stream",
     "text": [
      "0p\n"
     ]
    },
    {
     "data": {
      "text/plain": [
       "False"
      ]
     },
     "execution_count": 123,
     "metadata": {},
     "output_type": "execute_result"
    }
   ],
   "source": [
    "def isPalindrome(s: str) -> bool:\n",
    "    text = [char.lower() for char in s if char.isalnum()]\n",
    "    text = \"\".join(text)\n",
    "    print(text)\n",
    "    length = len(text)\n",
    "    if length ==1:\n",
    "        return False\n",
    "    for i in range(length//2):\n",
    "        if text[i] == text[length-i-1]:\n",
    "            pass\n",
    "        else:\n",
    "            return False\n",
    "    return True\n",
    "s=\"0P\"\n",
    "isPalindrome(s)"
   ]
  },
  {
   "cell_type": "code",
   "execution_count": null,
   "metadata": {},
   "outputs": [
    {
     "data": {
      "text/plain": [
       "'asd,sad:'"
      ]
     },
     "execution_count": 117,
     "metadata": {},
     "output_type": "execute_result"
    }
   ],
   "source": [
    "\"asd\".isalpha()\n",
    "\"asd,sad:\".replace(\"[-+.^:,]\",\"\")"
   ]
  },
  {
   "cell_type": "code",
   "execution_count": null,
   "metadata": {},
   "outputs": [
    {
     "data": {
      "text/plain": [
       "1"
      ]
     },
     "execution_count": 134,
     "metadata": {},
     "output_type": "execute_result"
    }
   ],
   "source": [
    "nums = [3,4,5,1,2]\n",
    "def findMin(nums):\n",
    "    while nums[-1] < nums[0]:\n",
    "        #rotate\n",
    "        last = nums.pop()\n",
    "        nums.insert(0,last)\n",
    "    return nums[0]\n",
    "findMin(nums)"
   ]
  },
  {
   "cell_type": "code",
   "execution_count": null,
   "metadata": {},
   "outputs": [
    {
     "data": {
      "text/plain": [
       "1"
      ]
     },
     "execution_count": 137,
     "metadata": {},
     "output_type": "execute_result"
    }
   ],
   "source": [
    "def findMin( nums: list[int]) -> int:\n",
    "    l=0\n",
    "    r=len(nums)-1\n",
    "    while l<r:\n",
    "        mid = (l+r)//2\n",
    "        if nums[mid] > nums[r]:\n",
    "            l = mid+1\n",
    "        else:\n",
    "            r = mid\n",
    "    return nums[mid]\n",
    "nums = [3,4,5,1,2]\n",
    "findMin(nums)"
   ]
  },
  {
   "cell_type": "code",
   "execution_count": null,
   "metadata": {},
   "outputs": [
    {
     "data": {
      "text/plain": [
       "[5, 3, 4, 2]"
      ]
     },
     "execution_count": 133,
     "metadata": {},
     "output_type": "execute_result"
    }
   ],
   "source": [
    "nums=[3,4,2,5]\n",
    "b = nums.pop()\n",
    "b\n",
    "nums.insert(0,b)\n",
    "nums"
   ]
  },
  {
   "cell_type": "code",
   "execution_count": null,
   "metadata": {},
   "outputs": [
    {
     "data": {
      "text/plain": [
       "-1"
      ]
     },
     "execution_count": 147,
     "metadata": {},
     "output_type": "execute_result"
    }
   ],
   "source": [
    "nums = [4,5,6,7,0,1,2]\n",
    "target = 0\n",
    "def search(nums,target):\n",
    "    l=0\n",
    "    r=len(nums)-1\n",
    "    while r>l:   \n",
    "        mid = (l+r)//2\n",
    "        if nums[mid] == target:\n",
    "            return mid\n",
    "        elif nums[mid] < nums[r]:\n",
    "            if nums[mid] < target  < nums[r]:\n",
    "                l = mid+1\n",
    "            else:\n",
    "                r = mid\n",
    "        else:\n",
    "            if nums[l] < target < nums[mid]:\n",
    "                r = mid\n",
    "            else:\n",
    "                l=mid+1\n",
    "\n",
    "    return -1\n",
    "\n",
    "search(nums, target)"
   ]
  },
  {
   "cell_type": "code",
   "execution_count": null,
   "metadata": {},
   "outputs": [
    {
     "name": "stdout",
     "output_type": "stream",
     "text": [
      "5 0\n",
      "9 6\n",
      "8 6\n",
      "7 6\n",
      "6 6\n",
      "5 6\n",
      "6 6\n",
      "5 6\n",
      "4 6\n",
      "3 5\n"
     ]
    },
    {
     "data": {
      "text/plain": [
       "'BANC'"
      ]
     },
     "execution_count": 205,
     "metadata": {},
     "output_type": "execute_result"
    }
   ],
   "source": [
    "s = \"ADOBECODEBANC\"\n",
    "t = \"ABC\"\n",
    "def minWindow(s,t):\n",
    "    count ={}\n",
    "    l=char_n=l_ans=r_ans=0\n",
    "    for char in t:\n",
    "        count[char] = -1+count.get(char,0)\n",
    "    for r in range(len(s)):\n",
    "        count[s[r]] = 1+count.get(s[r],0)\n",
    "        if count[s[r]] <=0:\n",
    "            char_n+=1\n",
    "        while char_n>=len(t):\n",
    "            print(r-l, r_ans-l_ans)\n",
    "            if (r-l)<(r_ans-l_ans) or not r_ans:\n",
    "                l_ans=l\n",
    "                r_ans=r+1\n",
    "            count[s[l]] -=1\n",
    "            if count[s[l]] <0:\n",
    "                char_n-=1\n",
    "            l+=1\n",
    "    return s[l_ans:r_ans]\n",
    "minWindow(s,t)"
   ]
  },
  {
   "cell_type": "code",
   "execution_count": null,
   "metadata": {},
   "outputs": [
    {
     "data": {
      "text/plain": [
       "True"
      ]
     },
     "execution_count": 152,
     "metadata": {},
     "output_type": "execute_result"
    }
   ],
   "source": [
    "\"a\" in set({\"a\",\"b\"})"
   ]
  },
  {
   "cell_type": "code",
   "execution_count": null,
   "metadata": {},
   "outputs": [
    {
     "data": {
      "text/plain": [
       "''"
      ]
     },
     "execution_count": 196,
     "metadata": {},
     "output_type": "execute_result"
    }
   ],
   "source": [
    "\"not 0\"[0:0]"
   ]
  },
  {
   "cell_type": "code",
   "execution_count": null,
   "metadata": {},
   "outputs": [],
   "source": [
    "import pathlib\n",
    "import os\n",
    "import glob"
   ]
  },
  {
   "cell_type": "code",
   "execution_count": null,
   "metadata": {},
   "outputs": [],
   "source": [
    "pathlib.Path(\"test_folder\").mkdir(parents=True, exist_ok=True)"
   ]
  },
  {
   "cell_type": "code",
   "execution_count": null,
   "metadata": {},
   "outputs": [
    {
     "ename": "TypeError",
     "evalue": "expected str, bytes or os.PathLike object, not property",
     "output_type": "error",
     "traceback": [
      "\u001b[0;31m---------------------------------------------------------------------------\u001b[0m",
      "\u001b[0;31mTypeError\u001b[0m                                 Traceback (most recent call last)",
      "\u001b[0;32m<ipython-input-232-8a151bd8f010>\u001b[0m in \u001b[0;36m<module>\u001b[0;34m\u001b[0m\n\u001b[0;32m----> 1\u001b[0;31m \u001b[0mglob\u001b[0m\u001b[0;34m.\u001b[0m\u001b[0mglob\u001b[0m\u001b[0;34m(\u001b[0m\u001b[0mpathlib\u001b[0m\u001b[0;34m.\u001b[0m\u001b[0mPath\u001b[0m\u001b[0;34m.\u001b[0m\u001b[0mname\u001b[0m\u001b[0;34m)\u001b[0m\u001b[0;34m\u001b[0m\u001b[0;34m\u001b[0m\u001b[0m\n\u001b[0m",
      "\u001b[0;32m~/miniforge3/envs/dsci3.9/lib/python3.9/glob.py\u001b[0m in \u001b[0;36mglob\u001b[0;34m(pathname, recursive)\u001b[0m\n\u001b[1;32m     20\u001b[0m     \u001b[0mzero\u001b[0m \u001b[0;32mor\u001b[0m \u001b[0mmore\u001b[0m \u001b[0mdirectories\u001b[0m \u001b[0;32mand\u001b[0m \u001b[0msubdirectories\u001b[0m\u001b[0;34m.\u001b[0m\u001b[0;34m\u001b[0m\u001b[0;34m\u001b[0m\u001b[0m\n\u001b[1;32m     21\u001b[0m     \"\"\"\n\u001b[0;32m---> 22\u001b[0;31m     \u001b[0;32mreturn\u001b[0m \u001b[0mlist\u001b[0m\u001b[0;34m(\u001b[0m\u001b[0miglob\u001b[0m\u001b[0;34m(\u001b[0m\u001b[0mpathname\u001b[0m\u001b[0;34m,\u001b[0m \u001b[0mrecursive\u001b[0m\u001b[0;34m=\u001b[0m\u001b[0mrecursive\u001b[0m\u001b[0;34m)\u001b[0m\u001b[0;34m)\u001b[0m\u001b[0;34m\u001b[0m\u001b[0;34m\u001b[0m\u001b[0m\n\u001b[0m\u001b[1;32m     23\u001b[0m \u001b[0;34m\u001b[0m\u001b[0m\n\u001b[1;32m     24\u001b[0m \u001b[0;32mdef\u001b[0m \u001b[0miglob\u001b[0m\u001b[0;34m(\u001b[0m\u001b[0mpathname\u001b[0m\u001b[0;34m,\u001b[0m \u001b[0;34m*\u001b[0m\u001b[0;34m,\u001b[0m \u001b[0mrecursive\u001b[0m\u001b[0;34m=\u001b[0m\u001b[0;32mFalse\u001b[0m\u001b[0;34m)\u001b[0m\u001b[0;34m:\u001b[0m\u001b[0;34m\u001b[0m\u001b[0;34m\u001b[0m\u001b[0m\n",
      "\u001b[0;32m~/miniforge3/envs/dsci3.9/lib/python3.9/glob.py\u001b[0m in \u001b[0;36m_iglob\u001b[0;34m(pathname, recursive, dironly)\u001b[0m\n\u001b[1;32m     41\u001b[0m \u001b[0;34m\u001b[0m\u001b[0m\n\u001b[1;32m     42\u001b[0m \u001b[0;32mdef\u001b[0m \u001b[0m_iglob\u001b[0m\u001b[0;34m(\u001b[0m\u001b[0mpathname\u001b[0m\u001b[0;34m,\u001b[0m \u001b[0mrecursive\u001b[0m\u001b[0;34m,\u001b[0m \u001b[0mdironly\u001b[0m\u001b[0;34m)\u001b[0m\u001b[0;34m:\u001b[0m\u001b[0;34m\u001b[0m\u001b[0;34m\u001b[0m\u001b[0m\n\u001b[0;32m---> 43\u001b[0;31m     \u001b[0mdirname\u001b[0m\u001b[0;34m,\u001b[0m \u001b[0mbasename\u001b[0m \u001b[0;34m=\u001b[0m \u001b[0mos\u001b[0m\u001b[0;34m.\u001b[0m\u001b[0mpath\u001b[0m\u001b[0;34m.\u001b[0m\u001b[0msplit\u001b[0m\u001b[0;34m(\u001b[0m\u001b[0mpathname\u001b[0m\u001b[0;34m)\u001b[0m\u001b[0;34m\u001b[0m\u001b[0;34m\u001b[0m\u001b[0m\n\u001b[0m\u001b[1;32m     44\u001b[0m     \u001b[0;32mif\u001b[0m \u001b[0;32mnot\u001b[0m \u001b[0mhas_magic\u001b[0m\u001b[0;34m(\u001b[0m\u001b[0mpathname\u001b[0m\u001b[0;34m)\u001b[0m\u001b[0;34m:\u001b[0m\u001b[0;34m\u001b[0m\u001b[0;34m\u001b[0m\u001b[0m\n\u001b[1;32m     45\u001b[0m         \u001b[0;32massert\u001b[0m \u001b[0;32mnot\u001b[0m \u001b[0mdironly\u001b[0m\u001b[0;34m\u001b[0m\u001b[0;34m\u001b[0m\u001b[0m\n",
      "\u001b[0;32m~/miniforge3/envs/dsci3.9/lib/python3.9/posixpath.py\u001b[0m in \u001b[0;36msplit\u001b[0;34m(p)\u001b[0m\n\u001b[1;32m    101\u001b[0m     \"\"\"Split a pathname.  Returns tuple \"(head, tail)\" where \"tail\" is\n\u001b[1;32m    102\u001b[0m     everything after the final slash.  Either part may be empty.\"\"\"\n\u001b[0;32m--> 103\u001b[0;31m     \u001b[0mp\u001b[0m \u001b[0;34m=\u001b[0m \u001b[0mos\u001b[0m\u001b[0;34m.\u001b[0m\u001b[0mfspath\u001b[0m\u001b[0;34m(\u001b[0m\u001b[0mp\u001b[0m\u001b[0;34m)\u001b[0m\u001b[0;34m\u001b[0m\u001b[0;34m\u001b[0m\u001b[0m\n\u001b[0m\u001b[1;32m    104\u001b[0m     \u001b[0msep\u001b[0m \u001b[0;34m=\u001b[0m \u001b[0m_get_sep\u001b[0m\u001b[0;34m(\u001b[0m\u001b[0mp\u001b[0m\u001b[0;34m)\u001b[0m\u001b[0;34m\u001b[0m\u001b[0;34m\u001b[0m\u001b[0m\n\u001b[1;32m    105\u001b[0m     \u001b[0mi\u001b[0m \u001b[0;34m=\u001b[0m \u001b[0mp\u001b[0m\u001b[0;34m.\u001b[0m\u001b[0mrfind\u001b[0m\u001b[0;34m(\u001b[0m\u001b[0msep\u001b[0m\u001b[0;34m)\u001b[0m \u001b[0;34m+\u001b[0m \u001b[0;36m1\u001b[0m\u001b[0;34m\u001b[0m\u001b[0;34m\u001b[0m\u001b[0m\n",
      "\u001b[0;31mTypeError\u001b[0m: expected str, bytes or os.PathLike object, not property"
     ]
    }
   ],
   "source": [
    "glob.glob(pathlib.Path.name)"
   ]
  },
  {
   "cell_type": "code",
   "execution_count": null,
   "metadata": {},
   "outputs": [
    {
     "data": {
      "text/plain": [
       "PosixPath('/Users/natapollimpananuwat/Desktop/Project_Dsci/Programing_Practice')"
      ]
     },
     "execution_count": 240,
     "metadata": {},
     "output_type": "execute_result"
    }
   ],
   "source": [
    "pathlib.Path.cwd()"
   ]
  },
  {
   "cell_type": "code",
   "execution_count": null,
   "metadata": {},
   "outputs": [
    {
     "name": "stdout",
     "output_type": "stream",
     "text": [
      "asd 1\n",
      "wer a\n",
      "n 324\n",
      "p True\n"
     ]
    }
   ],
   "source": [
    "def baaa(**args):\n",
    "    for k,v in args.items():\n",
    "        print(k,v)\n",
    "baaa(asd=1,wer=\"a\",n=324,p=True)"
   ]
  },
  {
   "cell_type": "code",
   "execution_count": null,
   "metadata": {},
   "outputs": [
    {
     "data": {
      "text/plain": [
       "dict_values([2, 4])"
      ]
     },
     "execution_count": 250,
     "metadata": {},
     "output_type": "execute_result"
    }
   ],
   "source": [
    "d={1:2,3:4}\n",
    "d.values()"
   ]
  },
  {
   "cell_type": "code",
   "execution_count": null,
   "metadata": {},
   "outputs": [
    {
     "name": "stdout",
     "output_type": "stream",
     "text": [
      "{'c': 1, 'a': 0, 'r': 0, 't': -1}\n"
     ]
    },
    {
     "data": {
      "text/plain": [
       "True"
      ]
     },
     "execution_count": 267,
     "metadata": {},
     "output_type": "execute_result"
    }
   ],
   "source": [
    "def isAnagram( s: str, t: str) -> bool:\n",
    "    count={}\n",
    "    for c in s:\n",
    "        count[c] = 1+count.get(c,0)\n",
    "    for c in t:\n",
    "        count[c] = -1+count.get(c,0)\n",
    "    print(count)\n",
    "    if sum(count.values())==0:\n",
    "        return True\n",
    "    else:\n",
    "        return False\n",
    "s=\"car\"\n",
    "t=\"rat\"\n",
    "isAnagram(s,t)"
   ]
  },
  {
   "cell_type": "code",
   "execution_count": null,
   "metadata": {},
   "outputs": [
    {
     "name": "stdout",
     "output_type": "stream",
     "text": [
      "{'': set()}\n"
     ]
    },
    {
     "data": {
      "text/plain": [
       "[['']]"
      ]
     },
     "execution_count": 330,
     "metadata": {},
     "output_type": "execute_result"
    }
   ],
   "source": [
    "strs = [\"\",\"\"]\n",
    "def groupAnagrams(strs):\n",
    "    count_word={}\n",
    "    # count = {}\n",
    "    for word in strs:\n",
    "        count = {}\n",
    "        for c in word:\n",
    "            count[c] = 1+count.get(c,0)\n",
    "        count_word[word] = set(count.items())\n",
    "    print(count_word)\n",
    "    anss=[]\n",
    "    while len(count_word)>0:\n",
    "        l = list(count_word)\n",
    "        ans=[]\n",
    "        j=1\n",
    "        ans.append(l[0])\n",
    "        while j<len(count_word):\n",
    "            # print(count_word[l[i]])\n",
    "            if count_word[l[0]].difference(count_word[l[j]])==set():\n",
    "                ans.append(l[j])\n",
    "            j+=1\n",
    "        anss.append(ans)\n",
    "        for o in ans:\n",
    "            count_word.pop(o)\n",
    "    return anss\n",
    "groupAnagrams(strs)    "
   ]
  },
  {
   "cell_type": "code",
   "execution_count": null,
   "metadata": {},
   "outputs": [],
   "source": [
    "from collections import defaultdict"
   ]
  },
  {
   "cell_type": "code",
   "execution_count": null,
   "metadata": {},
   "outputs": [
    {
     "name": "stdout",
     "output_type": "stream",
     "text": [
      "defaultdict(<class 'list'>, {('a', 'e', 't'): ['eat', 'tea', 'ate'], ('a', 'n', 't'): ['tan', 'nat'], ('a', 'b', 't'): ['bat']})\n"
     ]
    },
    {
     "data": {
      "text/plain": [
       "[['eat', 'tea', 'ate'], ['tan', 'nat'], ['bat']]"
      ]
     },
     "execution_count": 341,
     "metadata": {},
     "output_type": "execute_result"
    }
   ],
   "source": [
    "strs = [\"eat\",\"tea\",\"tan\",\"ate\",\"nat\",\"bat\"]\n",
    "def groupAnagrams(strs: list[str]) -> list[list[str]]:\n",
    "    letters_to_words = defaultdict(list)\n",
    "    \n",
    "    for word in strs:\n",
    "        letters_to_words[tuple(sorted(word))].append(word)\n",
    "    # print(letters_to_words)\n",
    "    return list(letters_to_words.values())\n",
    "groupAnagrams(strs)"
   ]
  },
  {
   "cell_type": "code",
   "execution_count": null,
   "metadata": {},
   "outputs": [
    {
     "data": {
      "text/plain": [
       "('a', 'e', 't')"
      ]
     },
     "execution_count": 345,
     "metadata": {},
     "output_type": "execute_result"
    }
   ],
   "source": [
    "word='eat'\n",
    "d=defaultdict(list)\n",
    "tuple(sorted(word))"
   ]
  },
  {
   "cell_type": "code",
   "execution_count": null,
   "metadata": {},
   "outputs": [
    {
     "data": {
      "text/plain": [
       "['a', 'e', 't']"
      ]
     },
     "execution_count": 346,
     "metadata": {},
     "output_type": "execute_result"
    }
   ],
   "source": [
    "sorted(word)"
   ]
  },
  {
   "cell_type": "code",
   "execution_count": null,
   "metadata": {},
   "outputs": [
    {
     "data": {
      "text/plain": [
       "False"
      ]
     },
     "execution_count": 364,
     "metadata": {},
     "output_type": "execute_result"
    }
   ],
   "source": [
    "def isValid( s: str) -> bool:\n",
    "    d={\"(\":\")\",\"{\":\"}\",\"[\":\"]\"}\n",
    "    stack=[]\n",
    "    for i in s:\n",
    "        if i in d:\n",
    "            stack.append(d[i])\n",
    "        elif len(stack)>0 and stack[-1]==i :\n",
    "            stack.pop()\n",
    "        else:\n",
    "            return False\n",
    "        print(stack)\n",
    "    return len(stack)==0\n",
    "s = \"]\"\n",
    "isValid(s)"
   ]
  },
  {
   "cell_type": "code",
   "execution_count": null,
   "metadata": {},
   "outputs": [
    {
     "data": {
      "text/plain": [
       "'adda'"
      ]
     },
     "execution_count": 400,
     "metadata": {},
     "output_type": "execute_result"
    }
   ],
   "source": [
    "s = \"babadda\"\n",
    "def longestPalindrome(s):\n",
    "    dp = [[0]*len(s) for _ in range(len(s))]\n",
    "    for i in range(len(s)):\n",
    "        dp[i][i] = True\n",
    "    ans=s[0]\n",
    "\n",
    "    # dp[0][3] = \"baba\" dp[3][3] = \"a\" dp[2][4] = \"bad\"\n",
    "    for j in range(len(s)):\n",
    "        for i in range(j):\n",
    "            if s[i]==s[j]:\n",
    "                if j-i==1 or dp[i+1][j-1]:\n",
    "                    dp[i][j] = True\n",
    "                    if len(ans) < len(s[i:j+1]):\n",
    "                        ans = s[i:j+1]\n",
    "\n",
    "    return ans\n",
    "        \n",
    "longestPalindrome(s)        "
   ]
  },
  {
   "cell_type": "code",
   "execution_count": null,
   "metadata": {},
   "outputs": [
    {
     "data": {
      "text/plain": [
       "[[True, (0, 1), (0, 2), (0, 3), True],\n",
       " [0, True, (1, 2), True, (1, 4)],\n",
       " [0, 0, True, (2, 3), (2, 4)],\n",
       " [0, 0, 0, True, (3, 4)],\n",
       " [0, 0, 0, 0, True]]"
      ]
     },
     "execution_count": 393,
     "metadata": {},
     "output_type": "execute_result"
    }
   ],
   "source": [
    "s = \"abcba\"\n",
    "dp = [[0]*len(s) for _ in range(len(s))]\n",
    "for i in range(len(s)):\n",
    "    dp[i][i] = True\n",
    "longest_palindrom = s[0]\n",
    "for j in range(len(s)):\n",
    "        # j starts from the i location : to only work on the upper side of the diagonal \n",
    "    for i in range(j):\n",
    "        dp[i][j] = (i,j)\n",
    "        if s[i] == s[j] and (j-i==1 or dp[i+1][j-1]):\n",
    "            dp[i][j] = s[i:j+1]\n",
    "            dp[i][j] = True\n",
    "#             if j-i==1 or dp[i+1][j-1] is True:\n",
    "#                 dp[i][j] = True\n",
    "#                 if len(longest_palindrom) < len(s[i:j+1]):\n",
    "#                         longest_palindrom = s[i:j+1]\n",
    "#             print(dp[i+1][j-1])\n",
    "# print(longest_palindrom)\n",
    "dp"
   ]
  },
  {
   "cell_type": "code",
   "execution_count": null,
   "metadata": {},
   "outputs": [
    {
     "data": {
      "text/plain": [
       "[[(0, 0), (0, 1), (0, 2), (0, 3), (0, 4)],\n",
       " [(1, 0), (1, 1), (1, 2), (1, 3), (1, 4)],\n",
       " [(2, 0), (2, 1), (2, 2), (2, 3), (2, 4)],\n",
       " [(3, 0), (3, 1), (3, 2), (3, 3), (3, 4)],\n",
       " [(4, 0), (4, 1), (4, 2), (4, 3), (4, 4)]]"
      ]
     },
     "execution_count": 398,
     "metadata": {},
     "output_type": "execute_result"
    }
   ],
   "source": [
    "dp = [[0]*len(s) for _ in range(len(s))]\n",
    "for j in range(len(s)):\n",
    "        # j starts from the i location : to only work on the upper side of the diagonal \n",
    "    for i in range(len(s)):\n",
    "        dp[i][j] = (i,j)\n",
    "dp"
   ]
  },
  {
   "cell_type": "code",
   "execution_count": null,
   "metadata": {},
   "outputs": [
    {
     "name": "stdout",
     "output_type": "stream",
     "text": [
      "\n",
      "p1p2  -- a -- 0\n",
      "abc\n",
      "p1p2  -- b -- 1\n",
      "bccb\n",
      "abccba\n",
      "a\n",
      "bcc\n",
      "p1p2 abccba -- c -- 2\n",
      "ccb\n",
      "p1p2  -- c -- 3\n",
      "cba\n",
      "p1p2  -- b -- 4\n",
      "ba\n",
      "p1p2  -- a -- 5\n"
     ]
    },
    {
     "data": {
      "text/plain": [
       "'abccba'"
      ]
     },
     "execution_count": 416,
     "metadata": {},
     "output_type": "execute_result"
    }
   ],
   "source": [
    "s = \"abccba\"\n",
    "def longestPalindrome(s: str) -> str:\n",
    "    p = ''\n",
    "    for i in range(len(s)):\n",
    "        # print(s[i:i+1])\n",
    "        p1 = get_palindrome(s, i, i+1)\n",
    "        p2 = get_palindrome(s, i, i)\n",
    "        print(\"p1p2\",p1,\"--\",p2,\"--\",i)\n",
    "        p = max([p, p1, p2], key=len)\n",
    "    return p\n",
    "\n",
    "def get_palindrome(s: str, l: int, r: int) -> str:\n",
    "    while l >= 0 and r < len(s) and s[l] == s[r]:\n",
    "        l -= 1\n",
    "        r += 1\n",
    "        print(s[l:r+1])\n",
    "    # print(s[l+1:r])\n",
    "    return s[l+1:r]\n",
    "longestPalindrome(s)   "
   ]
  },
  {
   "cell_type": "code",
   "execution_count": null,
   "metadata": {},
   "outputs": [
    {
     "name": "stdout",
     "output_type": "stream",
     "text": [
      "['a'] ['aa']\n",
      "['a', 'aaa'] ['aa']\n",
      "['a'] []\n"
     ]
    },
    {
     "data": {
      "text/plain": [
       "['a', 'aa', 'a', 'aaa', 'aa', 'a']"
      ]
     },
     "execution_count": 438,
     "metadata": {},
     "output_type": "execute_result"
    }
   ],
   "source": [
    "def countSubstrings( s: str) -> int:\n",
    "    ans=[]\n",
    "    for i in range(len(s)):\n",
    "        p1 = get_parin(s,i,i)\n",
    "        p2 = get_parin(s,i,i+1)\n",
    "        ans+=p1\n",
    "        ans+=p2\n",
    "    return ans\n",
    "def get_parin(s,l,r):\n",
    "    t=[]\n",
    "    while l>=0 and r<len(s) and s[l]==s[r]:\n",
    "        l-=1\n",
    "        r+=1\n",
    "        t.append(s[l+1:r])\n",
    "    return t\n",
    "s='aaa'\n",
    "countSubstrings(s)"
   ]
  },
  {
   "cell_type": "code",
   "execution_count": null,
   "metadata": {},
   "outputs": [
    {
     "data": {
      "text/plain": [
       "[]"
      ]
     },
     "execution_count": 437,
     "metadata": {},
     "output_type": "execute_result"
    }
   ],
   "source": [
    "a=[\"q\"]\n",
    "a[1:3]"
   ]
  },
  {
   "cell_type": "code",
   "execution_count": null,
   "metadata": {},
   "outputs": [],
   "source": [
    "def y(n):\n",
    "    o=0\n",
    "    for i in range(n):\n",
    "        yield o\n",
    "        o+=1\n",
    "    "
   ]
  },
  {
   "cell_type": "code",
   "execution_count": null,
   "metadata": {},
   "outputs": [],
   "source": [
    "a=y(10)"
   ]
  },
  {
   "cell_type": "code",
   "execution_count": null,
   "metadata": {},
   "outputs": [
    {
     "ename": "StopIteration",
     "evalue": "",
     "output_type": "error",
     "traceback": [
      "\u001b[0;31m---------------------------------------------------------------------------\u001b[0m",
      "\u001b[0;31mStopIteration\u001b[0m                             Traceback (most recent call last)",
      "\u001b[0;32m<ipython-input-483-d34d2a8c0899>\u001b[0m in \u001b[0;36m<module>\u001b[0;34m\u001b[0m\n\u001b[0;32m----> 1\u001b[0;31m \u001b[0ma\u001b[0m\u001b[0;34m.\u001b[0m\u001b[0m__next__\u001b[0m\u001b[0;34m(\u001b[0m\u001b[0;34m)\u001b[0m\u001b[0;34m\u001b[0m\u001b[0;34m\u001b[0m\u001b[0m\n\u001b[0m",
      "\u001b[0;31mStopIteration\u001b[0m: "
     ]
    }
   ],
   "source": [
    "a.__next__()"
   ]
  },
  {
   "cell_type": "code",
   "execution_count": null,
   "metadata": {},
   "outputs": [
    {
     "data": {
      "text/plain": [
       "[[0, 0, 0, 0], [0, 4, 5, 0], [0, 3, 1, 0]]"
      ]
     },
     "execution_count": 512,
     "metadata": {},
     "output_type": "execute_result"
    }
   ],
   "source": [
    "matrix = [[0,1,2,0],[3,4,5,2],[1,3,1,5]]\n",
    "def setZero(matrix):\n",
    "    m = len(matrix)\n",
    "    n = len(matrix[0])\n",
    "    z_row = [False]*m\n",
    "    z_col = [False]*n\n",
    "    for row in range(m):\n",
    "        for col in range(n):\n",
    "            if matrix[row][col] == 0:\n",
    "                z_row[row] = True\n",
    "                z_col[col] = True\n",
    "    for row in range(m):\n",
    "        for col in range(n):\n",
    "            if z_row[row] or z_col[col]:\n",
    "                matrix[row][col] =0\n",
    "    return matrix\n",
    "setZero(matrix)"
   ]
  },
  {
   "cell_type": "code",
   "execution_count": null,
   "metadata": {},
   "outputs": [
    {
     "data": {
      "text/plain": [
       "[[0, 0, 0, 0], [0, 4, 5, 0], [0, 3, 1, 0]]"
      ]
     },
     "execution_count": 513,
     "metadata": {},
     "output_type": "execute_result"
    }
   ],
   "source": [
    "matrix = [[0,1,2,0],[3,4,5,2],[1,3,1,5]]\n",
    "def setZero(matrix):\n",
    "    mat = np.array(matrix)\n",
    "    m = len(matrix)\n",
    "    n = len(matrix[0])\n",
    "    for row in range(m):\n",
    "        for col in range(n):\n",
    "            if matrix[row][col]==0:\n",
    "                mat[:,col] = 0\n",
    "                mat[row,:] = 0\n",
    "    matrix = mat.tolist()\n",
    "    return matrix\n",
    "setZero(matrix)"
   ]
  },
  {
   "cell_type": "code",
   "execution_count": null,
   "metadata": {},
   "outputs": [
    {
     "data": {
      "text/plain": [
       "[[0, 1, 2, 0], [0, 4, 5, 2], [0, 3, 1, 5]]"
      ]
     },
     "execution_count": 505,
     "metadata": {},
     "output_type": "execute_result"
    }
   ],
   "source": [
    "import numpy as np\n",
    "a = np.array(matrix)\n",
    "a[:,0] =0\n",
    "a\n",
    "a.tolist()"
   ]
  },
  {
   "cell_type": "code",
   "execution_count": null,
   "metadata": {},
   "outputs": [
    {
     "name": "stdout",
     "output_type": "stream",
     "text": [
      "3 3\n"
     ]
    },
    {
     "data": {
      "text/plain": [
       "list[int]"
      ]
     },
     "execution_count": 514,
     "metadata": {},
     "output_type": "execute_result"
    }
   ],
   "source": [
    "matrix = [[1,2,3],[4,5,6],[7,8,9]]\n",
    "def spiralOrder(matrix):\n",
    "    m = len(matrix-1)\n",
    "    n = len(matrix[0]-1)\n",
    "    i=1\n",
    "    j=0\n",
    "    x=y=0\n",
    "    ans=[]\n",
    "    axis=1\n",
    "    dirr=1\n",
    "    while True:\n",
    "        ans.append(matrix[x][y])\n",
    "        if x==len(matrix)//2 and y==len(matrix[0])//2:\n",
    "            break\n",
    "        if x==(n-i) or x==i and y==m or y==j:\n",
    "            if axis*dirr == -1:\n",
    "                dirr=-1\n",
    "            else:\n",
    "                dirr=1\n",
    "                \n",
    "            axis *=-1\n",
    "            if x==i and y==j:\n",
    "                n-=1\n",
    "\n",
    "\n",
    "            \n",
    "        \n",
    "        if axis == 1 and dirr == 1:\n",
    "            y+=1\n",
    "        elif axis == -1 and dirr == 1:\n",
    "            x+=1\n",
    "        elif axis == 1 and dirr == -1:\n",
    "            y-=1\n",
    "        else:\n",
    "            x-=1\n",
    "\n",
    "    return matrix\n",
    "spiralOrder(matrix)"
   ]
  },
  {
   "cell_type": "code",
   "execution_count": null,
   "metadata": {},
   "outputs": [
    {
     "data": {
      "text/plain": [
       "[1, 2, 3, 6, 9, 8, 7, 4, 5]"
      ]
     },
     "execution_count": 572,
     "metadata": {},
     "output_type": "execute_result"
    }
   ],
   "source": [
    "def spiralOrder(matrix):\n",
    "    ans=[]\n",
    "    if len(matrix)==0:\n",
    "        ans\n",
    "    axis=dirr=1\n",
    "    x=y=xmin=ymin=0\n",
    "    xmax=len(matrix)-1\n",
    "    ymax=len(matrix[0])-1\n",
    "    n=0\n",
    "\n",
    "    def changedir(axis,dirr):\n",
    "        if axis*dirr == -1:\n",
    "            dirr=-1\n",
    "        else:\n",
    "            dirr=1\n",
    "        axis*=-1\n",
    "        return axis,dirr\n",
    "    while xmin<=xmin and ymin <= ymax:\n",
    "        ans.append(matrix[x][y])\n",
    "        # print(x,y)\n",
    "        if x==len(matrix)//2 and y==len(matrix[0])//2:\n",
    "            break\n",
    "        if  xmin <= x <=xmax or ymin <= y <=ymax:\n",
    "            if axis == 1 and dirr == 1:\n",
    "                y+=1\n",
    "            elif axis == -1 and dirr == 1:\n",
    "                x+=1\n",
    "            elif axis == 1 and dirr == -1:\n",
    "                y-=1\n",
    "            else:\n",
    "                x-=1\n",
    "            \n",
    "        if y==ymax and x==xmin:\n",
    "            axis,dirr=changedir(axis,dirr)\n",
    "            n+=1\n",
    "            if n>=3:\n",
    "                xmax-=1\n",
    "        elif y==ymax and x==xmax:\n",
    "            axis,dirr=changedir(axis,dirr)\n",
    "            n+=1\n",
    "            if n>=3:\n",
    "                ymin+=1\n",
    "        elif y==ymin and x==xmax:\n",
    "            axis,dirr=changedir(axis,dirr)\n",
    "            n+=1\n",
    "            if n>=3:\n",
    "                xmin+=1\n",
    "        elif y==ymin and x==xmin:\n",
    "            axis,dirr=changedir(axis,dirr)\n",
    "            n+=1\n",
    "            if n>=3:\n",
    "                ymax-=1\n",
    "    return ans\n",
    "matrix = [[1,2,3],[4,5,6],[7,8,9]]\n",
    "spiralOrder(matrix)"
   ]
  },
  {
   "cell_type": "code",
   "execution_count": null,
   "metadata": {},
   "outputs": [
    {
     "data": {
      "text/plain": [
       "[1, 2, 3, 4, 8, 12, 11, 10, 9, 5, 6, 7]"
      ]
     },
     "execution_count": 581,
     "metadata": {},
     "output_type": "execute_result"
    }
   ],
   "source": [
    "def spiralOrder(matrix):\n",
    "    ans=[]\n",
    "    if len(matrix)==0:\n",
    "        return ans\n",
    "    row_begin=col_begin=0\n",
    "    row_end=len(matrix)-1\n",
    "    col_end=len(matrix[0])-1\n",
    "    while (row_begin<=row_end and col_begin<=col_end):\n",
    "        \n",
    "        for i in range(col_begin,col_end+1):\n",
    "            ans.append(matrix[row_begin][i])\n",
    "        row_begin+=1\n",
    "        \n",
    "        for i in range(row_begin,row_end+1):\n",
    "            ans.append(matrix[i][col_end])\n",
    "        col_end-=1\n",
    "        if row_begin<=row_end and col_begin<=col_end:\n",
    "            for i in range(col_end,col_begin-1,-1):\n",
    "                ans.append(matrix[row_end][i])\n",
    "            row_end-=1\n",
    "            for i in range(row_end,row_begin-1,-1):\n",
    "                ans.append(matrix[i][col_begin])\n",
    "            col_begin+=1\n",
    "        \n",
    "    return ans\n",
    "matrix = [[1,2,3,4],[5,6,7,8],[9,10,11,12]]\n",
    "spiralOrder(matrix)\n",
    "        "
   ]
  },
  {
   "cell_type": "code",
   "execution_count": null,
   "metadata": {},
   "outputs": [
    {
     "data": {
      "text/plain": [
       "[[7, 4, 1], [8, 5, 2], [9, 6, 3]]"
      ]
     },
     "execution_count": 584,
     "metadata": {},
     "output_type": "execute_result"
    }
   ],
   "source": [
    "def rotate(matrix):\n",
    "    l=0\n",
    "    r=len(matrix)-1\n",
    "    while l<r:\n",
    "        matrix[l],matrix[r] = matrix[r],matrix[l]\n",
    "        l+=1\n",
    "        r-=1\n",
    "    for i in range(len(matrix)):\n",
    "        for j in range(i):\n",
    "            matrix[i][j], matrix[j][i] = matrix[j][i], matrix[i][j]\n",
    "    return matrix\n",
    "matrix = [[1,2,3],[4,5,6],[7,8,9]]\n",
    "rotate(matrix)"
   ]
  },
  {
   "cell_type": "code",
   "execution_count": null,
   "metadata": {},
   "outputs": [
    {
     "data": {
      "text/plain": [
       "[[9, 8, 7], [6, 5, 4], [3, 2, 1]]"
      ]
     },
     "execution_count": 594,
     "metadata": {},
     "output_type": "execute_result"
    }
   ],
   "source": [
    "def mirror(matrix):\n",
    "    l=0\n",
    "    r=len(matrix)-1\n",
    "    while l<r:\n",
    "        matrix[l],matrix[r] = matrix[r],matrix[l]\n",
    "        l+=1\n",
    "        r-=1\n",
    "    l=0\n",
    "    r=len(matrix[0])-1\n",
    "    while l<r:\n",
    "        for i in range(len(matrix)):\n",
    "            matrix[i][l],matrix[i][r] = matrix[i][r],matrix[i][l]\n",
    "        l+=1\n",
    "        r-=1\n",
    "    # for i in range(len(matrix)):\n",
    "    #     for j in range(i):\n",
    "    #         matrix[i][j], matrix[j][i] = matrix[j][i], matrix[i][j]\n",
    "    # for i in range(len(matrix)):\n",
    "    #     for j in range(i):\n",
    "    #         matrix[i][j], matrix[j][i] = matrix[j][i], matrix[i][j]\n",
    "    return matrix\n",
    "matrix = [[1,2,3],[4,5,6],[7,8,9]]\n",
    "mirror(matrix)"
   ]
  },
  {
   "cell_type": "code",
   "execution_count": null,
   "metadata": {},
   "outputs": [
    {
     "data": {
      "text/plain": [
       "[1, 2, 3]"
      ]
     },
     "execution_count": 592,
     "metadata": {},
     "output_type": "execute_result"
    }
   ],
   "source": [
    "matrix[0]"
   ]
  },
  {
   "cell_type": "code",
   "execution_count": null,
   "metadata": {},
   "outputs": [
    {
     "data": {
      "text/plain": [
       "False"
      ]
     },
     "execution_count": 660,
     "metadata": {},
     "output_type": "execute_result"
    }
   ],
   "source": [
    "board = [[\"A\",\"B\",\"C\",\"E\"],[\"S\",\"F\",\"C\",\"S\"],[\"A\",\"D\",\"E\",\"E\"]]\n",
    "word = \"ABCB\"\n",
    "def exist(board, word):\n",
    "\n",
    "    row, col = len(board), len(board[0])\n",
    "    visitPath = set()\n",
    "\n",
    "    def wordSearch(r,c,i):\n",
    "        if i == len(word):\n",
    "            return True\n",
    "        if ( (r<0 or c<0 or r >=row or c >=col or word[i]!= board[r][c] or \\\n",
    "            (r,c) in visitPath)):\n",
    "            return False\n",
    "        visitPath.add((r,c))\n",
    "        ans = ( wordSearch(r+1,c, i+1) or  \n",
    "                wordSearch(r,c-1, i+1) or \n",
    "                wordSearch(r-1,c, i+1) or\n",
    "                wordSearch(r,c+1, i+1))\n",
    "        visitPath.remove((r,c))\n",
    "        return ans\n",
    "    for r in range(row):\n",
    "        for c in range(col):\n",
    "            if wordSearch(r,c,0): \n",
    "                return True\n",
    "    return False\n",
    "\n",
    "exist(board, word)"
   ]
  },
  {
   "cell_type": "code",
   "execution_count": null,
   "metadata": {},
   "outputs": [
    {
     "data": {
      "text/plain": [
       "True"
      ]
     },
     "execution_count": 665,
     "metadata": {},
     "output_type": "execute_result"
    }
   ],
   "source": [
    "board =[[\"A\",\"B\",\"C\",\"E\"],[\"S\",\"F\",\"E\",\"S\"],[\"A\",\"D\",\"E\",\"E\"]]\n",
    "word = \"ABCESEEEFS\"\n",
    "def exist(board, word):\n",
    "    row = len(board)\n",
    "    col = len(board[0])\n",
    "\n",
    "    def searchword(r:int,c:int,n:int,path:set) -> bool:\n",
    "        \n",
    "        if row>r>=0 and col>c>=0 and (r,c) not in path:\n",
    "            char = board[r][c] #\"A\"\n",
    "            # print(r,c,char,word[n],n,word)\n",
    "            if char == word[n]:\n",
    "                path.add((r,c))\n",
    "                if n==len(word)-1:\n",
    "                    return True\n",
    "                if (\n",
    "                    searchword(r+1,c,n+1,path) or\n",
    "                    searchword(r,c+1,n+1,path) or\n",
    "                    searchword(r-1,c,n+1,path) or\n",
    "                    searchword(r,c-1,n+1,path)\n",
    "                    ):\n",
    "                    \n",
    "                    return True\n",
    "                else:\n",
    "                    path.remove((r,c))\n",
    "                    return False\n",
    "        \n",
    "                # print((r,c))\n",
    "        return False \n",
    "    n=0\n",
    "    \n",
    "    for r in range(row):\n",
    "        for c in range(col):\n",
    "            path=set()\n",
    "            if searchword(r,c,n,path):\n",
    "                return True\n",
    "            print(path)\n",
    "    return False\n",
    "exist(board, word)\n",
    "\n",
    "\n",
    "    "
   ]
  },
  {
   "cell_type": "code",
   "execution_count": null,
   "metadata": {},
   "outputs": [
    {
     "name": "stdout",
     "output_type": "stream",
     "text": [
      "{(0, 1)}\n"
     ]
    },
    {
     "ename": "KeyError",
     "evalue": "(0, 0)",
     "output_type": "error",
     "traceback": [
      "\u001b[0;31m---------------------------------------------------------------------------\u001b[0m",
      "\u001b[0;31mKeyError\u001b[0m                                  Traceback (most recent call last)",
      "\u001b[0;32m<ipython-input-647-40ba3e5d650c>\u001b[0m in \u001b[0;36m<module>\u001b[0;34m\u001b[0m\n\u001b[1;32m      2\u001b[0m \u001b[0mpath\u001b[0m\u001b[0;34m.\u001b[0m\u001b[0madd\u001b[0m\u001b[0;34m(\u001b[0m\u001b[0;34m(\u001b[0m\u001b[0;36m0\u001b[0m\u001b[0;34m,\u001b[0m\u001b[0;36m1\u001b[0m\u001b[0;34m)\u001b[0m\u001b[0;34m)\u001b[0m\u001b[0;34m\u001b[0m\u001b[0;34m\u001b[0m\u001b[0m\n\u001b[1;32m      3\u001b[0m \u001b[0mprint\u001b[0m\u001b[0;34m(\u001b[0m\u001b[0mpath\u001b[0m\u001b[0;34m)\u001b[0m\u001b[0;34m\u001b[0m\u001b[0;34m\u001b[0m\u001b[0m\n\u001b[0;32m----> 4\u001b[0;31m \u001b[0mpath\u001b[0m\u001b[0;34m.\u001b[0m\u001b[0mremove\u001b[0m\u001b[0;34m(\u001b[0m\u001b[0;34m(\u001b[0m\u001b[0;36m0\u001b[0m\u001b[0;34m,\u001b[0m\u001b[0;36m0\u001b[0m\u001b[0;34m)\u001b[0m\u001b[0;34m)\u001b[0m\u001b[0;34m\u001b[0m\u001b[0;34m\u001b[0m\u001b[0m\n\u001b[0m\u001b[1;32m      5\u001b[0m \u001b[0mpath\u001b[0m\u001b[0;34m\u001b[0m\u001b[0;34m\u001b[0m\u001b[0m\n",
      "\u001b[0;31mKeyError\u001b[0m: (0, 0)"
     ]
    }
   ],
   "source": [
    "path=set()\n",
    "path.add((0,1))\n",
    "print(path)\n",
    "path.remove((0,0))\n",
    "path"
   ]
  },
  {
   "cell_type": "code",
   "execution_count": null,
   "metadata": {},
   "outputs": [
    {
     "ename": "SyntaxError",
     "evalue": "leading zeros in decimal integer literals are not permitted; use an 0o prefix for octal integers (<ipython-input-669-4fecec5f23fc>, line 1)",
     "output_type": "error",
     "traceback": [
      "\u001b[0;36m  File \u001b[0;32m\"<ipython-input-669-4fecec5f23fc>\"\u001b[0;36m, line \u001b[0;32m1\u001b[0m\n\u001b[0;31m    n = 00000010100101000001111010011100\u001b[0m\n\u001b[0m                                       ^\u001b[0m\n\u001b[0;31mSyntaxError\u001b[0m\u001b[0;31m:\u001b[0m leading zeros in decimal integer literals are not permitted; use an 0o prefix for octal integers\n"
     ]
    }
   ],
   "source": [
    "n = 00000010100101000001111010011100\n"
   ]
  },
  {
   "cell_type": "code",
   "execution_count": null,
   "metadata": {},
   "outputs": [
    {
     "name": "stdout",
     "output_type": "stream",
     "text": [
      "True\n",
      "wer\n"
     ]
    },
    {
     "data": {
      "text/plain": [
       "0"
      ]
     },
     "execution_count": 701,
     "metadata": {},
     "output_type": "execute_result"
    }
   ],
   "source": [
    "def reverse( x: int) -> int:\n",
    "    ans=0\n",
    "    l=[]\n",
    "    p=False\n",
    "    if x<0:\n",
    "        p=True\n",
    "        x=x*-1\n",
    "    while x>0:\n",
    "        bit = x%10\n",
    "        l.append(bit)\n",
    "        x= x//10\n",
    "    power=len(l)-1\n",
    "    for i in l:\n",
    "        ans+= i*10**power\n",
    "        power-=1\n",
    "    if -2**31>ans or ans>2**31-1:\n",
    "        print(\"wer\")\n",
    "        return 0\n",
    "    if p:\n",
    "        ans = ans*-1\n",
    "    return ans\n",
    "reverse(1534236469)"
   ]
  },
  {
   "cell_type": "code",
   "execution_count": null,
   "metadata": {},
   "outputs": [
    {
     "name": "stdout",
     "output_type": "stream",
     "text": [
      "2 0 0 3\n"
     ]
    },
    {
     "data": {
      "text/plain": [
       "3"
      ]
     },
     "execution_count": 762,
     "metadata": {},
     "output_type": "execute_result"
    }
   ],
   "source": [
    "def getSum(a: int, b: int) -> int:\n",
    "    \n",
    "    # 32 bit mask in hexadecimal\n",
    "    mask = 2^32\n",
    "    \n",
    "    # works both as while loop and single value check \n",
    "    while (b & mask) > 0:\n",
    "        carry = ( a & b ) << 1\n",
    "        print(b&mask,a&b,carry , a^b)\n",
    "        a = (a ^ b) \n",
    "        b = carry\n",
    "\n",
    "    # handles overflow\n",
    "    return (a & mask) if b > 0 else a\n",
    "a=1\n",
    "b=2\n",
    "getSum(a,b)"
   ]
  },
  {
   "cell_type": "code",
   "execution_count": null,
   "metadata": {},
   "outputs": [
    {
     "data": {
      "text/plain": [
       "['']"
      ]
     },
     "execution_count": 771,
     "metadata": {},
     "output_type": "execute_result"
    }
   ],
   "source": [
    "a=[]\n",
    "a.append(\"\")\n",
    "a"
   ]
  },
  {
   "cell_type": "code",
   "execution_count": null,
   "metadata": {},
   "outputs": [
    {
     "name": "stdout",
     "output_type": "stream",
     "text": [
      "[0, 0, 1, 1, 1, 2, 2, 3, 3, 4]\n",
      "[0, 0, 1, 1, 1, 2, 2, 3, 3, 4]\n",
      "[0, 1, 0, 1, 1, 2, 2, 3, 3, 4]\n",
      "[0, 1, 0, 1, 1, 2, 2, 3, 3, 4]\n",
      "[0, 1, 0, 1, 1, 2, 2, 3, 3, 4]\n",
      "[0, 1, 2, 1, 1, 0, 2, 3, 3, 4]\n",
      "[0, 1, 2, 1, 1, 0, 2, 3, 3, 4]\n",
      "[0, 1, 2, 3, 1, 0, 2, 1, 3, 4]\n",
      "[0, 1, 2, 3, 1, 0, 2, 1, 3, 4]\n",
      "[0, 1, 2, 3, 4, 0, 2, 1, 3, 1]\n"
     ]
    },
    {
     "data": {
      "text/plain": [
       "5"
      ]
     },
     "execution_count": 780,
     "metadata": {},
     "output_type": "execute_result"
    }
   ],
   "source": [
    "def removeDuplicates(nums: list[int]) -> int:\n",
    "    counter={}\n",
    "    r=l=0\n",
    "    while r < len(nums):\n",
    "        counter[nums[r]] = 1+counter.get(nums[r],0)\n",
    "        if counter[nums[r]] >1:\n",
    "            pass\n",
    "            \n",
    "        else:\n",
    "            nums[l], nums[r] = nums[r],nums[l]\n",
    "            l+=1\n",
    "            \n",
    "        r+=1\n",
    "        print(nums)\n",
    "    return l\n",
    "\n",
    "removeDuplicates([0,0,1,1,1,2,2,3,3,4])"
   ]
  },
  {
   "cell_type": "code",
   "execution_count": null,
   "metadata": {},
   "outputs": [
    {
     "data": {
      "text/plain": [
       "[0, 1, 9, 16, 100]"
      ]
     },
     "execution_count": 785,
     "metadata": {},
     "output_type": "execute_result"
    }
   ],
   "source": [
    "nums = [-4,-1,0,3,10]\n",
    "sorted([x**2 for x in nums])"
   ]
  },
  {
   "cell_type": "code",
   "execution_count": 1,
   "metadata": {},
   "outputs": [],
   "source": [
    "# Definition for singly-linked list.\n",
    "class ListNode:\n",
    "    def __init__(self, x):\n",
    "        self.val = x\n",
    "        self.next = None\n",
    "\n",
    "def hasCycle( head: list[ListNode]) -> bool:\n",
    "    if not head:\n",
    "       return False\n",
    "    slow = head\n",
    "    fast = head.next\n",
    "    while slow != fast:\n",
    "        if not fast or not fast.next:\n",
    "            return False\n",
    "        slow = slow.next\n",
    "        fast = fast.next.next\n",
    "    return True"
   ]
  },
  {
   "cell_type": "code",
   "execution_count": null,
   "metadata": {},
   "outputs": [
    {
     "name": "stdout",
     "output_type": "stream",
     "text": [
      "1\n",
      "2\n",
      "3\n",
      "4\n",
      "5\n",
      "6\n",
      "7\n",
      "8\n",
      "9\n",
      "10\n",
      "11\n",
      "12\n",
      "13\n",
      "14\n",
      "15\n",
      "16\n",
      "17\n",
      "18\n",
      "19\n",
      "-4\n"
     ]
    }
   ],
   "source": [
    "a=[x for x in range(20)]\n",
    "head = ListNode(-4)\n",
    "for i in range(len(a)-1,-1,-1):\n",
    "    new_node = ListNode(a[i])\n",
    "    new_node.next = head\n",
    "    head = new_node\n",
    "\n",
    "final = head\n",
    "for i in range(20):\n",
    "    final = final.next\n",
    "    print(final.val)\n",
    "final.next =  head.next\n"
   ]
  },
  {
   "cell_type": "code",
   "execution_count": null,
   "metadata": {},
   "outputs": [
    {
     "name": "stdout",
     "output_type": "stream",
     "text": [
      "1 2\n",
      "2 4\n",
      "3 6\n",
      "4 8\n",
      "5 10\n",
      "6 12\n",
      "7 14\n",
      "8 16\n",
      "9 18\n",
      "10 -4\n",
      "11 2\n",
      "12 4\n",
      "13 6\n",
      "14 8\n",
      "15 10\n",
      "16 12\n",
      "17 14\n",
      "18 16\n",
      "19 18\n",
      "-4 -4\n"
     ]
    },
    {
     "data": {
      "text/plain": [
       "True"
      ]
     },
     "execution_count": 860,
     "metadata": {},
     "output_type": "execute_result"
    }
   ],
   "source": [
    "def hasCycle(head):\n",
    "    slow = head\n",
    "    fast = head\n",
    "\n",
    "    while fast and fast.next:\n",
    "        \n",
    "        slow = slow.next\n",
    "        fast = fast.next.next\n",
    "        print(slow.val,fast.val)\n",
    "        if slow==fast:\n",
    "            return True\n",
    "    return False\n",
    "hasCycle(head)"
   ]
  },
  {
   "cell_type": "code",
   "execution_count": null,
   "metadata": {},
   "outputs": [
    {
     "data": {
      "text/plain": [
       "<__main__.ListNode at 0x112087430>"
      ]
     },
     "execution_count": 832,
     "metadata": {},
     "output_type": "execute_result"
    }
   ],
   "source": [
    "head.next"
   ]
  },
  {
   "cell_type": "code",
   "execution_count": null,
   "metadata": {},
   "outputs": [
    {
     "data": {
      "text/plain": [
       "-1"
      ]
     },
     "execution_count": 865,
     "metadata": {},
     "output_type": "execute_result"
    }
   ],
   "source": [
    "-1//10"
   ]
  },
  {
   "cell_type": "code",
   "execution_count": null,
   "metadata": {},
   "outputs": [],
   "source": [
    "def middleNode(head)"
   ]
  },
  {
   "cell_type": "code",
   "execution_count": 165,
   "metadata": {},
   "outputs": [
    {
     "name": "stdout",
     "output_type": "stream",
     "text": [
      "69\n",
      "25\n",
      "32\n",
      "11\n"
     ]
    }
   ],
   "source": [
    "head=[11,32,25,69]\n",
    "headnode = None\n",
    "for i in range(len(head)-1,-1,-1):\n",
    "    print(head[i])\n",
    "    new_node = ListNode(head[i])\n",
    "    new_node.next = headnode\n",
    "    headnode = new_node\n"
   ]
  },
  {
   "cell_type": "code",
   "execution_count": 128,
   "metadata": {},
   "outputs": [
    {
     "data": {
      "text/plain": [
       "2"
      ]
     },
     "execution_count": 128,
     "metadata": {},
     "output_type": "execute_result"
    }
   ],
   "source": [
    "headnode.next.val"
   ]
  },
  {
   "cell_type": "code",
   "execution_count": 89,
   "metadata": {},
   "outputs": [
    {
     "name": "stdout",
     "output_type": "stream",
     "text": [
      "1\n",
      "2\n",
      "3\n",
      "4\n",
      "[1, 2, 3, 4]\n"
     ]
    }
   ],
   "source": [
    "node = headnode\n",
    "ans=[]\n",
    "while node and node.next:\n",
    "    print(node.val)\n",
    "    # if len(ans)>0 and node.val == ans[-1]:\n",
    "    #     ans.pop()\n",
    "    ans.append(node.val)\n",
    "    node = node.next\n",
    "print(ans)\n"
   ]
  },
  {
   "cell_type": "code",
   "execution_count": 64,
   "metadata": {},
   "outputs": [
    {
     "name": "stdout",
     "output_type": "stream",
     "text": [
      "[1, 0, 1, 0, 0]\n",
      "1 1\n",
      "0 0\n",
      "0 1\n"
     ]
    },
    {
     "data": {
      "text/plain": [
       "False"
      ]
     },
     "execution_count": 64,
     "metadata": {},
     "output_type": "execute_result"
    }
   ],
   "source": [
    "def isPalindrome(head) -> bool:\n",
    "    count=0\n",
    "    node = head\n",
    "    ans=[]\n",
    "    while node:\n",
    "        ans.append(node.val)\n",
    "        node=node.next\n",
    "        count+=1\n",
    "    mid=len(ans)//2\n",
    "    print(ans)\n",
    "    if count%2==1:\n",
    "        for i in range(mid+1):\n",
    "            print(ans[mid+i],ans[mid-i])\n",
    "            if ans[mid+i] != ans[mid-i]:\n",
    "                return False\n",
    "        return True\n",
    "    else:\n",
    "        for i in range(mid):\n",
    "            if ans[mid-i-1] != ans[mid+i]:\n",
    "                return False\n",
    "        return True\n",
    "isPalindrome(headnode)"
   ]
  },
  {
   "cell_type": "code",
   "execution_count": 163,
   "metadata": {},
   "outputs": [
    {
     "name": "stdout",
     "output_type": "stream",
     "text": [
      "<__main__.ListNode object at 0x10a1496a0>\n",
      "11\n",
      "<__main__.ListNode object at 0x10a149d60>\n",
      "32\n",
      "<__main__.ListNode object at 0x10a149160>\n",
      "25\n",
      "None\n",
      "69\n"
     ]
    }
   ],
   "source": [
    "node = headnode\n",
    "reverse_node = None\n",
    "while node :\n",
    "    next_node = node.next\n",
    "    print(node.next)\n",
    "    node.next = reverse_node\n",
    "    # print(reverse_node)\n",
    "    reverse_node = node\n",
    "    print(node.val)\n",
    "    node = next_node\n",
    "    # print(next_node.val)"
   ]
  },
  {
   "cell_type": "code",
   "execution_count": 167,
   "metadata": {},
   "outputs": [
    {
     "name": "stdout",
     "output_type": "stream",
     "text": [
      "32\n",
      "25\n",
      "69\n"
     ]
    },
    {
     "ename": "AttributeError",
     "evalue": "'NoneType' object has no attribute 'val'",
     "output_type": "error",
     "traceback": [
      "\u001b[0;31m---------------------------------------------------------------------------\u001b[0m",
      "\u001b[0;31mAttributeError\u001b[0m                            Traceback (most recent call last)",
      "\u001b[0;32m<ipython-input-167-3ffb76768cea>\u001b[0m in \u001b[0;36m<module>\u001b[0;34m\u001b[0m\n\u001b[1;32m      2\u001b[0m \u001b[0;32mwhile\u001b[0m \u001b[0mnode\u001b[0m\u001b[0;34m:\u001b[0m\u001b[0;34m\u001b[0m\u001b[0;34m\u001b[0m\u001b[0m\n\u001b[1;32m      3\u001b[0m     \u001b[0mnext_node\u001b[0m \u001b[0;34m=\u001b[0m \u001b[0mnode\u001b[0m\u001b[0;34m.\u001b[0m\u001b[0mnext\u001b[0m\u001b[0;34m\u001b[0m\u001b[0;34m\u001b[0m\u001b[0m\n\u001b[0;32m----> 4\u001b[0;31m     \u001b[0mprint\u001b[0m\u001b[0;34m(\u001b[0m\u001b[0mnext_node\u001b[0m\u001b[0;34m.\u001b[0m\u001b[0mval\u001b[0m\u001b[0;34m)\u001b[0m\u001b[0;34m\u001b[0m\u001b[0;34m\u001b[0m\u001b[0m\n\u001b[0m\u001b[1;32m      5\u001b[0m     \u001b[0mnode\u001b[0m \u001b[0;34m=\u001b[0m \u001b[0mnext_node\u001b[0m\u001b[0;34m\u001b[0m\u001b[0;34m\u001b[0m\u001b[0m\n",
      "\u001b[0;31mAttributeError\u001b[0m: 'NoneType' object has no attribute 'val'"
     ]
    }
   ],
   "source": [
    "node = headnode\n",
    "while node:\n",
    "    next_node = node.next\n",
    "    print(next_node.val)\n",
    "    node = next_node"
   ]
  },
  {
   "cell_type": "code",
   "execution_count": 161,
   "metadata": {},
   "outputs": [
    {
     "data": {
      "text/plain": [
       "69"
      ]
     },
     "execution_count": 161,
     "metadata": {},
     "output_type": "execute_result"
    }
   ],
   "source": [
    "reverse_node.val"
   ]
  },
  {
   "cell_type": "code",
   "execution_count": 96,
   "metadata": {},
   "outputs": [],
   "source": [
    "fast = headnode\n",
    "slow = reverse_node\n",
    "while fast:\n",
    "    if slow.val!=fast.val:\n",
    "        print(\"F\")\n",
    "    fast = fast.next\n",
    "    slow = slow.next\n"
   ]
  },
  {
   "cell_type": "code",
   "execution_count": 114,
   "metadata": {},
   "outputs": [
    {
     "name": "stdout",
     "output_type": "stream",
     "text": [
      "1\n"
     ]
    },
    {
     "data": {
      "text/plain": [
       "True"
      ]
     },
     "execution_count": 114,
     "metadata": {},
     "output_type": "execute_result"
    }
   ],
   "source": [
    "def isPalindrome(head) -> bool:\n",
    "    fast = node = head\n",
    "    rev_node = None\n",
    "    while node:\n",
    "        n_node = node.next\n",
    "        node.next = rev_node\n",
    "        rev_node = node\n",
    "        node = n_node\n",
    "    slow = rev_node\n",
    "\n",
    "    while head:\n",
    "        print(head.val)\n",
    "        head=head.next\n",
    "    # while slow:\n",
    "    #     print(slow.val)\n",
    "    #     slow=slow.next\n",
    "    while fast:\n",
    "        # print(slow.val, fast.val)\n",
    "        if slow.val != fast.val:\n",
    "            return False\n",
    "        fast = fast.next\n",
    "        slow = slow.next\n",
    "    return True\n",
    "\n",
    "head=[1,1,2,1]\n",
    "headnode = None\n",
    "for i in range(len(head)-1,-1,-1):\n",
    "    # print(head[i])\n",
    "    new_node = ListNode(head[i])\n",
    "    new_node.next = headnode\n",
    "    headnode = new_node\n",
    "\n",
    "isPalindrome(headnode)"
   ]
  },
  {
   "cell_type": "code",
   "execution_count": 178,
   "metadata": {},
   "outputs": [
    {
     "data": {
      "text/plain": [
       "[1, 2]"
      ]
     },
     "execution_count": 178,
     "metadata": {},
     "output_type": "execute_result"
    }
   ],
   "source": [
    "def topKFrequent_heap(nums , k) :\n",
    "    result = []\n",
    "    max_heap = [(-val, key) for key,val in collections.Counter(nums).items()]\n",
    "    heapq.heapify(max_heap)\n",
    "    for _ in range(k):\n",
    "        result.append(heapq.heappop(max_heap)[1])\n",
    "    return result\n",
    "topKFrequent_heap(nums,k)"
   ]
  },
  {
   "cell_type": "code",
   "execution_count": 177,
   "metadata": {},
   "outputs": [],
   "source": [
    "import heapq\n",
    "import collections"
   ]
  },
  {
   "cell_type": "code",
   "execution_count": 189,
   "metadata": {},
   "outputs": [
    {
     "name": "stdout",
     "output_type": "stream",
     "text": [
      "{0: 1, 3: 4, 7: 8, 2: 3, 5: 6, 8: 9, 4: 5, 6: 7, 1: 2}\n"
     ]
    },
    {
     "data": {
      "text/plain": [
       "9"
      ]
     },
     "execution_count": 189,
     "metadata": {},
     "output_type": "execute_result"
    }
   ],
   "source": [
    "def longestConsecutive(nums: list[int]) -> int:\n",
    "    count={}\n",
    "    maxx=0\n",
    "    for i in range(len(nums)):\n",
    "        count[nums[i]] = nums[i]+1\n",
    "    print(count)\n",
    "    for i in range(len(nums)):\n",
    "        n=1\n",
    "        num = count.get(nums[i]+1,-1)\n",
    "        while num != -1:\n",
    "            i+=1\n",
    "            n+=1\n",
    "            num = count.get(num,-1)\n",
    "        maxx = max(maxx,n)\n",
    "    return maxx\n",
    "nums = [0,3,7,2,5,8,4,6,0,1]\n",
    "longestConsecutive(nums)"
   ]
  },
  {
   "cell_type": "code",
   "execution_count": 205,
   "metadata": {},
   "outputs": [
    {
     "name": "stdout",
     "output_type": "stream",
     "text": [
      "Link-List : [1, 2, 3, 4, 5]\n"
     ]
    }
   ],
   "source": [
    "array = [1,2,3,4,5]\n",
    "def generatelinklist(array):\n",
    "    head=None\n",
    "    for i in range(len(array)-1,-1,-1):\n",
    "        new_node = ListNode(array[i])\n",
    "        new_node.next = head\n",
    "        head = new_node\n",
    "    node = head\n",
    "    li=[]\n",
    "    while node:\n",
    "        li.append(node.val)\n",
    "        node=node.next\n",
    "    print(\"Link-List :\",li)\n",
    "    return head\n",
    "head = generatelinklist(array)"
   ]
  },
  {
   "cell_type": "code",
   "execution_count": 209,
   "metadata": {},
   "outputs": [
    {
     "name": "stdout",
     "output_type": "stream",
     "text": [
      "Link-List : [1, 2, 3, 4]\n",
      "[<__main__.ListNode object at 0x105593940>, <__main__.ListNode object at 0x1055931c0>, <__main__.ListNode object at 0x1055939a0>, <__main__.ListNode object at 0x105593a30>]\n"
     ]
    }
   ],
   "source": [
    "head = [1,2,3,4]\n",
    "head = generatelinklist(head)\n",
    "def reorderList(head: ListNode) -> None:\n",
    "    \"\"\"\n",
    "    Do not return anything, modify head in-place instead.\n",
    "    \"\"\"\n",
    "    \n",
    "    # ----------------------------------------------\n",
    "    # Save linked list in array\n",
    "    \n",
    "    arr = []\n",
    "    \n",
    "    cur, length = head, 0\n",
    "    \n",
    "    while cur:\n",
    "        arr.append( cur )\n",
    "        cur, length = cur.next, length + 1\n",
    "    print(arr)\n",
    "    # ----------------------------------------------\n",
    "    # Reorder with two-pointers\n",
    "    \n",
    "    left, right = 0, length-1\n",
    "    last = head\n",
    "    \n",
    "    while left < right:\n",
    "        arr[left].next = arr[right]\n",
    "        left += 1\n",
    "        \n",
    "        if left == right: \n",
    "            last = arr[right]\n",
    "            break\n",
    "            \n",
    "        arr[right].next = arr[left]\n",
    "        right -= 1\n",
    "        \n",
    "        last = arr[left]\n",
    "    \n",
    "    if last:\n",
    "        last.next= None\n",
    "reorderList(head)"
   ]
  },
  {
   "cell_type": "code",
   "execution_count": 271,
   "metadata": {},
   "outputs": [
    {
     "name": "stdout",
     "output_type": "stream",
     "text": [
      "Link-List : [1, 2, 3, 4, 5]\n"
     ]
    }
   ],
   "source": [
    "head = [1,2,3,4,5]\n",
    "head = generatelinklist(head)\n",
    "def reorderList(head: ListNode) -> None:\n",
    "    \"\"\"\n",
    "    Do not return anything, modify head in-place instead.\n",
    "    \"\"\"\n",
    "    arr = []\n",
    "    cur, length = head, 0\n",
    "    \n",
    "    while cur:\n",
    "        arr.append( cur )\n",
    "        cur, length = cur.next, length + 1\n",
    "    # print(arr)\n",
    "\n",
    "    left,right = 0,length-1\n",
    "    # last = head\n",
    "\n",
    "    while left<right:\n",
    "        arr[left].next = arr[right]\n",
    "        left+=1\n",
    "\n",
    "        if left == right:\n",
    "            arr[left].next = None\n",
    "            break\n",
    "\n",
    "        arr[right].next = arr[left]\n",
    "        right-=1\n",
    "\n",
    "        if left == right:\n",
    "            arr[left].next = None\n",
    "            break\n",
    "\n",
    "    head = arr[0]\n",
    "    return head\n",
    "\n",
    "head = reorderList(head)"
   ]
  },
  {
   "cell_type": "code",
   "execution_count": 272,
   "metadata": {},
   "outputs": [
    {
     "name": "stdout",
     "output_type": "stream",
     "text": [
      "1\n",
      "5\n",
      "2\n",
      "4\n",
      "3\n"
     ]
    }
   ],
   "source": [
    "while head:\n",
    "    print(head.val)\n",
    "    head = head.next"
   ]
  },
  {
   "cell_type": "code",
   "execution_count": 279,
   "metadata": {},
   "outputs": [
    {
     "name": "stdout",
     "output_type": "stream",
     "text": [
      "[0, 1, 1, 2, 3, 5, 8, 13, 21, 34, 55, 89]\n"
     ]
    }
   ],
   "source": [
    "def fib(n):\n",
    "    l=[0,1]\n",
    "    for i in range(n):\n",
    "        # print(l[i]+l[i+1])\n",
    "        l.append(l[i]+l[i+1])\n",
    "    print(l)\n",
    "fib(10)"
   ]
  },
  {
   "cell_type": "code",
   "execution_count": 300,
   "metadata": {},
   "outputs": [
    {
     "name": "stdout",
     "output_type": "stream",
     "text": [
      "[[2], [0, 2], [3], []]\n",
      "0 [0, 0, 0, 0]\n",
      "2 [-1, 0, 0, 0]\n",
      "3 [-1, 0, -1, 0]\n",
      "1 [1, 0, 1, 1]\n",
      "0 [1, -1, 1, 1]\n",
      "2 [1, -1, 1, 1]\n",
      "2 [1, 1, 1, 1]\n",
      "3 [1, 1, 1, 1]\n"
     ]
    },
    {
     "data": {
      "text/plain": [
       "True"
      ]
     },
     "execution_count": 300,
     "metadata": {},
     "output_type": "execute_result"
    }
   ],
   "source": [
    "def canFinish(numCourses: int, prerequisites: list[list[int]]) -> bool:\n",
    "    def buildAdjacencyList(n, edgesList):\n",
    "        adjList = [[] for _ in range(n)]\n",
    "        # c2 (course 2) is a prerequisite of c1 (course 1)\n",
    "        # i.e c2c1 is a directed edge in the graph\n",
    "        for c1, c2 in edgesList:\n",
    "            adjList[c2].append(c1)\n",
    "        return adjList\n",
    "    adjList = buildAdjacencyList(numCourses, prerequisites)\n",
    "    print(adjList)\n",
    "    state = [0]*numCourses\n",
    "\n",
    "    def hasCycle(v):\n",
    "        print(v,state)\n",
    "        if state[v]==1:\n",
    "            return False\n",
    "        if state[v]==-1:\n",
    "            return True\n",
    "\n",
    "        state[v] = -1\n",
    "\n",
    "        for i in adjList[v]:\n",
    "            if hasCycle(i):\n",
    "                return True\n",
    "        state[v] = 1\n",
    "        return False\n",
    "        \n",
    "\n",
    "    for v in range(numCourses):\n",
    "        if hasCycle(v):\n",
    "            return False\n",
    "    return True\n",
    "\n",
    "\n",
    "numCourses = 4\n",
    "prerequisites = [[0,1],[2,1],[2,0],[3,2]]\n",
    "canFinish(numCourses,prerequisites)"
   ]
  },
  {
   "cell_type": "code",
   "execution_count": 302,
   "metadata": {},
   "outputs": [
    {
     "name": "stdout",
     "output_type": "stream",
     "text": [
      "[[2], [0, 2], [3], []]\n"
     ]
    },
    {
     "data": {
      "text/plain": [
       "False"
      ]
     },
     "execution_count": 302,
     "metadata": {},
     "output_type": "execute_result"
    }
   ],
   "source": [
    "def canFinish(numCourses: int, prerequisites: list[list[int]]) -> bool:\n",
    "    def buildAdjacencyList(n, edgesList):\n",
    "        adjList = [[] for _ in range(n)]\n",
    "        # c2 (course 2) is a prerequisite of c1 (course 1)\n",
    "        # i.e c2c1 is a directed edge in the graph\n",
    "        for c1, c2 in edgesList:\n",
    "            adjList[c2].append(c1)\n",
    "        return adjList\n",
    "    adjList = buildAdjacencyList(numCourses, prerequisites)\n",
    "    print(adjList)\n",
    "    # state = [0]*numCourses\n",
    "    visit =set()\n",
    "    def hasCycle(v,stack):\n",
    "        if v in visit:\n",
    "            if v in stack:\n",
    "                return True\n",
    "            return False\n",
    "        visit.add(v)\n",
    "        stack.append(v)\n",
    "        for i in adjList[v]:\n",
    "            if hasCycle(v,stack):\n",
    "                return True\n",
    "        stack.pop()\n",
    "        return False\n",
    "\n",
    "\n",
    "    for v in range(numCourses):\n",
    "        if hasCycle(v,[]):\n",
    "            return False\n",
    "    return True\n",
    "\n",
    "\n",
    "numCourses = 4\n",
    "prerequisites = [[0,1],[2,1],[2,0],[3,2]]\n",
    "canFinish(numCourses,prerequisites)"
   ]
  },
  {
   "cell_type": "code",
   "execution_count": 337,
   "metadata": {},
   "outputs": [
    {
     "data": {
      "text/plain": [
       "True"
      ]
     },
     "execution_count": 337,
     "metadata": {},
     "output_type": "execute_result"
    }
   ],
   "source": [
    "nums=4\n",
    "pairs = [[1,2],[2,3],[0,1],[3,2]]\n",
    "#x->y\n",
    "\n",
    "def dfs(nums, pairs,start,end):\n",
    "    d=[[] for _ in range(nums)]\n",
    "    for x,y in pairs:\n",
    "        d[x].append(y)\n",
    "    def findpath(d,start,end):\n",
    "        \n",
    "        for p in d[start]:\n",
    "            if p == end:\n",
    "                return True\n",
    "            if findpath(d,p,end):\n",
    "                return True\n",
    "        return False\n",
    "    # for num in nums:\n",
    "    return findpath(d,start,end)\n",
    "\n",
    "dfs(nums,pairs,3,2)"
   ]
  },
  {
   "cell_type": "code",
   "execution_count": 338,
   "metadata": {},
   "outputs": [],
   "source": [
    "from collections import deque"
   ]
  },
  {
   "cell_type": "code",
   "execution_count": 341,
   "metadata": {},
   "outputs": [
    {
     "data": {
      "text/plain": [
       "True"
      ]
     },
     "execution_count": 341,
     "metadata": {},
     "output_type": "execute_result"
    }
   ],
   "source": [
    "def canFinish(numCourses: int, prerequisites: list[list[int]]) -> bool:\n",
    "        adj = [[] for _ in range(numCourses)]\n",
    "        degree = [0] * numCourses\n",
    "        for (curr, pre) in prerequisites:\n",
    "            adj[pre].append(curr)\n",
    "            degree[curr] += 1\n",
    "        queue = deque(i for (i, d) in enumerate(degree) if d == 0)\n",
    "        visisted = 0\n",
    "        while queue:\n",
    "            curr = queue.popleft()\n",
    "            visisted += 1\n",
    "            for dep in adj[curr]:\n",
    "                degree[dep] -= 1\n",
    "                if not degree[dep]:\n",
    "                    queue.append(dep)\n",
    "        return visisted == numCourses\n",
    "numCourses = 4\n",
    "prerequisites = [[0,1],[2,1],[2,0],[3,2]]\n",
    "canFinish(numCourses,prerequisites)"
   ]
  },
  {
   "cell_type": "code",
   "execution_count": 342,
   "metadata": {},
   "outputs": [
    {
     "name": "stdout",
     "output_type": "stream",
     "text": [
      "[0, 0, 0, 0, 0, 0, 0, 0]\n",
      "[0, 0, 0, 0, 0, 0, 0, 0]\n",
      "[0, 0, 0, 1, 0, 0, 0, 0]\n",
      "[0, 0, 0, 1, 1, 0, 0, 0]\n",
      "[0, 0, 0, 1, 1, 2, 0, 0]\n",
      "[0, 0, 0, 1, 1, 2, 3, 0]\n",
      "[0, 0, 0, 1, 1, 2, 3, 3]\n"
     ]
    },
    {
     "data": {
      "text/plain": [
       "4"
      ]
     },
     "execution_count": 342,
     "metadata": {},
     "output_type": "execute_result"
    }
   ],
   "source": [
    "def lengthoflis(nums):\n",
    "    dp = [0 for _ in range(len(nums))]\n",
    "    for i in range(1,len(nums)):\n",
    "        for j in range(i):\n",
    "            if nums[j]<nums[i]:\n",
    "                dp[i] = max(dp[i],dp[j]+1)\n",
    "        print(dp)\n",
    "    return max(dp)+1\n",
    "nums= [10,9,2,5,3,7,101,18]\n",
    "lengthoflis(nums)"
   ]
  },
  {
   "cell_type": "code",
   "execution_count": 368,
   "metadata": {},
   "outputs": [
    {
     "name": "stdout",
     "output_type": "stream",
     "text": [
      "6.082762530298219\n",
      "18.5 2\n",
      "12.333333333333334 3\n",
      "9.25 4\n",
      "7.4 5\n",
      "6.166666666666667 6\n",
      "5.285714285714286 7\n",
      "4.625 8\n",
      "4.111111111111111 9\n",
      "3.7 10\n",
      "3.3636363636363638 11\n",
      "3.0833333333333335 12\n",
      "2.8461538461538463 13\n",
      "2.642857142857143 14\n",
      "2.466666666666667 15\n",
      "2.3125 16\n",
      "2.176470588235294 17\n",
      "2.0555555555555554 18\n",
      "1.9473684210526316 19\n",
      "1.85 20\n",
      "1.7619047619047619 21\n",
      "1.6818181818181819 22\n",
      "1.608695652173913 23\n",
      "1.5416666666666667 24\n",
      "1.48 25\n",
      "1.4230769230769231 26\n",
      "1.3703703703703705 27\n",
      "1.3214285714285714 28\n",
      "1.2758620689655173 29\n",
      "1.2333333333333334 30\n",
      "1.1935483870967742 31\n",
      "1.15625 32\n",
      "1.121212121212121 33\n",
      "1.088235294117647 34\n",
      "1.0571428571428572 35\n",
      "1.0277777777777777 36\n"
     ]
    },
    {
     "data": {
      "text/plain": [
       "True"
      ]
     },
     "execution_count": 368,
     "metadata": {},
     "output_type": "execute_result"
    }
   ],
   "source": [
    "def isPrime(n):\n",
    "    if n<=1:\n",
    "        return False\n",
    "    print(n**0.5)\n",
    "    for i in range(2,n):\n",
    "        print(n/i ,i)\n",
    "        if n%i==0:\n",
    "            return False\n",
    "    return True\n",
    "isPrime(37)"
   ]
  },
  {
   "cell_type": "code",
   "execution_count": 359,
   "metadata": {},
   "outputs": [
    {
     "data": {
      "text/plain": [
       "False"
      ]
     },
     "execution_count": 359,
     "metadata": {},
     "output_type": "execute_result"
    }
   ],
   "source": [
    "def isPowerOfTwo(n):\n",
    "    if n==0:\n",
    "        return False\n",
    "    while n!=3:\n",
    "        if n%3!=0:\n",
    "            return False\n",
    "        n = n//3\n",
    "        print(n)\n",
    "    return True\n",
    "\n",
    "isPowerOfTwo(10)"
   ]
  },
  {
   "cell_type": "code",
   "execution_count": 391,
   "metadata": {},
   "outputs": [
    {
     "name": "stdout",
     "output_type": "stream",
     "text": [
      "[[1, 2], [2], [3], []]\n",
      "0 []\n",
      "1 [0]\n",
      "2 [0, 1]\n",
      "3 [0, 1, 2]\n",
      "2 [0]\n",
      "1 []\n",
      "2 []\n",
      "3 []\n"
     ]
    },
    {
     "data": {
      "text/plain": [
       "True"
      ]
     },
     "execution_count": 391,
     "metadata": {},
     "output_type": "execute_result"
    }
   ],
   "source": [
    "def canFinish(numCourses, prerequisites):\n",
    "    arr=[[] for _ in range(numCourses)]\n",
    "    for a,b in prerequisites:\n",
    "        arr[a].append(b)\n",
    "    #arr = [[1,2],[2],[]] // pre = [[0,1],[0,2],[1,2]]]\n",
    "    print(arr)\n",
    "    visited=set()\n",
    "    stack=[]\n",
    "    def has_conflix(node,stack):\n",
    "        print(node,stack)\n",
    "        if node in visited:\n",
    "            if node in stack:\n",
    "                return True\n",
    "            return False\n",
    "\n",
    "        visited.add(node)\n",
    "        stack.append(node)\n",
    "        for next_node in arr[node]: #[[1,2],[2],[]]\n",
    "            \n",
    "            if has_conflix(next_node,stack):\n",
    "                return True\n",
    "        # print(stack)\n",
    "        stack.pop()\n",
    "        return False\n",
    "        \n",
    "\n",
    "    for node in range(numCourses):\n",
    "        if has_conflix(node,stack):\n",
    "            return False\n",
    "    return True\n",
    "\n",
    "nums=4\n",
    "pairs = [[1,2],[2,3],[0,1],[0,2]]\n",
    "canFinish(numCourses, pairs)"
   ]
  },
  {
   "cell_type": "code",
   "execution_count": 414,
   "metadata": {},
   "outputs": [
    {
     "name": "stdout",
     "output_type": "stream",
     "text": [
      "[[1, 2], [2], [], [2], [3]]\n",
      "[0, 1, 3, 1, 0]\n",
      "queue [0, 4]\n",
      "[4, 1]\n",
      "[0, 0, 3, 1, 0]\n",
      "[4, 1]\n",
      "[0, 0, 2, 1, 0]\n",
      "[1, 3]\n",
      "[0, 0, 2, 0, 0]\n",
      "[3]\n",
      "[0, 0, 1, 0, 0]\n",
      "[2]\n",
      "[0, 0, 0, 0, 0]\n",
      "5\n",
      "[0, 4, 1, 3, 2]\n"
     ]
    },
    {
     "data": {
      "text/plain": [
       "True"
      ]
     },
     "execution_count": 414,
     "metadata": {},
     "output_type": "execute_result"
    }
   ],
   "source": [
    "def topoBFS(numNodes, edgesList):\n",
    "    # Note: for consistency with other solutions above, we keep building\n",
    "    # an adjacency list here. We can also merge this step with the next step.\n",
    "    def buildAdjacencyList(n, edgesList):\n",
    "        adjList = [[] for _ in range(n)]\n",
    "        # c2 (course 2) is a prerequisite of c1 (course 1)\n",
    "        # i.e c2c1 is a directed edge in the graph\n",
    "        for c1, c2 in edgesList:\n",
    "            adjList[c2].append(c1)\n",
    "        return adjList\n",
    "\n",
    "    adjList = buildAdjacencyList(numNodes, edgesList)\n",
    "    print(adjList)\n",
    "    # 1. A list stores No. of incoming edges of each vertex\n",
    "    inDegrees = [0] * numNodes\n",
    "    for v1, v2 in edgesList:\n",
    "        # v2v1 form a directed edge\n",
    "        inDegrees[v1] += 1\n",
    "    print(inDegrees)\n",
    "    # 2. a queue of all vertices with no incoming edge\n",
    "    # at least one such node must exist in a non-empty acyclic graph\n",
    "    # vertices in this queue have the same order as the eventual topological\n",
    "    # sort\n",
    "    queue = []\n",
    "    for v in range(numNodes):\n",
    "        if inDegrees[v] == 0:\n",
    "            queue.append(v)\n",
    "    print(\"queue\",queue)\n",
    "    # initialize count of visited vertices\n",
    "    count = 0\n",
    "    # an empty list that will contain the final topological order\n",
    "    topoOrder = []\n",
    "\n",
    "    while queue:\n",
    "        # a. pop a vertex from front of queue\n",
    "        # depending on the order that vertices are removed from queue,\n",
    "        # a different solution is created\n",
    "        v = queue.pop(0)\n",
    "        # print(v)\n",
    "        # b. append it to topoOrder\n",
    "        topoOrder.append(v)\n",
    "        \n",
    "        # increase count by 1\n",
    "        count += 1\n",
    "        # print(topoOrder,count)\n",
    "        # for each descendant of current vertex, reduce its in-degree by 1\n",
    "        for des in adjList[v]:\n",
    "            inDegrees[des] -= 1\n",
    "            # if in-degree becomes 0, add it to queue\n",
    "            if inDegrees[des] == 0:\n",
    "                queue.append(des)\n",
    "            print(queue)\n",
    "            print(inDegrees)\n",
    "    print(count)\n",
    "    print(topoOrder)\n",
    "    if count != numNodes:\n",
    "        return None  # graph has at least one cycle\n",
    "    else:\n",
    "        return topoOrder\n",
    "\n",
    "def canFinish(numCourses: int, prerequisites: list[list[int]]) -> bool:\n",
    "    return True if topoBFS(numCourses, prerequisites) else False\n",
    "\n",
    "nums=5\n",
    "pairs = [[1,0],[2,3],[2,1],[2,0],[3,4]]\n",
    "canFinish(nums, pairs)"
   ]
  },
  {
   "cell_type": "code",
   "execution_count": 442,
   "metadata": {},
   "outputs": [
    {
     "name": "stdout",
     "output_type": "stream",
     "text": [
      "[[1, 2], [2], [0], [2], [3]]\n",
      "[4]\n",
      "[1, 1, 3, 1, 0]\n",
      "[] [1, 1, 2, 0, 0]\n",
      "[4, 3]\n",
      "2\n"
     ]
    },
    {
     "data": {
      "text/plain": [
       "False"
      ]
     },
     "execution_count": 442,
     "metadata": {},
     "output_type": "execute_result"
    }
   ],
   "source": [
    "def bfs(nums, pairs):\n",
    "    lis_pair = [[] for _ in range(nums)]\n",
    "    queue=[]\n",
    "    nodes = [0]*nums\n",
    "    topo=[]\n",
    "    for a,b in pairs:\n",
    "        lis_pair[b].append(a)\n",
    "        nodes[a]+=1\n",
    "    print(lis_pair)\n",
    "    # print(lis_pair)\n",
    "    # for a,b in pairs:\n",
    "    #     nodes[a]+=1\n",
    "    for i in range(len(nodes)):\n",
    "        if nodes[i]==0:\n",
    "            queue.append(i)\n",
    "    print(queue)\n",
    "    print(nodes)\n",
    "    count=0\n",
    "    while queue:\n",
    "        v = queue.pop(0)\n",
    "        topo.append(v)\n",
    "        count+=1\n",
    "        for next_node in lis_pair[v]:\n",
    "            nodes[next_node]-=1\n",
    "            if nodes[next_node]==0:\n",
    "                queue.append(next_node)\n",
    "\n",
    "    print(queue,nodes)\n",
    "    print(topo)\n",
    "    print(count)\n",
    "    if count == nums:\n",
    "        return True\n",
    "    else:\n",
    "        return False\n",
    "\n",
    "\n",
    "nums=5\n",
    "pairs = [[1,0],[2,3],[2,1],[2,0],[3,4],[0,2]]\n",
    "bfs(nums, pairs)"
   ]
  },
  {
   "cell_type": "code",
   "execution_count": 441,
   "metadata": {},
   "outputs": [
    {
     "name": "stdout",
     "output_type": "stream",
     "text": [
      "[[1], [0]]\n",
      "[]\n",
      "[1, 1]\n",
      "[] [1, 1]\n",
      "[]\n",
      "0\n"
     ]
    },
    {
     "data": {
      "text/plain": [
       "False"
      ]
     },
     "execution_count": 441,
     "metadata": {},
     "output_type": "execute_result"
    }
   ],
   "source": [
    "\n",
    "nums=2\n",
    "pairs = [[1,0],[0,1]]\n",
    "bfs(nums, pairs)"
   ]
  },
  {
   "cell_type": "code",
   "execution_count": 443,
   "metadata": {},
   "outputs": [],
   "source": [
    "import bisect"
   ]
  },
  {
   "cell_type": "code",
   "execution_count": 445,
   "metadata": {},
   "outputs": [
    {
     "data": {
      "text/plain": [
       "[1, 3, 5, 7]"
      ]
     },
     "execution_count": 445,
     "metadata": {},
     "output_type": "execute_result"
    }
   ],
   "source": [
    " def lengthOfLIS(nums: list[int]) -> int:\n",
    "    arr = [nums.pop(0)]                  # <-- 1) initial step\n",
    "\n",
    "    for n in nums:                       # <-- 2) iterate through nums\n",
    "        \n",
    "        if n > arr[-1]:                  # <--    2a)\n",
    "            arr.append(n)\n",
    "\n",
    "        else:                            # <--    2b)\n",
    "            arr[bisect.bisect_left(arr, n)] = n \n",
    "\n",
    "    return arr\n",
    "nums=[1,8,4,5,3,7]\n",
    "lengthOfLIS(nums)"
   ]
  },
  {
   "cell_type": "code",
   "execution_count": 466,
   "metadata": {},
   "outputs": [
    {
     "name": "stdout",
     "output_type": "stream",
     "text": [
      "[1, 8, 40, 50, 4, 5, 3, 7]\n",
      "[0, 0, 0, 0, 0, 0, 0, 0]\n",
      "[1, 0, 0, 0, 0, 0, 0, 0]\n",
      "0 0 1\n",
      "tailsMid 1\n",
      "[1, 8, 0, 0, 0, 0, 0, 0]\n",
      "0 1 2\n",
      "tailsMid 8\n",
      "[1, 8, 40, 0, 0, 0, 0, 0]\n",
      "0 1 3\n",
      "tailsMid 8\n",
      "2 2 3\n",
      "tailsMid 40\n",
      "[1, 8, 40, 50, 0, 0, 0, 0]\n",
      "0 2 4\n",
      "tailsMid 40\n",
      "0 1 2\n",
      "tailsMid 8\n",
      "0 0 1\n",
      "tailsMid 1\n",
      "[1, 4, 40, 50, 0, 0, 0, 0]\n",
      "0 2 4\n",
      "tailsMid 40\n",
      "0 1 2\n",
      "tailsMid 4\n",
      "[1, 4, 5, 50, 0, 0, 0, 0]\n",
      "0 2 4\n",
      "tailsMid 5\n",
      "0 1 2\n",
      "tailsMid 4\n",
      "0 0 1\n",
      "tailsMid 1\n",
      "[1, 3, 5, 50, 0, 0, 0, 0]\n",
      "0 2 4\n",
      "tailsMid 5\n",
      "3 3 4\n",
      "tailsMid 50\n"
     ]
    },
    {
     "data": {
      "text/plain": [
       "4"
      ]
     },
     "execution_count": 466,
     "metadata": {},
     "output_type": "execute_result"
    }
   ],
   "source": [
    "def lengthOfLIS(nums):\n",
    "    print(nums)\n",
    "    tails = [0]*len(nums)\n",
    "    result = 0\n",
    "    for num in nums:\n",
    "        l,r = 0,result\n",
    "        print(tails)\n",
    "        while l!=r:\n",
    "            mid = (l+r)//2\n",
    "            print(l,mid,r)\n",
    "            print(\"tailsMid\",tails[mid])\n",
    "            if tails[mid]<num:\n",
    "                l = mid+1\n",
    "            else:\n",
    "                r=mid\n",
    "        # print(result,l+1)\n",
    "        result = max(result,l+1)\n",
    "        tails[l] = num\n",
    "    return result\n",
    "nums=[1,8,40,50,4,5,3,7]\n",
    "lengthOfLIS(nums)"
   ]
  },
  {
   "cell_type": "code",
   "execution_count": 495,
   "metadata": {},
   "outputs": [
    {
     "name": "stdout",
     "output_type": "stream",
     "text": [
      "[10, 0, 0, 0, 0, 0, 0, 0]\n",
      "0 1\n",
      "9 0 10\n",
      "[10, 9, 0, 0, 0, 0, 0, 0]\n",
      "0 2\n",
      "2 1 9\n",
      "[10, 9, 2, 0, 0, 0, 0, 0]\n",
      "0 3\n",
      "5 1 9\n",
      "2 3\n",
      "5 2 2\n",
      "[10, 9, 5, 0, 0, 0, 0, 0]\n",
      "0 3\n",
      "3 1 9\n",
      "2 3\n",
      "3 2 5\n",
      "[10, 9, 5, 3, 0, 0, 0, 0]\n",
      "0 4\n",
      "7 2 5\n",
      "0 2\n",
      "7 1 9\n",
      "[10, 9, 7, 3, 0, 0, 0, 0]\n",
      "0 4\n",
      "101 2 7\n",
      "0 2\n",
      "101 1 9\n",
      "0 1\n",
      "101 0 10\n",
      "[101, 9, 7, 3, 0, 0, 0, 0]\n",
      "0 4\n",
      "18 2 7\n",
      "0 2\n",
      "18 1 9\n",
      "0 1\n",
      "18 0 101\n",
      "[101, 18, 7, 3, 0, 0, 0, 0]\n"
     ]
    },
    {
     "data": {
      "text/plain": [
       "4"
      ]
     },
     "execution_count": 495,
     "metadata": {},
     "output_type": "execute_result"
    }
   ],
   "source": [
    "def lengthOfLIS(nums):\n",
    "    lis = [0]*len(nums)\n",
    "    lenn = 0\n",
    "    for num in nums:\n",
    "        l,r=0,lenn\n",
    "        while l!=r:\n",
    "            #5>2\n",
    "            mid = (l+r)//2\n",
    "            print(l,r)\n",
    "            print(num, mid,lis[mid])\n",
    "            if num < lis[mid]:\n",
    "                l = mid+1\n",
    "                # print(l)\n",
    "            else:\n",
    "                r = mid\n",
    "        lis[l] = num\n",
    "        lenn = max(lenn,l+1)\n",
    "        print(lis)\n",
    "    return lenn\n",
    "\n",
    "nums=[10,9,2,5,3,7,101,18]\n",
    "lengthOfLIS(nums)"
   ]
  },
  {
   "cell_type": "code",
   "execution_count": 503,
   "metadata": {},
   "outputs": [
    {
     "data": {
      "text/plain": [
       "4"
      ]
     },
     "execution_count": 503,
     "metadata": {},
     "output_type": "execute_result"
    }
   ],
   "source": [
    "def search(nums: list[int], target: int) -> int:\n",
    "    l=0\n",
    "    r=len(nums)-1\n",
    "\n",
    "    for i in range(len(nums)):\n",
    "        mid = (l+r)//2\n",
    "        if nums[mid]==target:\n",
    "            return mid\n",
    "        if nums[mid] > nums[r]:\n",
    "            if nums[l] <= target < nums[mid]:\n",
    "                r = mid\n",
    "            else:\n",
    "                l = mid+1\n",
    "        else: #[4,5,6,0,*1*,2,3]\n",
    "            if nums[mid] < target <= nums[r]:\n",
    "                l = mid+1\n",
    "            else:\n",
    "                r = mid\n",
    "    return -1\n",
    "nums = [4,5,6,7,1,2,3]\n",
    "target = 1\n",
    "search(nums,target)"
   ]
  },
  {
   "cell_type": "code",
   "execution_count": 561,
   "metadata": {},
   "outputs": [
    {
     "data": {
      "text/plain": [
       "0"
      ]
     },
     "execution_count": 561,
     "metadata": {},
     "output_type": "execute_result"
    }
   ],
   "source": [
    "def longestIncreasingPath( matrix: list[list[int]]) -> int:\n",
    "    m = len(matrix)\n",
    "    n = len(matrix[0])\n",
    "    maxx=0\n",
    "    dp = {(i,j):0 for i in range(n) for j in range(m)}\n",
    "    def findincreasing(i,j,stack):\n",
    "        if i<0 or i>=m or j<0 or j>=n :\n",
    "            # print(stack)\n",
    "            return 0\n",
    "        # print(stack)\n",
    "\n",
    "        if len(stack)==0 or matrix[i][j] > stack[-1]:\n",
    "            if dp[(i,j)] !=0 :\n",
    "                return dp[(i,j)]+len(stack)\n",
    "            stack.append(matrix[i][j])\n",
    "            # visited =set()\n",
    "            matrix[i][j] = -1\n",
    "            max_len = max(findincreasing(i+1,j,stack),\n",
    "                        findincreasing(i-1,j,stack),\n",
    "                        findincreasing(i,j-1,stack),\n",
    "                        findincreasing(i,j+1,stack)\n",
    "                        )\n",
    "            \n",
    "            matrix[i][j] = stack.pop()\n",
    "\n",
    "            return max_len\n",
    "        else:\n",
    "            # print(stack)\n",
    "            \n",
    "            return len(stack)\n",
    "\n",
    "    for i in range(m):\n",
    "        for j in range(n):\n",
    "            lenght = findincreasing(i,j,[])\n",
    "            maxx = max(maxx,lenght)\n",
    "            dp[(i,j)] = lenght\n",
    "    # print(dp)\n",
    "    return maxx\n",
    "\n",
    "matrix = [[1]]\n",
    "longestIncreasingPath(matrix)"
   ]
  },
  {
   "cell_type": "code",
   "execution_count": 558,
   "metadata": {},
   "outputs": [
    {
     "data": {
      "text/plain": [
       "0"
      ]
     },
     "execution_count": 558,
     "metadata": {},
     "output_type": "execute_result"
    }
   ],
   "source": [
    "def longestIncreasingPath( matrix: list[list[int]]) -> int:\n",
    "    if not matrix:\n",
    "        return 0\n",
    "    rows,cols = len(matrix),len(matrix[0])\n",
    "    direction = ((0,1),(0,-1),(1,0),(-1,0))\n",
    "    visited = [[-1]*cols for _ in range(rows)]\n",
    "    res=0\n",
    "    def dfs(i,j):\n",
    "        if visited[i][j] !=-1:\n",
    "            return visited[i][j]\n",
    "        res=1\n",
    "        for direct in direction:\n",
    "            next_i,next_j = i+direct[0],j+direct[1]\n",
    "            direction_count = 0\n",
    "            if 0<=next_i< rows and 0<=next_j<cols:\n",
    "                if matrix[i][j] < matrix[next_i][next_j]:\n",
    "                    direction_count = 1 + dfs(next_i,next_j)\n",
    "            res = max(res,direction_count)\n",
    "\n",
    "        visited[i][j] = res\n",
    "        return res\n",
    "    for row in range(rows):\n",
    "        for col in range(cols):\n",
    "            res = max(dfs(i,j),res)\n",
    "    return res"
   ]
  },
  {
   "cell_type": "code",
   "execution_count": null,
   "metadata": {},
   "outputs": [],
   "source": []
  }
 ],
 "metadata": {
  "kernelspec": {
   "display_name": "dsci3.9",
   "language": "python",
   "name": "dsci3.9"
  },
  "language_info": {
   "codemirror_mode": {
    "name": "ipython",
    "version": 3
   },
   "file_extension": ".py",
   "mimetype": "text/x-python",
   "name": "python",
   "nbconvert_exporter": "python",
   "pygments_lexer": "ipython3",
   "version": "3.9.7"
  },
  "orig_nbformat": 4,
  "vscode": {
   "interpreter": {
    "hash": "7ac957337c9fd237ff92e47b7c71cd13d4ee0b0281ffd2b944ead83c806be66b"
   }
  }
 },
 "nbformat": 4,
 "nbformat_minor": 2
}
