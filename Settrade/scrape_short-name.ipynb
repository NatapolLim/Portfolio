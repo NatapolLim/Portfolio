{
 "cells": [
  {
   "cell_type": "code",
   "execution_count": 84,
   "metadata": {},
   "outputs": [],
   "source": [
    "import requests\n",
    "import urllib.parse\n",
    "from bs4 import BeautifulSoup\n",
    "import scrapy\n",
    "from time import sleep\n",
    "import copy\n",
    "\n",
    "import pandas as pd"
   ]
  },
  {
   "cell_type": "code",
   "execution_count": 80,
   "metadata": {},
   "outputs": [
    {
     "name": "stdout",
     "output_type": "stream",
     "text": [
      "200 OK\n"
     ]
    }
   ],
   "source": [
    "# web = \"https://www.settrade.com/th/get-quote\"\n",
    "# response = requests.get(web)\n",
    "# print(response.status_code, response.reason)\n",
    "# html = response.text\n",
    "# soup = BeautifulSoup(html, 'html.parser')"
   ]
  },
  {
   "cell_type": "code",
   "execution_count": 34,
   "metadata": {},
   "outputs": [],
   "source": [
    "with open('html.txt','r') as html:\n",
    "    text = html.readlines()\n",
    "    all_text = \"\".join(text)"
   ]
  },
  {
   "cell_type": "code",
   "execution_count": 36,
   "metadata": {},
   "outputs": [],
   "source": [
    "soup = BeautifulSoup(all_text, 'html.parser')"
   ]
  },
  {
   "cell_type": "code",
   "execution_count": 119,
   "metadata": {},
   "outputs": [],
   "source": [
    "data = {\"name\":[], \"company_name_th\":[],\"company_name_en\":[], \"market\":[]}\n",
    "\n",
    "def scrape_company_in_market():\n",
    "    rows = soup.select(\"#table-w1rjpmog15 > tbody > tr\")\n",
    "    for row in rows:\n",
    "        data_row=row.text.split('\\n')\n",
    "        _,n,_,c_n_th,_,c_n_en,_,m,_ = [d.strip() for d in data_row]\n",
    "        data['name'].append(n)\n",
    "        data['company_name_th'].append(c_n_th)\n",
    "        data['company_name_en'].append(c_n_en)\n",
    "        data['market'].append(m)\n",
    "\n",
    "    df = pd.DataFrame(data)\n",
    "    \n",
    "    return df\n"
   ]
  },
  {
   "cell_type": "code",
   "execution_count": 120,
   "metadata": {},
   "outputs": [
    {
     "data": {
      "text/html": [
       "<div>\n",
       "<style scoped>\n",
       "    .dataframe tbody tr th:only-of-type {\n",
       "        vertical-align: middle;\n",
       "    }\n",
       "\n",
       "    .dataframe tbody tr th {\n",
       "        vertical-align: top;\n",
       "    }\n",
       "\n",
       "    .dataframe thead th {\n",
       "        text-align: right;\n",
       "    }\n",
       "</style>\n",
       "<table border=\"1\" class=\"dataframe\">\n",
       "  <thead>\n",
       "    <tr style=\"text-align: right;\">\n",
       "      <th></th>\n",
       "      <th>name</th>\n",
       "      <th>company_name_th</th>\n",
       "      <th>company_name_en</th>\n",
       "      <th>market</th>\n",
       "    </tr>\n",
       "  </thead>\n",
       "  <tbody>\n",
       "    <tr>\n",
       "      <th>0</th>\n",
       "      <td>2S</td>\n",
       "      <td>บริษัท 2 เอส เมทัล จำกัด (มหาชน)</td>\n",
       "      <td>2S METAL PUBLIC COMPANY LIMITED</td>\n",
       "      <td>SET</td>\n",
       "    </tr>\n",
       "    <tr>\n",
       "      <th>1</th>\n",
       "      <td>3K-BAT</td>\n",
       "      <td>บริษัท ไทย เอ็นเนอร์จี สโตเรจ เทคโนโลยี จำกัด ...</td>\n",
       "      <td>THAI ENERGY STORAGE TECHNOLOGY PUBLIC COMPANY ...</td>\n",
       "      <td>SET</td>\n",
       "    </tr>\n",
       "    <tr>\n",
       "      <th>2</th>\n",
       "      <td>7UP</td>\n",
       "      <td>บริษัท เซเว่น ยูทิลิตี้ส์ แอนด์ พาวเวอร์ จำกัด...</td>\n",
       "      <td>SEVEN UTILITIES AND POWER PUBLIC COMPANY LIMITED</td>\n",
       "      <td>SET</td>\n",
       "    </tr>\n",
       "    <tr>\n",
       "      <th>3</th>\n",
       "      <td>24CS</td>\n",
       "      <td>บริษัท ทเวนตี้ โฟร์ คอน แอนด์ ซัพพลาย จำกัด (ม...</td>\n",
       "      <td>Twenty-Four Con &amp; Supply Public Company Limited</td>\n",
       "      <td>mai</td>\n",
       "    </tr>\n",
       "    <tr>\n",
       "      <th>4</th>\n",
       "      <td>A</td>\n",
       "      <td>บริษัท อารียา พรอพเพอร์ตี้ จำกัด (มหาชน)</td>\n",
       "      <td>AREEYA PROPERTY PUBLIC COMPANY LIMITED</td>\n",
       "      <td>SET</td>\n",
       "    </tr>\n",
       "    <tr>\n",
       "      <th>...</th>\n",
       "      <td>...</td>\n",
       "      <td>...</td>\n",
       "      <td>...</td>\n",
       "      <td>...</td>\n",
       "    </tr>\n",
       "    <tr>\n",
       "      <th>866</th>\n",
       "      <td>YGG</td>\n",
       "      <td>บริษัท อิ๊กดราซิล กรุ๊ป จำกัด (มหาชน)</td>\n",
       "      <td>YGGDRAZIL GROUP PUBLIC COMPANY LIMITED</td>\n",
       "      <td>mai</td>\n",
       "    </tr>\n",
       "    <tr>\n",
       "      <th>867</th>\n",
       "      <td>YONG</td>\n",
       "      <td>บริษัท ยงคอนกรีต จำกัด (มหาชน)</td>\n",
       "      <td>Yong Concrete Public Company Limited</td>\n",
       "      <td>mai</td>\n",
       "    </tr>\n",
       "    <tr>\n",
       "      <th>868</th>\n",
       "      <td>YUASA</td>\n",
       "      <td>บริษัท ยัวซ่าแบตเตอรี่ ประเทศไทย จำกัด (มหาชน)</td>\n",
       "      <td>YUASA BATTERY (THAILAND) PUBLIC COMPANY LIMITED</td>\n",
       "      <td>mai</td>\n",
       "    </tr>\n",
       "    <tr>\n",
       "      <th>869</th>\n",
       "      <td>ZEN</td>\n",
       "      <td>บริษัท เซ็น คอร์ปอเรชั่น กรุ๊ป จำกัด (มหาชน)</td>\n",
       "      <td>ZEN CORPORATION GROUP PUBLIC COMPANY LIMITED</td>\n",
       "      <td>SET</td>\n",
       "    </tr>\n",
       "    <tr>\n",
       "      <th>870</th>\n",
       "      <td>ZIGA</td>\n",
       "      <td>บริษัท ซิก้า อินโนเวชั่น จำกัด (มหาชน)</td>\n",
       "      <td>ZIGA INNOVATION PUBLIC COMPANY LIMITED</td>\n",
       "      <td>mai</td>\n",
       "    </tr>\n",
       "  </tbody>\n",
       "</table>\n",
       "<p>871 rows × 4 columns</p>\n",
       "</div>"
      ],
      "text/plain": [
       "       name                                    company_name_th  \\\n",
       "0        2S                   บริษัท 2 เอส เมทัล จำกัด (มหาชน)   \n",
       "1    3K-BAT  บริษัท ไทย เอ็นเนอร์จี สโตเรจ เทคโนโลยี จำกัด ...   \n",
       "2       7UP  บริษัท เซเว่น ยูทิลิตี้ส์ แอนด์ พาวเวอร์ จำกัด...   \n",
       "3      24CS  บริษัท ทเวนตี้ โฟร์ คอน แอนด์ ซัพพลาย จำกัด (ม...   \n",
       "4         A           บริษัท อารียา พรอพเพอร์ตี้ จำกัด (มหาชน)   \n",
       "..      ...                                                ...   \n",
       "866     YGG              บริษัท อิ๊กดราซิล กรุ๊ป จำกัด (มหาชน)   \n",
       "867    YONG                     บริษัท ยงคอนกรีต จำกัด (มหาชน)   \n",
       "868   YUASA     บริษัท ยัวซ่าแบตเตอรี่ ประเทศไทย จำกัด (มหาชน)   \n",
       "869     ZEN       บริษัท เซ็น คอร์ปอเรชั่น กรุ๊ป จำกัด (มหาชน)   \n",
       "870    ZIGA             บริษัท ซิก้า อินโนเวชั่น จำกัด (มหาชน)   \n",
       "\n",
       "                                       company_name_en market  \n",
       "0                      2S METAL PUBLIC COMPANY LIMITED    SET  \n",
       "1    THAI ENERGY STORAGE TECHNOLOGY PUBLIC COMPANY ...    SET  \n",
       "2     SEVEN UTILITIES AND POWER PUBLIC COMPANY LIMITED    SET  \n",
       "3      Twenty-Four Con & Supply Public Company Limited    mai  \n",
       "4               AREEYA PROPERTY PUBLIC COMPANY LIMITED    SET  \n",
       "..                                                 ...    ...  \n",
       "866             YGGDRAZIL GROUP PUBLIC COMPANY LIMITED    mai  \n",
       "867               Yong Concrete Public Company Limited    mai  \n",
       "868    YUASA BATTERY (THAILAND) PUBLIC COMPANY LIMITED    mai  \n",
       "869       ZEN CORPORATION GROUP PUBLIC COMPANY LIMITED    SET  \n",
       "870             ZIGA INNOVATION PUBLIC COMPANY LIMITED    mai  \n",
       "\n",
       "[871 rows x 4 columns]"
      ]
     },
     "execution_count": 120,
     "metadata": {},
     "output_type": "execute_result"
    }
   ],
   "source": [
    "df = scrape_company_in_market()\n",
    "df"
   ]
  },
  {
   "cell_type": "code",
   "execution_count": 127,
   "metadata": {},
   "outputs": [],
   "source": [
    "df.to_csv(\"Dataset/company_name.csv\")"
   ]
  },
  {
   "cell_type": "code",
   "execution_count": null,
   "metadata": {},
   "outputs": [],
   "source": []
  }
 ],
 "metadata": {
  "kernelspec": {
   "display_name": "Python 3.9.15 ('den')",
   "language": "python",
   "name": "python3"
  },
  "language_info": {
   "codemirror_mode": {
    "name": "ipython",
    "version": 3
   },
   "file_extension": ".py",
   "mimetype": "text/x-python",
   "name": "python",
   "nbconvert_exporter": "python",
   "pygments_lexer": "ipython3",
   "version": "3.9.15"
  },
  "orig_nbformat": 4,
  "vscode": {
   "interpreter": {
    "hash": "13636e1a8aef91d94c5b3128ed10a50f78ce665e1ee292f2e6504633a5db94ea"
   }
  }
 },
 "nbformat": 4,
 "nbformat_minor": 2
}
